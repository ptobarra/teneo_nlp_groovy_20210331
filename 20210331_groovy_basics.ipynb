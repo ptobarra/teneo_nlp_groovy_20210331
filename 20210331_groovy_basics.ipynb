{
  "nbformat": 4,
  "nbformat_minor": 5,
  "metadata": {
    "kernelspec": {
      "display_name": "Groovy",
      "language": "groovy",
      "name": "groovy"
    },
    "language_info": {
      "codemirror_mode": "groovy",
      "file_extension": ".groovy",
      "mimetype": "",
      "name": "Groovy",
      "nbconverter_exporter": "",
      "version": "2.5.6"
    },
    "toc": {
      "base_numbering": 1,
      "nav_menu": {},
      "number_sections": false,
      "sideBar": false,
      "skip_h1_title": false,
      "title_cell": "Table of Contents",
      "title_sidebar": "Contents",
      "toc_cell": false,
      "toc_position": {},
      "toc_section_display": false,
      "toc_window_display": false
    },
    "colab": {
      "name": "20210331_groovy_basics.ipynb",
      "provenance": [],
      "include_colab_link": true
    }
  },
  "cells": [
    {
      "cell_type": "markdown",
      "metadata": {
        "id": "view-in-github",
        "colab_type": "text"
      },
      "source": [
        "<a href=\"https://colab.research.google.com/github/ptobarra/teneo_nlp_groovy_20210331/blob/main/20210331_groovy_basics.ipynb\" target=\"_parent\"><img src=\"https://colab.research.google.com/assets/colab-badge.svg\" alt=\"Open In Colab\"/></a>"
      ]
    },
    {
      "cell_type": "code",
      "metadata": {
        "id": "postal-procedure"
      },
      "source": [
        "// Groovy Tutorial for Java Developers – Part 1: The Basics"
      ],
      "id": "postal-procedure",
      "execution_count": null,
      "outputs": []
    },
    {
      "cell_type": "code",
      "metadata": {
        "id": "accredited-avenue",
        "outputId": "97e9f4db-3ff6-40a4-a06f-817411b73a01"
      },
      "source": [
        "\"\"\"\n",
        "Groovy basics\n",
        "\n",
        "Scripts in Teneo are written in Groovy or Java code. Apache Groovy is similar to Java but with an easier to learn syntax. \n",
        "More details on Groovy can be found here: http://groovy-lang.org. An overview of the differences between Groovy and Java can be found here: \n",
        "Differences with Java.\n",
        "\n",
        "https://developers.artificial-solutions.com/studio/scripting/concepts/groovy\n",
        "\"\"\""
      ],
      "id": "accredited-avenue",
      "execution_count": null,
      "outputs": [
        {
          "output_type": "execute_result",
          "data": {
            "text/plain": [
              "\n",
              "Groovy basics\n",
              "\n",
              "Scripts in Teneo are written in Groovy or Java code. Apache Groovy is similar to Java but with an easier to learn syntax.\n",
              "More details on Groovy can be found here: http://groovy-lang.org. An overview of the differences between Groovy and Java can be found here:\n",
              "Differences with Java.\n",
              "\n",
              "https://developers.artificial-solutions.com/studio/scripting/concepts/groovy\n"
            ]
          },
          "metadata": {
            "tags": []
          },
          "execution_count": 1
        }
      ]
    },
    {
      "cell_type": "code",
      "metadata": {
        "id": "grateful-discovery",
        "outputId": "a91b0995-5c59-411a-9c19-920f997ff6d7"
      },
      "source": [
        "// To print something to the Engine Ouput panel in tryout (and the console.log) use:\n",
        "// As you can see you don't need semi-colons to end statements in Groovy.\n",
        "\n",
        "println \"Hello world!\""
      ],
      "id": "grateful-discovery",
      "execution_count": null,
      "outputs": [
        {
          "output_type": "stream",
          "text": [
            "Hello world!\n"
          ],
          "name": "stdout"
        },
        {
          "output_type": "execute_result",
          "data": {
            "text/plain": [
              "null"
            ]
          },
          "metadata": {
            "tags": []
          },
          "execution_count": 2
        }
      ]
    },
    {
      "cell_type": "code",
      "metadata": {
        "id": "crazy-gabriel",
        "outputId": "961d4636-fd83-4dca-8e97-3f07baf0a1b9"
      },
      "source": [
        "// Variables: In Groovy you can use dynamic typing. You use the keyword def to define a variable.\n",
        "\n",
        "def x = true\n",
        "println x.getClass()\n",
        "\n",
        "x = 42\n",
        "println x.getClass()\n",
        "\n",
        "x = \"Hello World\"\n",
        "println x.getClass()"
      ],
      "id": "crazy-gabriel",
      "execution_count": null,
      "outputs": [
        {
          "output_type": "stream",
          "text": [
            "class java.lang.Boolean\n",
            "class java.lang.Integer\n",
            "class java.lang.String\n"
          ],
          "name": "stdout"
        },
        {
          "output_type": "execute_result",
          "data": {
            "text/plain": [
              "null"
            ]
          },
          "metadata": {
            "tags": []
          },
          "execution_count": 3
        }
      ]
    },
    {
      "cell_type": "code",
      "metadata": {
        "id": "historical-norwegian",
        "outputId": "55e35536-79b5-4a09-a033-8add6498d97f"
      },
      "source": [
        "//Strings: When using single quotes, you will use a standard Java String:\n",
        "\n",
        "def name = 'Dave'\n",
        "println 'Hello, ' + name + '. You\\'re looking well today.'"
      ],
      "id": "historical-norwegian",
      "execution_count": null,
      "outputs": [
        {
          "output_type": "stream",
          "text": [
            "Hello, Dave. You're looking well today.\n"
          ],
          "name": "stdout"
        },
        {
          "output_type": "execute_result",
          "data": {
            "text/plain": [
              "null"
            ]
          },
          "metadata": {
            "tags": []
          },
          "execution_count": 4
        }
      ]
    },
    {
      "cell_type": "code",
      "metadata": {
        "id": "common-sullivan",
        "outputId": "c64bfe2a-cc51-49d2-cace-c6701c3588d7"
      },
      "source": [
        "// Substrings\n",
        "\n",
        "def text = \"Hunky dory!\"\n",
        "def name = text[0..4]\n",
        "println name"
      ],
      "id": "common-sullivan",
      "execution_count": null,
      "outputs": [
        {
          "output_type": "stream",
          "text": [
            "Hunky\n"
          ],
          "name": "stdout"
        },
        {
          "output_type": "execute_result",
          "data": {
            "text/plain": [
              "null"
            ]
          },
          "metadata": {
            "tags": []
          },
          "execution_count": 5
        }
      ]
    },
    {
      "cell_type": "code",
      "metadata": {
        "id": "interested-annotation",
        "outputId": "91af6a49-8e68-4058-89f2-36e1770aeae5"
      },
      "source": [
        "// Other example:\n",
        "\n",
        "def text = \"Hunky dory!\"\n",
        "def name = text[-5..-2]\n",
        "println name"
      ],
      "id": "interested-annotation",
      "execution_count": null,
      "outputs": [
        {
          "output_type": "stream",
          "text": [
            "dory\n"
          ],
          "name": "stdout"
        },
        {
          "output_type": "execute_result",
          "data": {
            "text/plain": [
              "null"
            ]
          },
          "metadata": {
            "tags": []
          },
          "execution_count": 6
        }
      ]
    },
    {
      "cell_type": "code",
      "metadata": {
        "id": "broke-regular",
        "outputId": "65bb661c-c780-4658-faac-079579653f18"
      },
      "source": [
        "\"\"\"\n",
        "The Groovy Truth\n",
        "Groovy evaluates every object to a boolean value if required (also know as the Implicit Truth):\n",
        "\n",
        "if (\"hunky dory\") ...\n",
        "if (42) ...\n",
        "if (someObject) ...\n",
        "\n",
        "- Strings: If empty false, otherwise true\n",
        "- Collections and Maps: true if they are not empty\n",
        "- Numbers: true if non-zero\n",
        "- Object references: true if they aren't null\n",
        "\n",
        "For more details: Groovy Truth\n",
        "\"\"\""
      ],
      "id": "broke-regular",
      "execution_count": null,
      "outputs": [
        {
          "output_type": "execute_result",
          "data": {
            "text/plain": [
              "\n",
              "The Groovy Truth\n",
              "Groovy evaluates every object to a boolean value if required (also know as the Implicit Truth):\n",
              "\n",
              "if (\"hunky dory\") ...\n",
              "if (42) ...\n",
              "if (someObject) ...\n",
              "\n",
              "- Strings: If empty false, otherwise true\n",
              "- Collections and Maps: true if they are not empty\n",
              "- Numbers: true if non-zero\n",
              "- Object references: true if they aren't null\n",
              "\n",
              "For more details: Groovy Truth\n"
            ]
          },
          "metadata": {
            "tags": []
          },
          "execution_count": 7
        }
      ]
    },
    {
      "cell_type": "code",
      "metadata": {
        "id": "engaging-tribe",
        "outputId": "5b2b3324-720d-463b-8ee1-f007b2e35da5"
      },
      "source": [
        "\"\"\"\n",
        "Operators\n",
        "Safe Navigation Operator\n",
        "The Safe Navigation operator is used to avoid a NullPointerException. Typically when you have a reference to an object you might need to verify that it\n",
        "is not null before accessing methods or properties of the object. In Java it would look something like this:\n",
        "\n",
        "if (order.getContact() != null && order.getContact().getAddress() != null) { \n",
        "    System.out.println(order.getContact().getAddress());\n",
        "}\n",
        "\n",
        "In Groovy:\n",
        "\"\"\"\n",
        "\n",
        "println  order?.getContact()?.getAddress()"
      ],
      "id": "engaging-tribe",
      "execution_count": null,
      "outputs": [
        {
          "output_type": "error",
          "ename": "groovy.lang.MissingPropertyException",
          "evalue": " No such property",
          "traceback": [
            "\u001b[1;31mgroovy.lang.MissingPropertyException: No such property: order for class: script1617205159795\u001b[0;0m",
            "\u001b[1;31m\tat this cell line 14\u001b[0;0m",
            "\u001b[0;31m\tat com.twosigma.beakerx.groovy.evaluator.GroovyCodeRunner.runScript(GroovyCodeRunner.java:94)\u001b[0;0m",
            "\u001b[0;31m\tat com.twosigma.beakerx.groovy.evaluator.GroovyCodeRunner.call(GroovyCodeRunner.java:59)\u001b[0;0m",
            "\u001b[0;31m\tat com.twosigma.beakerx.groovy.evaluator.GroovyCodeRunner.call(GroovyCodeRunner.java:32)\u001b[0;0m"
          ]
        }
      ]
    },
    {
      "cell_type": "code",
      "metadata": {
        "id": "judicial-packet",
        "outputId": "ee354739-d4a2-49be-fb55-7ce549594419"
      },
      "source": [
        "\"\"\"\n",
        "Elvis Operator\n",
        "The \"Elvis operator\" is a shortening of the ternary operator, often used to assign default values. In Java you would use them like this:\n",
        "\n",
        "displayName = user.name ? user.name : 'Anonymous' \n",
        "\n",
        "Using the Elvis operator in Groovy:\n",
        "\"\"\"\n",
        "\n",
        "displayName = user.name ?: 'Anonymous'"
      ],
      "id": "judicial-packet",
      "execution_count": null,
      "outputs": [
        {
          "output_type": "error",
          "ename": "groovy.lang.MissingPropertyException",
          "evalue": " No such property",
          "traceback": [
            "\u001b[1;31mgroovy.lang.MissingPropertyException: No such property: user for class: script1617205160330\u001b[0;0m",
            "\u001b[1;31m\tat this cell line 10\u001b[0;0m",
            "\u001b[0;31m\tat com.twosigma.beakerx.groovy.evaluator.GroovyCodeRunner.runScript(GroovyCodeRunner.java:94)\u001b[0;0m",
            "\u001b[0;31m\tat com.twosigma.beakerx.groovy.evaluator.GroovyCodeRunner.call(GroovyCodeRunner.java:59)\u001b[0;0m",
            "\u001b[0;31m\tat com.twosigma.beakerx.groovy.evaluator.GroovyCodeRunner.call(GroovyCodeRunner.java:32)\u001b[0;0m"
          ]
        }
      ]
    },
    {
      "cell_type": "code",
      "metadata": {
        "id": "third-syndication",
        "outputId": "fb251944-66ce-4417-98c0-b9a22ca6b466"
      },
      "source": [
        "\"\"\"\n",
        "Collections\n",
        "\n",
        "Lists\n",
        "\n",
        "Creating a list:\n",
        "\"\"\"\n",
        "\n",
        "def list = [1,2,2,4,5]"
      ],
      "id": "third-syndication",
      "execution_count": null,
      "outputs": [
        {
          "output_type": "execute_result",
          "data": {
            "text/plain": [
              "[1, 2, 2, 4, 5]"
            ]
          },
          "metadata": {
            "tags": []
          },
          "execution_count": 10
        }
      ]
    },
    {
      "cell_type": "code",
      "metadata": {
        "id": "variable-hopkins",
        "outputId": "797b71e6-e55e-4063-8f40-972b66c786ab"
      },
      "source": [
        "// Accessing elements in the list:\n",
        "list = [1,2,2,4,5]\n",
        "println list[0] // will print out 1 \n",
        "println list[-1] // use negative indexes for access from the end of the list, will print 5"
      ],
      "id": "variable-hopkins",
      "execution_count": null,
      "outputs": [
        {
          "output_type": "stream",
          "text": [
            "1\n",
            "5\n"
          ],
          "name": "stdout"
        },
        {
          "output_type": "execute_result",
          "data": {
            "text/plain": [
              "null"
            ]
          },
          "metadata": {
            "tags": []
          },
          "execution_count": 11
        }
      ]
    },
    {
      "cell_type": "code",
      "metadata": {
        "id": "mineral-birth",
        "outputId": "e5ef0a29-e62d-4fd0-aec4-836b48b06c6a"
      },
      "source": [
        "// Iterating lists:\n",
        "\n",
        "list.each {\n",
        "    println it\n",
        "}"
      ],
      "id": "mineral-birth",
      "execution_count": null,
      "outputs": [
        {
          "output_type": "stream",
          "text": [
            "1\n",
            "2\n",
            "2\n",
            "4\n",
            "5\n"
          ],
          "name": "stdout"
        },
        {
          "output_type": "execute_result",
          "data": {
            "text/plain": [
              "[1, 2, 2, 4, 5]"
            ]
          },
          "metadata": {
            "tags": []
          },
          "execution_count": 12
        }
      ]
    },
    {
      "cell_type": "code",
      "metadata": {
        "id": "continuing-serbia",
        "outputId": "956c3181-1a98-4926-be34-b9fdca008b5e"
      },
      "source": [
        "// or\n",
        "\n",
        "list.each { myNumber ->\n",
        "    println myNumber\n",
        "}"
      ],
      "id": "continuing-serbia",
      "execution_count": null,
      "outputs": [
        {
          "output_type": "stream",
          "text": [
            "1\n",
            "2\n",
            "2\n",
            "4\n",
            "5\n"
          ],
          "name": "stdout"
        },
        {
          "output_type": "execute_result",
          "data": {
            "text/plain": [
              "[1, 2, 2, 4, 5]"
            ]
          },
          "metadata": {
            "tags": []
          },
          "execution_count": 13
        }
      ]
    },
    {
      "cell_type": "code",
      "metadata": {
        "id": "valued-fossil",
        "outputId": "d2470acc-ef21-43b4-bd59-d293324fcf52"
      },
      "source": [
        "// With index:\n",
        "list.eachWithIndex { myNumber,  index ->\n",
        "    println \"$index, $myNumber\"\n",
        "}"
      ],
      "id": "valued-fossil",
      "execution_count": null,
      "outputs": [
        {
          "output_type": "stream",
          "text": [
            "0, 1\n",
            "1, 2\n",
            "2, 2\n",
            "3, 4\n",
            "4, 5\n"
          ],
          "name": "stdout"
        },
        {
          "output_type": "execute_result",
          "data": {
            "text/plain": [
              "[1, 2, 2, 4, 5]"
            ]
          },
          "metadata": {
            "tags": []
          },
          "execution_count": 14
        }
      ]
    },
    {
      "cell_type": "code",
      "metadata": {
        "id": "italian-wiring",
        "outputId": "dbe2e480-6283-4b3e-b030-7dae5b231b53"
      },
      "source": [
        "// Quick way of adding something to a list:\n",
        "\n",
        "list << 6 // list will become [1,2,2,4,5,6]\n",
        "\n",
        "println list"
      ],
      "id": "italian-wiring",
      "execution_count": null,
      "outputs": [
        {
          "output_type": "stream",
          "text": [
            "[1, 2, 2, 4, 5, 6]\n"
          ],
          "name": "stdout"
        },
        {
          "output_type": "execute_result",
          "data": {
            "text/plain": [
              "null"
            ]
          },
          "metadata": {
            "tags": []
          },
          "execution_count": 15
        }
      ]
    },
    {
      "cell_type": "code",
      "metadata": {
        "id": "civilian-national",
        "outputId": "40fde7a3-5aa2-4d19-97fc-811420762389",
        "colab": {
          "referenced_widgets": [
            "6ca65848-bdbb-48ab-8be4-f77358e62a41"
          ]
        }
      },
      "source": [
        "\"\"\"\n",
        "Maps\n",
        "\n",
        "Creating a map:\n",
        "\"\"\"\n",
        "\n",
        "def map = ['key1':'value 1', 'key2':'value 2', 'key3':'value 3']"
      ],
      "id": "civilian-national",
      "execution_count": null,
      "outputs": [
        {
          "output_type": "display_data",
          "data": {
            "application/vnd.jupyter.widget-view+json": {
              "model_id": "6ca65848-bdbb-48ab-8be4-f77358e62a41",
              "version_major": 2,
              "version_minor": 0
            }
          },
          "metadata": {
            "tags": []
          }
        }
      ]
    },
    {
      "cell_type": "code",
      "metadata": {
        "id": "southeast-front",
        "outputId": "e2b9ca95-a23c-41a9-bf66-50ab84530054",
        "colab": {
          "referenced_widgets": [
            "3f3cb05c-d71c-4171-a640-c5d74aa4abd5"
          ]
        }
      },
      "source": [
        "// Other options:\n",
        "\n",
        "def key = 'key3'\n",
        "def map = [\n",
        "  'key1': 'value 1',\n",
        "  key2: 'value 2', // skip the quotes, the key will automatically be a String\n",
        "  (key): 'value 3' // put the key in parentheses if you want to use the value of a variable\n",
        "]"
      ],
      "id": "southeast-front",
      "execution_count": null,
      "outputs": [
        {
          "output_type": "display_data",
          "data": {
            "application/vnd.jupyter.widget-view+json": {
              "model_id": "3f3cb05c-d71c-4171-a640-c5d74aa4abd5",
              "version_major": 2,
              "version_minor": 0
            }
          },
          "metadata": {
            "tags": []
          }
        }
      ]
    },
    {
      "cell_type": "code",
      "metadata": {
        "id": "center-clause",
        "outputId": "65f4a4bf-1fde-4f0a-86ea-a4c2b0f1741f"
      },
      "source": [
        "def map = ['key1':'value 1', 'key2':'value 2', 'key3':'value 3']\n",
        "def key = 'key3'\n",
        "\n",
        "// Accessing the map:\n",
        "\n",
        "println map['key1']\n",
        "println map.key1\n",
        "println map[key] // access the entry with the value of key variable\n",
        "println map.get(key) // using the get method with a key variable"
      ],
      "id": "center-clause",
      "execution_count": null,
      "outputs": [
        {
          "output_type": "stream",
          "text": [
            "value 1\n",
            "value 1\n",
            "value 3\n",
            "value 3\n"
          ],
          "name": "stdout"
        },
        {
          "output_type": "execute_result",
          "data": {
            "text/plain": [
              "null"
            ]
          },
          "metadata": {
            "tags": []
          },
          "execution_count": 18
        }
      ]
    },
    {
      "cell_type": "code",
      "metadata": {
        "id": "foster-joint",
        "outputId": "74560906-2670-47d6-81c4-09b12f5edfd9",
        "colab": {
          "referenced_widgets": [
            "2d8f4ccb-1d42-48e5-99b2-e8ecf8bebf58"
          ]
        }
      },
      "source": [
        "def map = ['key1':'value 1', 'key2':'value 2', 'key3':'value 3']\n",
        "\n",
        "// Iterating maps:\n",
        "\n",
        "map.each {\n",
        "  println it.key\n",
        "  println it.value\n",
        "}"
      ],
      "id": "foster-joint",
      "execution_count": null,
      "outputs": [
        {
          "output_type": "stream",
          "text": [
            "key1\n",
            "value 1\n",
            "key2\n",
            "value 2\n",
            "key3\n",
            "value 3\n"
          ],
          "name": "stdout"
        },
        {
          "output_type": "display_data",
          "data": {
            "application/vnd.jupyter.widget-view+json": {
              "model_id": "2d8f4ccb-1d42-48e5-99b2-e8ecf8bebf58",
              "version_major": 2,
              "version_minor": 0
            }
          },
          "metadata": {
            "tags": []
          }
        }
      ]
    },
    {
      "cell_type": "code",
      "metadata": {
        "id": "wanted-lawyer",
        "outputId": "7397d6bc-e8af-413c-cd8a-e3a65fa49fd0",
        "colab": {
          "referenced_widgets": [
            "28217950-4044-4bd9-b783-f7794f4ef9ab"
          ]
        }
      },
      "source": [
        "def map = ['key1':'value 1', 'key2':'value 2', 'key3':'value 3']\n",
        "\n",
        "// Iterating maps:\n",
        "\n",
        "map.each {\n",
        "  println it.key + \", \" + it.value\n",
        "}"
      ],
      "id": "wanted-lawyer",
      "execution_count": null,
      "outputs": [
        {
          "output_type": "stream",
          "text": [
            "key1, value 1\n",
            "key2, value 2\n",
            "key3, value 3\n"
          ],
          "name": "stdout"
        },
        {
          "output_type": "display_data",
          "data": {
            "application/vnd.jupyter.widget-view+json": {
              "model_id": "28217950-4044-4bd9-b783-f7794f4ef9ab",
              "version_major": 2,
              "version_minor": 0
            }
          },
          "metadata": {
            "tags": []
          }
        }
      ]
    },
    {
      "cell_type": "code",
      "metadata": {
        "id": "hidden-letters",
        "outputId": "7e3399d7-2ce3-49d5-8a1e-07ae8bd2236f",
        "colab": {
          "referenced_widgets": [
            "b45b8953-7b10-4aa8-9784-a1e5327b1fe6"
          ]
        }
      },
      "source": [
        "def map = ['key1':'value 1', 'key2':'value 2', 'key3':'value 3']\n",
        "\n",
        "// or:\n",
        "\n",
        "map.each { key, value ->\n",
        "  println key\n",
        "  println value\n",
        "}"
      ],
      "id": "hidden-letters",
      "execution_count": null,
      "outputs": [
        {
          "output_type": "stream",
          "text": [
            "key1\n",
            "value 1\n",
            "key2\n",
            "value 2\n",
            "key3\n",
            "value 3\n"
          ],
          "name": "stdout"
        },
        {
          "output_type": "display_data",
          "data": {
            "application/vnd.jupyter.widget-view+json": {
              "model_id": "b45b8953-7b10-4aa8-9784-a1e5327b1fe6",
              "version_major": 2,
              "version_minor": 0
            }
          },
          "metadata": {
            "tags": []
          }
        }
      ]
    },
    {
      "cell_type": "code",
      "metadata": {
        "id": "israeli-adams",
        "outputId": "4d2da037-a5c4-443a-98f2-74d3265d462c",
        "colab": {
          "referenced_widgets": [
            "d1ad306b-9146-47bf-98f7-716f1189feec"
          ]
        }
      },
      "source": [
        "def map = ['key1':'value 1', 'key2':'value 2', 'key3':'value 3']\n",
        "\n",
        "// Adding something to a map:\n",
        "\n",
        "map << ['key4':'value 4']\n",
        "\n",
        "map.each { key, value ->\n",
        "  println key + \", \" + value\n",
        "}"
      ],
      "id": "israeli-adams",
      "execution_count": null,
      "outputs": [
        {
          "output_type": "stream",
          "text": [
            "key1, value 1\n",
            "key2, value 2\n",
            "key3, value 3\n",
            "key4, value 4\n"
          ],
          "name": "stdout"
        },
        {
          "output_type": "display_data",
          "data": {
            "application/vnd.jupyter.widget-view+json": {
              "model_id": "d1ad306b-9146-47bf-98f7-716f1189feec",
              "version_major": 2,
              "version_minor": 0
            }
          },
          "metadata": {
            "tags": []
          }
        }
      ]
    },
    {
      "cell_type": "code",
      "metadata": {
        "id": "invalid-bottle",
        "outputId": "f2af67a3-5a81-4870-e8f9-da21ff0dc707"
      },
      "source": [
        "// For more information on lists and maps in Groovy: Working with collections"
      ],
      "id": "invalid-bottle",
      "execution_count": null,
      "outputs": [
        {
          "output_type": "execute_result",
          "data": {
            "text/plain": [
              "null"
            ]
          },
          "metadata": {
            "tags": []
          },
          "execution_count": 23
        }
      ]
    },
    {
      "cell_type": "code",
      "metadata": {
        "id": "healthy-michigan",
        "outputId": "686c2d5d-e733-4dc6-8e5e-9a0e3be4c0d9"
      },
      "source": [
        "\"\"\"\n",
        "JSON\n",
        "Groovy's handling of JSON is very powerful.\n",
        "\n",
        "Parsing JSON\n",
        "\"\"\"\n",
        "\n",
        "def jsonSlurper = new groovy.json.JsonSlurper()\n",
        "\n",
        "def object = jsonSlurper.parseText('{\"name\": \"Dave Bowman\",  \"age\": 32 }')\n",
        "\n",
        "println object.name + \", \" + object.age"
      ],
      "id": "healthy-michigan",
      "execution_count": null,
      "outputs": [
        {
          "output_type": "stream",
          "text": [
            "Dave Bowman, 32\n"
          ],
          "name": "stdout"
        },
        {
          "output_type": "execute_result",
          "data": {
            "text/plain": [
              "null"
            ]
          },
          "metadata": {
            "tags": []
          },
          "execution_count": 24
        }
      ]
    },
    {
      "cell_type": "code",
      "metadata": {
        "id": "unavailable-blond",
        "outputId": "4fb39ee2-b9ac-4f21-ecbc-401e704a78a2"
      },
      "source": [
        "\"\"\"\n",
        "Producing JSON\n",
        "\n",
        "Using JsonOuput:\n",
        "\"\"\"\n",
        "\n",
        "def json = new groovy.json.JsonOutput().toJson([name: 'Dave Bowman', age: 32])"
      ],
      "id": "unavailable-blond",
      "execution_count": null,
      "outputs": [
        {
          "output_type": "execute_result",
          "data": {
            "text/plain": [
              "{\"name\":\"Dave Bowman\",\"age\":32}"
            ]
          },
          "metadata": {
            "tags": []
          },
          "execution_count": 25
        }
      ]
    },
    {
      "cell_type": "code",
      "metadata": {
        "id": "faced-conflict",
        "outputId": "35ea0a29-47cf-4efd-a79b-33dc5fb5af27"
      },
      "source": [
        "def json = new groovy.json.JsonOutput().toJson([name: 'Dave Bowman', age: 32])\n",
        "\n",
        "def pretty = new groovy.json.JsonOutput()"
      ],
      "id": "faced-conflict",
      "execution_count": null,
      "outputs": [
        {
          "output_type": "execute_result",
          "data": {
            "text/plain": [
              "groovy.json.JsonOutput@3a5ca7e8"
            ]
          },
          "metadata": {
            "tags": []
          },
          "execution_count": 26
        }
      ]
    },
    {
      "cell_type": "code",
      "metadata": {
        "id": "decent-picture",
        "outputId": "e90cb5b0-8546-4d65-d167-7630c3225e6f"
      },
      "source": [
        "def json = new groovy.json.JsonOutput().toJson([name: 'Dave Bowman', age: 32])\n",
        "\n",
        "// indent nicely\n",
        "def pretty = new groovy.json.JsonOutput().prettyPrint(json)"
      ],
      "id": "decent-picture",
      "execution_count": null,
      "outputs": [
        {
          "output_type": "execute_result",
          "data": {
            "text/plain": [
              "{\n",
              "    \"name\": \"Dave Bowman\",\n",
              "    \"age\": 32\n",
              "}"
            ]
          },
          "metadata": {
            "tags": []
          },
          "execution_count": 27
        }
      ]
    },
    {
      "cell_type": "code",
      "metadata": {
        "id": "special-discussion",
        "outputId": "526852df-d967-456d-f7f2-18254681e57b"
      },
      "source": [
        "// Using JsonBuilder:\n",
        "\n",
        "def actionBuilder = new groovy.json.JsonBuilder()\n",
        "\n",
        "actionBuilder {\n",
        "    name \"displayCard\"\n",
        "    parameters {\n",
        "        type 'basic'\n",
        "        title 'Cappuccino'\n",
        "        image 'https://some.url/for/image/cappuccino.png'\n",
        "        description 'Try our cappuchino! We love it for its remarkable body of fruit and mocha and its subtle sweet finish.'\n",
        "    }\n",
        "}\n",
        "\n",
        "def json = actionBuilder.toString()\n",
        "\n",
        "// indent nicely\n",
        "def pretty = groovy.json.JsonOutput.prettyPrint(json)\n",
        "\n",
        "// println pretty"
      ],
      "id": "special-discussion",
      "execution_count": null,
      "outputs": [
        {
          "output_type": "execute_result",
          "data": {
            "text/plain": [
              "{\n",
              "    \"name\": \"displayCard\",\n",
              "    \"parameters\": {\n",
              "        \"type\": \"basic\",\n",
              "        \"title\": \"Cappuccino\",\n",
              "        \"image\": \"https://some.url/for/image/cappuccino.png\",\n",
              "        \"description\": \"Try our cappuchino! We love it for its remarkable body of fruit and mocha and its subtle sweet finish.\"\n",
              "    }\n",
              "}"
            ]
          },
          "metadata": {
            "tags": []
          },
          "execution_count": 28
        }
      ]
    },
    {
      "cell_type": "code",
      "metadata": {
        "id": "pressed-jewel",
        "outputId": "891504de-555a-4bcd-bcc3-78c28c4b3815"
      },
      "source": [
        "// Using JsonBuilder:\n",
        "\n",
        "def actionBuilder = new groovy.json.JsonBuilder()\n",
        "\n",
        "actionBuilder {\n",
        "    name \"displayCard\"\n",
        "    parameters {\n",
        "        type 'basic'\n",
        "        title 'Cappuccino'\n",
        "        image 'https://some.url/for/image/cappuccino.png'\n",
        "        description 'Try our cappuchino! We love it for its remarkable body of fruit and mocha and its subtle sweet finish.'\n",
        "    }\n",
        "}\n",
        "\n",
        "def json = actionBuilder.toString()\n",
        "\n",
        "// indent nicely\n",
        "def pretty = groovy.json.JsonOutput.prettyPrint(json)\n",
        "\n",
        "println pretty"
      ],
      "id": "pressed-jewel",
      "execution_count": null,
      "outputs": [
        {
          "output_type": "stream",
          "text": [
            "{\n",
            "    \"name\": \"displayCard\",\n",
            "    \"parameters\": {\n",
            "        \"type\": \"basic\",\n",
            "        \"title\": \"Cappuccino\",\n",
            "        \"image\": \"https://some.url/for/image/cappuccino.png\",\n",
            "        \"description\": \"Try our cappuchino! We love it for its remarkable body of fruit and mocha and its subtle sweet finish.\"\n",
            "    }\n",
            "}\n"
          ],
          "name": "stdout"
        },
        {
          "output_type": "execute_result",
          "data": {
            "text/plain": [
              "null"
            ]
          },
          "metadata": {
            "tags": []
          },
          "execution_count": 29
        }
      ]
    },
    {
      "cell_type": "code",
      "metadata": {
        "id": "pediatric-outdoors",
        "outputId": "fb3209a6-796a-481e-a837-f5ad9342cc98"
      },
      "source": [
        "// More on Groovy's way of handling JSON here: Parsing and producing JSON"
      ],
      "id": "pediatric-outdoors",
      "execution_count": null,
      "outputs": [
        {
          "output_type": "execute_result",
          "data": {
            "text/plain": [
              "null"
            ]
          },
          "metadata": {
            "tags": []
          },
          "execution_count": 30
        }
      ]
    },
    {
      "cell_type": "code",
      "metadata": {
        "id": "african-discrimination",
        "outputId": "cf86854c-8035-4582-e9b9-d5ce931281f3"
      },
      "source": [
        "\"\"\"\n",
        "Reading URL content\n",
        "\n",
        "Getting a URL\n",
        "\"\"\"\n",
        "\n",
        "def baseUrl = 'https://www.ing.es/'\n",
        "def text = baseUrl.toURL().text"
      ],
      "id": "african-discrimination",
      "execution_count": null,
      "outputs": [
        {
          "output_type": "execute_result",
          "data": {
            "text/plain": [
              "<!doctype html>\n",
              "\n",
              "<html lang=\"es\">\n",
              "<head>\n",
              "<meta charset=\"utf-8\" />\n",
              "<meta content=\"IE=edge,chrome=1\" http-equiv=\"X-UA-Compatible\">\n",
              "<meta content=\"IE=7; IE=8\" http-equiv=\"X-UA-Compatible\">\n",
              "<meta name=\"viewport\" content=\"width=device-width, minimum-scale=1, initial-scale=1, user-scalable=yes\">\n",
              "<link rel=\"stylesheet\" href=\"/webfiles/1611833897141/css/flex.css\" type=\"text/css\" media=\"screen\"/>\n",
              "<link rel=\"shortcut icon\" href=\"/site/binaries/content/gallery/hipposp/favicon.png\"/>\n",
              "<link rel=\"stylesheet\" href=\"/webfiles/1611833897141/css/base-model-layout.css\" type=\"text/css\" media=\"screen\"/>\n",
              "<script src=\"/webfiles/1611833897141/js/mdetect.js\" type=\"text/javascript\" async></script>\n",
              "<script src=\"/webfiles/1611833897141/js/browsers.js\" type=\"text/javascript\" async></script>\n",
              "<script src=\"/webfiles/1611833897141/js/node_modules/%40webcomponents/webcomponentsjs/webcomponents-loader.js\" async></script>\n",
              "<script nomodule src=\"/webfiles/1611833897141/js/bower_components/ing-util-platform-lib/polyfills/es2015-polyfill.min.js\" async></script>\n",
              "<script src=\"/webfiles/1611833897141/js/node_modules/polymer-cli/polymer-polyfills.js\" async></script>\n",
              "<script src=\"/webfiles/1611833897141/js/customElements-define-dedupe.js\" async></script>\n",
              "<script nomodule src=\"/wc/ing-cms-component-library/es5/index-transformed.js\" async></script>\n",
              "<link rel=\"import\" href=\"/wc/es6/bower_components/ing-uic-cms-footer/ing-uic-cms-footer.html\"/>\n",
              "<link rel=\"import\" href=\"/wc/es6/bower_components/ing-uic-cms-breadcrumb/ing-uic-cms-breadcrumb.html\"/>\n",
              "<link rel=\"import\" href=\"/wc/es6/bower_components/ing-uic-cms-content/ing-uic-cms-content.html\"/>\n",
              "<link rel=\"import\" href=\"/wc/es6/bower_components/ing-uic-cms-cards-carousel/ing-uic-cms-cards-carousel.html\"/>\n",
              "<link rel=\"import\" href=\"/wc/es6/bower_components/ing-uic-cms-content-narrow/ing-uic-cms-content-narrow.html\"/>\n",
              "<link rel=\"import\" href=\"/wc/es6/bower_components/ing-uic-cms-products-grid/ing-uic-cms-products-grid.html\"/>\n",
              "<link rel=\"stylesheet\" href=\"\" type=\"text/css\"/>\n",
              "<title>ING | Banco online | do your thing</title>\n",
              "<meta name=\"description\" content=\"Un banco online sin comisiones para tu dÃ­a a dÃ­a con la Cuenta NÃ“MINA.\"/>\n",
              "<meta name=\"keywords\" content=\"ING , banco, online, sin comisiones, people in progress, fresh banking, fondos, hipotecas, cuentas, sin gastos\"/>\n",
              "<link rel=\"canonical\" href=\"https://www.ing.es/\"/>\n",
              "<script language=\"javascript\" type=\"text/javascript\">\n",
              "//<![CDATA[\n",
              "var utag_data = {\n",
              "pageName : \"Home\"\n",
              "}\n",
              "//]]>\n",
              "</script>\n",
              "<link rel=\"import\" href=\"/wc/es6/bower_components/ing-uic-cms-layout/ing-uic-cms-layout.html\"/>\n",
              "<link rel=\"import\" href=\"/wc/es6/bower_components/ing-uic-cms-header/ing-uic-cms-header.html\"/>\n",
              "<script src=\"/hippotealium/utag.sync.js\"></script>\n",
              "<script src=\"/webfiles/1611833897141/js/jquery/jquery-1.12.0.min.js\" type=\"text/javascript\"></script>\n",
              "<script src=\"/webfiles/1611833897141/js/hippoCommon.js\" type=\"text/javascript\" async></script>\n",
              "<script src=\"/webfiles/1611833897141/js/scrollSpy.js\" type=\"text/javascript\" async></script>\n",
              "<script src=\"/webfiles/1611833897141/js/tealium_v1.1.0.js\" type=\"module\" defer></script>\n",
              "<link rel=\"apple-touch-icon\" href=\"/webfiles/1611833897141/css/apple-touch-icon.png\" />\n",
              "</head>\n",
              "<body>\n",
              "<div style=\"width:100%\">\n",
              "<ing-uic-cms-layout path=\"/site/api-manual/ApiSearch/json/\">\n",
              "<div slot=\"header\">\n",
              "<div class=\"has-edit-button\">\n",
              "<ing-uic-cms-header data='{\n",
              "\"section\" : [ {\n",
              "\"type\" : \"logo\",\n",
              "\"title\" : \"ING, logotipo. Ir a pÃ¡gina de inicio\",\n",
              "\"href\" : \"/\",\n",
              "\"target\" : \"_self\",\n",
              "\"icon\" : \"/binaries/content/gallery/hipposp/ContentBlockImageSet/comunes/ing_leon-01.svg\",\n",
              "\"alt\" : \"ING logotipo. Ir a pÃ¡gina de inicio\"\n",
              "}, {\n",
              "\"type\" : \"menu-bar\",\n",
              "\"title\" : \"Particulares\",\n",
              "\"href\" : \"/\",\n",
              "\"target\" : \"_self\",\n",
              "\"options\" : [ {\n",
              "\"type\" : \"menu-bar\",\n",
              "\"title\" : \"NÃ³mina y tarjetas\",\n",
              "\"target\" : \"_self\",\n",
              "\"options\" : [ {\n",
              "\"type\" : \"list-link\",\n",
              "\"title\" : \"Productos\",\n",
              "\"column\" : \"1\",\n",
              "\"target\" : \"_self\",\n",
              "\"options\" : [ {\n",
              "\"type\" : \"link\",\n",
              "\"title\" : \"Cuenta NÃ“MINA\",\n",
              "\"subtitle\" : \"La cuenta sin comisiones para tu dÃ­a a dÃ­a\",\n",
              "\"href\" : \"/cuenta-nomina-ing\",\n",
              "\"target\" : \"_self\",\n",
              "\"icon\" : \"ico-heart\"\n",
              "}, {\n",
              "\"type\" : \"link\",\n",
              "\"title\" : \"Tarjetas ING\",\n",
              "\"subtitle\" : \"Con cero comisiones y con cero preocupaciones\",\n",
              "\"href\" : \"/tarjetas-ing\",\n",
              "\"target\" : \"_self\",\n",
              "\"icon\" : \"ico-creditcards\"\n",
              "} ]\n",
              "}, {\n",
              "\"type\" : \"list-link\",\n",
              "\"title\" : \"Servicios\",\n",
              "\"column\" : \"2\",\n",
              "\"target\" : \"_self\",\n",
              "\"options\" : [ {\n",
              "\"title\" : \"Cambio de moneda\",\n",
              "\"href\" : \"/cuenta-nomina-ing/cambio-moneda\",\n",
              "\"target\" : \"_self\"\n",
              "}, {\n",
              "\"type\" : \"link\",\n",
              "\"title\" : \"Shopping NARANJA\",\n",
              "\"href\" : \"/shopping-naranja\",\n",
              "\"target\" : \"_self\"\n",
              "} ]\n",
              "} ],\n",
              "\"alt\" : \"Cerrar NÃ³mina y tarjetas\"\n",
              "}, {\n",
              "\"type\" : \"menu-bar\",\n",
              "\"title\" : \"InversiÃ³n y ahorro\",\n",
              "\"subtitle\" : \"Fondos, Planes y Broker\",\n",
              "\"target\" : \"_self\",\n",
              "\"options\" : [ {\n",
              "\"type\" : \"list-link\",\n",
              "\"title\" : \"InversiÃ³n\",\n",
              "\"column\" : \"1\",\n",
              "\"target\" : \"_self\",\n",
              "\"options\" : [ {\n",
              "\"title\" : \"Ver todo inversiÃ³n y ahorro\",\n",
              "\"href\" : \"/inversion\",\n",
              "\"target\" : \"_self\"\n",
              "} ]\n",
              "}, {\n",
              "\"type\" : \"list-link\",\n",
              "\"title\" : \"Productos\",\n",
              "\"column\" : \"1\",\n",
              "\"target\" : \"_self\",\n",
              "\"options\" : [ {\n",
              "\"type\" : \"link\",\n",
              "\"title\" : \"Fondos de inversiÃ³n\",\n",
              "\"subtitle\" : \"Busca rentabilidad con un fondo que se adapta a tus necesidades\",\n",
              "\"href\" : \"/fondos-inversion\",\n",
              "\"target\" : \"_self\",\n",
              "\"icon\" : \"ico-investments-arrowup-chart\"\n",
              "}, {\n",
              "\"type\" : \"link\",\n",
              "\"title\" : \"Planes de pensiones\",\n",
              "\"subtitle\" : \"Ahorra para tu futuro con menos comisiones para que ganes mÃ¡s\",\n",
              "\"href\" : \"/planes-pensiones\",\n",
              "\"target\" : \"_self\",\n",
              "\"icon\" : \"ico-holiday-beach\"\n",
              "}, {\n",
              "\"title\" : \"Bolsa y mercados\",\n",
              "\"subtitle\" : \"Invierte con Broker NARANJA y disfruta de la mejor combinaciÃ³n de tarifas\",\n",
              "\"href\" : \"/broker\",\n",
              "\"target\" : \"_self\",\n",
              "\"icon\" : \"ico-broker-b\"\n",
              "}, {\n",
              "\"type\" : \"link\",\n",
              "\"title\" : \"Cuenta NARANJA\",\n",
              "\"subtitle\" : \"La cuenta de ahorro ideal si ya tienes una Cuenta NÃ“MINA\",\n",
              "\"href\" : \"/cuenta-naranja\",\n",
              "\"target\" : \"_self\",\n",
              "\"icon\" : \"ico-savingsgeneral-piggybank\"\n",
              "} ]\n",
              "}, {\n",
              "\"type\" : \"list-link\",\n",
              "\"title\" : \"Servicios\",\n",
              "\"column\" : \"2\",\n",
              "\"target\" : \"_self\",\n",
              "\"options\" : [ {\n",
              "\"type\" : \"link\",\n",
              "\"title\" : \"Saber mÃ¡s de inversiÃ³n\",\n",
              "\"href\" : \"/fondos-inversion/ayuda\",\n",
              "\"target\" : \"_self\"\n",
              "} ]\n",
              "} ]\n",
              "}, {\n",
              "\"type\" : \"menu-bar\",\n",
              "\"title\" : \"Hipotecas y prÃ©stamos\",\n",
              "\"subtitle\" : \"Hipotecas y PrÃ©stamos\",\n",
              "\"target\" : \"_self\",\n",
              "\"icon\" : \"ico-home-house\",\n",
              "\"options\" : [ {\n",
              "\"type\" : \"list-link\",\n",
              "\"title\" : \"Productos\",\n",
              "\"column\" : \"1\",\n",
              "\"target\" : \"_self\",\n",
              "\"options\" : [ {\n",
              "\"title\" : \"Hipotecas NARANJA\",\n",
              "\"subtitle\" : \"100 % online hasta la firma y con un gestor personal que te acompaÃ±a\",\n",
              "\"href\" : \"/hipotecas\",\n",
              "\"target\" : \"_self\",\n",
              "\"icon\" : \"ico-home-house\"\n",
              "}, {\n",
              "\"title\" : \"PrÃ©stamo NARANJA\",\n",
              "\"subtitle\" : \"Sin comisiones y sin domiciliar tu nÃ³mina\",\n",
              "\"href\" : \"/prestamos-personales\",\n",
              "\"target\" : \"_self\",\n",
              "\"icon\" : \"ico-payment-request-hand-coin\"\n",
              "} ]\n",
              "} ]\n",
              "}, {\n",
              "\"type\" : \"menu-bar\",\n",
              "\"title\" : \"Seguros\",\n",
              "\"subtitle\" : \"Seguros de Vida\",\n",
              "\"href\" : \"/seguros/seguros-vida\",\n",
              "\"target\" : \"_self\"\n",
              "}, {\n",
              "\"type\" : \"menu-bar\",\n",
              "\"title\" : \"Pago con mÃ³vil\",\n",
              "\"subtitle\" : \"Apple Pay\",\n",
              "\"href\" : \"/pago-con-movil/apple-pay\",\n",
              "\"target\" : \"_self\",\n",
              "\"options\" : [ {\n",
              "\"type\" : \"menu-bar\",\n",
              "\"title\" : \"Servicios\",\n",
              "\"target\" : \"_self\",\n",
              "\"options\" : [ {\n",
              "\"type\" : \"link\",\n",
              "\"title\" : \"Bizum\",\n",
              "\"subtitle\" : \"FÃ¡cil, rÃ¡pido y seguro. EnvÃ­a y recibe dinero en tu mÃ³vil\",\n",
              "\"href\" : \"/pago-con-movil/bizum\",\n",
              "\"target\" : \"_self\"\n",
              "}, {\n",
              "\"type\" : \"menu-bar\",\n",
              "\"title\" : \"Twyp\",\n",
              "\"subtitle\" : \"La app para pagar con tu mÃ³vil, enviar dinero a tus amigos y retirar efectivo en comercios\",\n",
              "\"href\" : \"/twyp\",\n",
              "\"target\" : \"_self\"\n",
              "}, {\n",
              "\"title\" : \"Google Pay\",\n",
              "\"subtitle\" : \"Paga con tu tarjeta ING desde tu mÃ³vil Android\",\n",
              "\"href\" : \"/pago-con-movil/google-pay\",\n",
              "\"target\" : \"_self\"\n",
              "}, {\n",
              "\"title\" : \"Apple Pay\",\n",
              "\"subtitle\" : \"Paga con tu tarjeta ING desde tu iPhone\",\n",
              "\"href\" : \"/pago-con-movil/apple-pay\",\n",
              "\"target\" : \"_self\"\n",
              "} ]\n",
              "} ]\n",
              "} ],\n",
              "\"alt\" : \"Particulares, opciÃ³n seleccionada\"\n",
              "}, {\n",
              "\"type\" : \"menu-bar\",\n",
              "\"title\" : \"Negocios\",\n",
              "\"href\" : \"/negocios\",\n",
              "\"target\" : \"_self\",\n",
              "\"alt\" : \"Para Negocios\"\n",
              "}, {\n",
              "\"type\" : \"option-bar\",\n",
              "\"title\" : \"Oficinas y cajeros\",\n",
              "\"href\" : \"/oficinas-cajeros/cajeros\",\n",
              "\"target\" : \"_self\",\n",
              "\"icon\" : \"ico-location-pin\"\n",
              "}, {\n",
              "\"type\" : \"option-bar\",\n",
              "\"title\" : \"ContÃ¡ctanos\",\n",
              "\"href\" : \"/contacto\",\n",
              "\"target\" : \"_self\",\n",
              "\"icon\" : \"ico-chat-speechbubbles-conversation\"\n",
              "}, {\n",
              "\"type\" : \"btn-bar\",\n",
              "\"title\" : \"Hazte cliente\",\n",
              "\"href\" : \"/hazte-cliente\",\n",
              "\"target\" : \"_self\",\n",
              "\"btn\" : \"outline-indigo\",\n",
              "\"eventName\" : \"clickDoCustomer\",\n",
              "\"buttonCustomer\" : \"btn:header:hazte cliente\"\n",
              "}, {\n",
              "\"type\" : \"access-bar\",\n",
              "\"title\" : \"Ã�rea Clientes\",\n",
              "\"href\" : \"/hippogenoma/pfm/#login\",\n",
              "\"target\" : \"_blank\",\n",
              "\"icon\" : \"ico-acceso-clientes-n\",\n",
              "\"btn\" : \"filled-indigo\",\n",
              "\"alt\" : \"Ã�rea Clientes [Nueva ventana]\",\n",
              "\"eventName\" : \"accessCustomer\",\n",
              "\"buttonAccess\" : \"btn:header:area clientes\"\n",
              "} ]\n",
              "}'></ing-uic-cms-header>\n",
              "</div>\n",
              "</div>\n",
              "<div slot=\"main\" id=\"main-content\">\n",
              "<h1 class=\"sr-only\">ING</h1>\n",
              "<div>\n",
              "    <div>\n",
              "                <div>\n",
              "                    \n",
              "\n",
              "                </div>\n",
              "                <div>\n",
              "                    \n",
              "<link rel=\"stylesheet\" href=\"/webfiles/1611833897141/css/flex-two-column.css\" type=\"text/css\"/>\n",
              "<div class=\"flexcolumn\">\n",
              "<div class=\"content\"><div class=\"content\">\r\n",
              "<style>\r\n",
              ".BHHPBajadaPrecioMIXTA2103,.BHHPBajadaPrecioMIXTA2103 *{box-sizing:border-box;padding:0;margin:0;font-family:\"INGMe\";color:#333}\r\n",
              ".BHHPBajadaPrecioMIXTA2103 strong,.BHHPBajadaPrecioMIXTA2103 b{font-family:\"INGMeBold\";color:inherit}\r\n",
              ".BHHPBajadaPrecioMIXTA2103.IOS-Device strong,.BHHPBajadaPrecioMIXTA2103.IOS-Device b{letter-spacing:-1px!important}\r\n",
              ".BHHPBajadaPrecioMIXTA2103{width:100%;min-width:375px;padding:0;background:#fff;position:relative;-webkit-box-shadow:0 4px 10px 0 rgb(0 0 0 / 25%);-moz-box-shadow:0 4px 10px 0 rgb(0 0 0 / 25%);box-shadow:0 4px 10px 0 rgb(0 0 0 / 25%)}\r\n",
              ".BHHPBajadaPrecioMIXTA2103 .BH-cont{width:inherit;min-width:375px;display:flex;flex-direction:column;justify-content:center}\r\n",
              "#BH-PR-2102-DYT-col01 .BH-pastilla{padding:16px 7px 4px;margin-top:-42px}\r\n",
              "#BH-PR-2102-DYT-col02{position:relative}\r\n",
              "#BH-PR-2102-DYT-col02 .BH-pastilla{padding:12px 15px 0}\r\n",
              ".BHHPBajadaPrecioMIXTA2103 h1{font-size:28px;line-height:32px;padding:0}\r\n",
              ".BHHPBajadaPrecioMIXTA2103 h2{font-size:24px;line-height:28px;padding:8px 0}\r\n",
              ".BHHPBajadaPrecioMIXTA2103 p.h3{font-size:19px;line-height:28px;padding:8px 0}\r\n",
              ".BHHPBajadaPrecioMIXTA2103 p.h4{font-size:16px;line-height:24px;padding:8px 0}\r\n",
              ".BHHPBajadaPrecioMIXTA2103 p.h5{font-size:12px;line-height:16px;padding:8px 0}\r\n",
              ".BHHPBajadaPrecioMIXTA2103 .BH-cont .BH-pastilla a.btn{margin:0 auto;background-color:#ab0066;color:#fff;font-size:19px;text-align:center;display:block;padding:10px 12px;border-radius:8px;line-height:28px;font-family:\"INGMeBold\";border:1px solid #ab0066;text-decoration:none!important}\r\n",
              ".BHHPBajadaPrecioMIXTA2103 .BH-cont .BH-pastilla a.btn-inverse{background-color:#fff;color:#ab0066}\r\n",
              ".BHHPBajadaPrecioMIXTA2103 .oculto-mb{display:none}\r\n",
              ".BHHPBajadaPrecioMIXTA2103 .BH-cont .BH-pastilla p.legal{font-size:12px;line-height:16px;margin-top:10px}\r\n",
              ".BHHPBajadaPrecioMIXTA2103 .BH-cont .BH-pastilla p.legal a{text-decoration:none;color:#525199;-webkit-text-fill-color:#525199;border-bottom:1px solid #525199;border-left:1px solid transparent;border-right:1px solid transparent}\r\n",
              ".BHHPBajadaPrecioMIXTA2103 .BH-cont .BH-pastilla ul{padding-left:0;margin:10px 0 20px}\r\n",
              ".BHHPBajadaPrecioMIXTA2103 .BH-cont .BH-pastilla ul li{font-size:16px;line-height:25px;position:relative;padding-left:24px;list-style:none;margin-bottom:8px}\r\n",
              ".BHHPBajadaPrecioMIXTA2103 .BH-cont .BH-pastilla ul li::before{color:rgb(255,98,0);content:\"î�ª\";display:block;float:left;font-family:ing-direct-icons;font-size:12px;font-weight:700;height:18px;line-height:18px;margin-left:-22px;speak:none;width:12px;-webkit-font-smoothing:antialiased;margin-top:3px}\r\n",
              ".BHHPBajadaPrecioMIXTA2103 .BH-cont .BH-pastilla p.legal a:visited{color:#ab0066;-webkit-text-fill-color:#ab0066;background-color:#ab0066;border-color:#ab0066;border-bottom:1px solid #ab0066}\r\n",
              ".BHHPBajadaPrecioMIXTA2103 .BH-cont .BH-pastilla p.legal a:visited:hover{background-color:#fedce9;border-bottom:1px solid #525199;border-left:1px solid transparent;border-right:1px solid transparent}\r\n",
              ".BHHPBajadaPrecioMIXTA2103 .BH-cont .BH-pastilla p.legal a:hover{background-color:#fedce9;border-bottom:1px solid #525199;border-left:1px solid transparent;border-right:1px solid transparent}\r\n",
              ".BHHPBajadaPrecioMIXTA2103 .BH-cont .BH-HP-titleBlock{padding:7px 12px;border-radius:6px;background-color:#ff6200;display:inline-block;margin:0 0 4px;color:#FFFFFF;white-space:nowrap}\r\n",
              ".BHHPBajadaPrecioMIXTA2103 .BH-cont .BH-botonera{margin-top:24px;margin-bottom:24px}\r\n",
              ".BHHPBajadaPrecioMIXTA2103 .BH-bgimg,.BHHPBajadaPrecioMIXTA2103 .BH-bgimg{height:232px;display:block;background-image:url(https://www.ing.es/binaries/content/gallery/hipposp/ContentBlockImageSet/hipotecas/target/21/bajadapreciomixta/bhbajadapreciohipotecamixtamobile.jpg);background-repeat:no-repeat;background-size:cover;border-radius:0 0 20px 20px;background-position:center}\r\n",
              "#BH-PR-2102-DYT-col01{width:100%;position:relative}\r\n",
              "@media screen and (min-width: 59.25em) {\r\n",
              ".BHHPBajadaPrecioMIXTA2103 .BH-cont{flex-direction:row;justify-content:flex-start;height:100%}\r\n",
              "#BH-PR-2102-DYT-col01 .BH-pastilla{padding:16px 0;margin-top:0;margin-right:30px;z-index:15}\r\n",
              "#BH-PR-2102-DYT-col02 .BH-pastilla{padding:16px 0}\r\n",
              ".BHHPBajadaPrecioMIXTA2103 h1{font-size:36px;line-height:40px;text-align:right}\r\n",
              ".BHHPBajadaPrecioMIXTA2103 .BH-cont .BH-HP-titleBlock{padding:8px 16px}\r\n",
              ".BHHPBajadaPrecioMIXTA2103 .BH-cont .BH-botonera{margin-top:0;margin-bottom:0}\r\n",
              ".BHHPBajadaPrecioMIXTA2103 .oculto-mb{display:block}\r\n",
              ".BHHPBajadaPrecioMIXTA2103 .oculto-dk{display:none}\r\n",
              ".BHHPBajadaPrecioMIXTA2103 .BH-cont .BH-HP-titleBlock:nth-of-type(2){margin-right:9px}\r\n",
              ".BHHPBajadaPrecioMIXTA2103 .BH-cont .BH-HP-titleBlock:nth-of-type(3){margin-right:3px}\r\n",
              ".BHHPBajadaPrecioMIXTA2103 .BH-cont .BH-pastilla a.btn{margin:10px 10px 10px 0;width:auto;display:inline-block;font-size:19px;border:1px solid #ab0066;text-decoration:none!important}\r\n",
              ".BHHPBajadaPrecioMIXTA2103 .BH-cont .BH-pastilla a.btn:hover{background-color:#fff;color:#ab0066;border:1px solid #ab0066;text-decoration:none!important}\r\n",
              ".BHHPBajadaPrecioMIXTA2103 .BH-cont .BH-pastilla a.btn-inverse:hover{background-color:#ab0066;color:#fff;border:1px solid #ab0066;text-decoration:none!important}\r\n",
              ".BHHPBajadaPrecioMIXTA2103{height:496px}\r\n",
              ".BHHPBajadaPrecioMIXTA2103 .BH-bgimg{z-index:10;background-image:url(https://www.ing.es/binaries/content/gallery/hipposp/ContentBlockImageSet/hipotecas/target/21/bajadapreciomixta/bhbajadapreciohipotecamixtadesktop.jpg);background-position:top center;background-size:cover;background-repeat:no-repeat;height:100%;border-radius:0 8px 8px 0;width:100%;height:100%;position:absolute;overflow:hidden}\r\n",
              "#BH-PR-2102-DYT-col01{display:flex;align-items:center;justify-content:flex-end;height:100%;flex-grow:1}\r\n",
              "#BH-PR-2102-DYT-col02{flex-basis:calc((50vw - 567px) + 1270px);min-width:375px;flex-grow:0;display:flex;align-items:center;justify-content:flex-start;padding:15px 0 15px 40px}\r\n",
              "}\r\n",
              "@media screen and (min-width: 30em) {\r\n",
              ".BHHPBajadaPrecioMIXTA2103 .oculto-mb{display:block}\r\n",
              ".BHHPBajadaPrecioMIXTA2103 .oculto-dk{display:none}\r\n",
              ".BHHPBajadaPrecioMIXTA2103 .BH-cont .BH-pastilla a.btn{display:inline-block}\r\n",
              "}\r\n",
              ".bajadapreciopastillapointer{width:140px;height:140px;background-image:url(https://www.ing.es/binaries/content/gallery/hipposp/ContentBlockImageSet/hipotecas/target/21/bajadapreciomixta/bajada-precio-hipoteca-mixta-pointer.svg);background-size:contain;background-repeat:no-repeat;background-position:center top;color:#fff!important;font-size:1px;text-align:center;z-index:12;justify-content:center;flex-direction:column;padding:28px 17px 35px 15px;box-sizing:border-box;position:absolute;bottom:30px;left:20px}\r\n",
              ".bajadapreciopastillapointer span.textpromo,.bajadapreciopastillapointer span.textpromo *{font-size:20px;font-stretch:normal;font-style:normal;line-height:28px;letter-spacing:.23px;text-align:center;color:#fff!important}\r\n",
              "@media screen and (min-width: 59.25em) {\r\n",
              ".bajadapreciopastillapointer{bottom:auto;top:180px;left:auto;right:40px}\r\n",
              "}\r\n",
              "</style>\r\n",
              "<div class=\"BHHPBajadaPrecioMIXTA2103\" id=\"BHHPBajadaPrecioMIXTA2103\" role=\"img\" title=\"Rebajas - PrÃ©stamo NARANJA\" aria-label=\"Rebajas - PrÃ©stamo NARANJA\">\r\n",
              "<div class=\"BH-cont\">\r\n",
              "<div id=\"BH-PR-2102-DYT-col01\">\r\n",
              "<div class=\"BH-bgimg\"></div>\r\n",
              "<div class=\"bajadapreciopastillapointer\"> <span class=\"textpromo\"><strong>Bajamos<br>aÃºn mÃ¡s<br>el precio</strong></span></div>\r\n",
              "</div>\r\n",
              "<div id=\"BH-PR-2102-DYT-col02\">\r\n",
              "<div class=\"BH-pastilla\">\r\n",
              "<h2><b>Hipoteca NARANJA Mixta</b></h2>\r\n",
              "<p class=\"h3\">Lo bueno de la fija y las ventajas de la variable <br class=\"oculto-mb\">en una sola hipoteca</p>\r\n",
              "<ul>\r\n",
              "<li>Con la tranquilidad de que tu cuota no cambia durante 10 aÃ±os</li>\r\n",
              "<li>Con un gestor personal de principio a fin</li>\r\n",
              "<li>Y como siempre, sin comisiones</li>\r\n",
              "</ul>\r\n",
              "<div class=\"BH-botonera\">\r\n",
              "<a href=\"https://www.ing.es/hipotecas/hipoteca-mixta\" class=\"btn\" title=\"Hipoteca NARANJA Mixta Baja de Precio\" aria-label=\"Hipoteca NARANJA Mixta Baja de Precio\" onclick=\"utag.link({\\'itHome_click\\':\\'home:banner:posicion_1:hipotecas:mas informacion\\',\\'event_name\\':\\'clickHome\\'})\"><strong>MÃ¡s informaciÃ³n</strong></a>\r\n",
              "</div>\r\n",
              "</div>\r\n",
              "</div>\r\n",
              "</div>\r\n",
              "</div>\r\n",
              "</div></div>\n",
              "</div>\n",
              "                </div>\n",
              "                <div>\n",
              "                    \n",
              "<div style=\"background-color: #FFFFFF;\">\n",
              "<div id=\"home/distribuidora-enero-2019\" name=\"home/distribuidora-enero-2019\" class=\"flexCentro\">\n",
              "<div class=\"title\"></div>\n",
              "<ing-uic-cms-products-grid\n",
              "api='/site/api/documents/21907ad9-5ac9-41c2-8a09-37bb7d504cc8'\n",
              "theme = 'secondary'\n",
              "baseapi = '/hippogenoma/' >\n",
              "</ing-uic-cms-products-grid>\n",
              "</div>\n",
              "</div>\n",
              "                </div>\n",
              "                <div>\n",
              "                    \n",
              "<div style=\"background-color: #FFFFFF;\">\n",
              "<div id=\"home/destacado-do-your-thing\" name=\"home/destacado-do-your-thing\" class=\"flexCentro\">\n",
              "<div class=\"title\"></div>\n",
              "<ing-uic-cms-content\n",
              "api='/site/api/documents/41668ff2-ae47-4336-a67d-4fb5c2f20d38'\n",
              "theme = 'secondary'\n",
              "baseapi = '/hippogenoma/' >\n",
              "</ing-uic-cms-content>\n",
              "</div>\n",
              "</div>\n",
              "                </div>\n",
              "                <div>\n",
              "                    \n",
              "<div style=\"background-color: #FFFFFF;\">\n",
              "<div id=\"home/cero-comisiones-en-miles-de-cajeros\" name=\"home/cero-comisiones-en-miles-de-cajeros\" class=\"flexSmallMargin\">\n",
              "<div class=\"title\"></div>\n",
              "<ing-uic-cms-content-narrow\n",
              "api='/site/api/documents/ef657f8c-5330-4618-bd59-4147da8aa47b'\n",
              "theme = 'secondary'\n",
              "baseapi = '/hippogenoma/' >\n",
              "</ing-uic-cms-content-narrow>\n",
              "</div>\n",
              "</div>\n",
              "                </div>\n",
              "                <div>\n",
              "                    \n",
              "<div style=\"background-color: #FFFFFF;\">\n",
              "<div id=\"home/abre-una-cuenta-nomina\" name=\"home/abre-una-cuenta-nomina\" class=\"flexCentro\">\n",
              "<div class=\"title\"></div>\n",
              "<ing-uic-cms-cards-carousel\n",
              "api='/site/api/documents/d0290a36-65fa-4def-97e2-1dc7ad944744'\n",
              "theme = 'secondary'\n",
              "baseapi = '/hippogenoma/' >\n",
              "</ing-uic-cms-cards-carousel>\n",
              "</div>\n",
              "</div>\n",
              "                </div>\n",
              "                <div>\n",
              "                    \n",
              "<div style=\"background-color: #FFFFFF;\">\n",
              "<div id=\"home/hazte-cliente\" name=\"home/hazte-cliente\" class=\"flexSmallMargin\">\n",
              "<div class=\"title\"></div>\n",
              "<ing-uic-cms-content\n",
              "api='/site/api/documents/d322f6bc-19ce-4481-940c-c494e4cd5eaf'\n",
              "theme = 'secondary'\n",
              "baseapi = '/hippogenoma/' >\n",
              "</ing-uic-cms-content>\n",
              "</div>\n",
              "</div>\n",
              "                </div>\n",
              "                <div>\n",
              "                    \n",
              "\n",
              "<ing-uic-cms-breadcrumb path='[ {\n",
              "\"title\" : \"ING\",\n",
              "\"href\" : \"\",\n",
              "\"alt\" : \"ING\"\n",
              "} ]'></ing-uic-cms-breadcrumb>\n",
              "                </div>\n",
              "                <div>\n",
              "                    \n",
              "\n",
              "<ing-uic-cms-footer data='{\n",
              "\"columnaLinks\" : {\n",
              "\"type\" : \"simple\",\n",
              "\"groups\" : [ {\n",
              "\"title\" : \"Â¿Necesitas ayuda?\",\n",
              "\"links\" : [ {\n",
              "\"text\" : \"Oficinas y cajeros\",\n",
              "\"href\" : \"/oficinas-cajeros/cajeros\",\n",
              "\"target\" : \"_self\",\n",
              "\"altHref\" : \"Oficinas y cajeros\"\n",
              "}, {\n",
              "\"text\" : \"Preguntas Frecuentes\",\n",
              "\"href\" : \"/sobre-ing/preguntas-frecuentes\",\n",
              "\"target\" : \"_self\",\n",
              "\"altHref\" : \"Preguntas frecuentes\"\n",
              "}, {\n",
              "\"text\" : \"ContÃ¡ctanos\",\n",
              "\"href\" : \"/contacto\",\n",
              "\"target\" : \"_self\",\n",
              "\"altHref\" : \"ContÃ¡ctanos\"\n",
              "}, {\n",
              "\"text\" : \"Acceso negocios\",\n",
              "\"href\" : \"/hippogenoma/SME/Transactional/faces/default\",\n",
              "\"target\" : \"_blank\",\n",
              "\"altHref\" : \"Acceso negocios, abre en ventana nueva\"\n",
              "} ],\n",
              "\"boxes\" : [ ]\n",
              "}, {\n",
              "\"title\" : \"Sobre ING\",\n",
              "\"links\" : [ {\n",
              "\"text\" : \"ConÃ³cenos\",\n",
              "\"href\" : \"/sobre-ing\",\n",
              "\"target\" : \"_self\",\n",
              "\"altHref\" : \"ConÃ³cenos\"\n",
              "}, {\n",
              "\"text\" : \"Hazte cliente\",\n",
              "\"href\" : \"/hazte-cliente\",\n",
              "\"target\" : \"_self\",\n",
              "\"altHref\" : \"Hazte cliente\"\n",
              "}, {\n",
              "\"text\" : \"Trabaja con nosotros\",\n",
              "\"href\" : \"/sobre-ing/trabaja-con-nosotros\",\n",
              "\"target\" : \"_self\",\n",
              "\"altHref\" : \"Trabaja con nosotros\"\n",
              "}, {\n",
              "\"text\" : \"Sala de prensa\",\n",
              "\"href\" : \"/sobre-ing/sala-prensa\",\n",
              "\"target\" : \"_self\",\n",
              "\"altHref\" : \"Sala de prensa\"\n",
              "}, {\n",
              "\"text\" : \"Accesibilidad\",\n",
              "\"href\" : \"/accesibilidad\",\n",
              "\"target\" : \"_self\",\n",
              "\"altHref\" : \"Accesibilidad\"\n",
              "}, {\n",
              "\"text\" : \"Banca responsable\",\n",
              "\"href\" : \"/sobre-ing/sostenibilidad\",\n",
              "\"target\" : \"_self\",\n",
              "\"altHref\" : \"Banca responsable\"\n",
              "} ],\n",
              "\"boxes\" : [ ]\n",
              "} ]\n",
              "},\n",
              "\"columnaIconos\" : {\n",
              "\"type\" : \"social\",\n",
              "\"title\" : \"Aplicaciones y redes sociales\",\n",
              "\"stores\" : [ {\n",
              "\"href\" : \"https://itunes.apple.com/es/app/ing-direct-espana.-banca-movil/id774858627?mt=8\",\n",
              "\"icon\" : \"ios\",\n",
              "\"target\" : \"_blank\",\n",
              "\"altIcon\" : \"DescÃ¡rgate la app para iOS\",\n",
              "\"altHref\" : \"DescÃ¡rgate la app para iOs, abre en nueva ventana\"\n",
              "}, {\n",
              "\"href\" : \"https://play.google.com/store/apps/details?id=www.ingdirect.nativeframe\",\n",
              "\"icon\" : \"android\",\n",
              "\"target\" : \"_blank\",\n",
              "\"altIcon\" : \"DescÃ¡rgate la app para Android\",\n",
              "\"altHref\" : \"DescÃ¡rgate la app para Android, abre en nueva ventana\"\n",
              "} ],\n",
              "\"text\" : \"SÃ­guenos en:\",\n",
              "\"social\" : [ {\n",
              "\"href\" : \"https://www.facebook.com/ingespana\",\n",
              "\"icon\" : \"ico-facebook\",\n",
              "\"target\" : \"_blank\",\n",
              "\"altIcon\" : \"Facebook\",\n",
              "\"altHref\" : \"Facebook, abre en nueva ventana\"\n",
              "}, {\n",
              "\"href\" : \"https://twitter.com/ing_es\",\n",
              "\"icon\" : \"ico-twitter\",\n",
              "\"target\" : \"_blank\",\n",
              "\"altIcon\" : \"Twitter\",\n",
              "\"altHref\" : \"Twitter, abre en nueva ventana\"\n",
              "}, {\n",
              "\"href\" : \"https://www.youtube.com/c/ingespana\",\n",
              "\"icon\" : \"ico-youtube\",\n",
              "\"target\" : \"_blank\",\n",
              "\"altIcon\" : \"Youtube\",\n",
              "\"altHref\" : \"Youtube, abre en nueva ventana\"\n",
              "}, {\n",
              "\"href\" : \"https://www.linkedin.com/company/ing-espana-portugal\",\n",
              "\"icon\" : \"ico-linkedin\",\n",
              "\"target\" : \"_blank\",\n",
              "\"altIcon\" : \"Linkedin\",\n",
              "\"altHref\" : \"Linkedin, abre en nueva ventana\"\n",
              "}, {\n",
              "\"href\" : \"http://www.ennaranja.com/\",\n",
              "\"icon\" : \"ico-blog\",\n",
              "\"target\" : \"_blank\",\n",
              "\"altIcon\" : \"Blog Ennaranja\",\n",
              "\"altHref\" : \"Ennaranja, abre en nueva ventana\"\n",
              "}, {\n",
              "\"href\" : \"https://www.instagram.com/ing_espana\",\n",
              "\"icon\" : \"ico-instagram\",\n",
              "\"target\" : \"_blank\",\n",
              "\"altIcon\" : \"Instagram\",\n",
              "\"altHref\" : \"Instagram, abre en nueva ventana\"\n",
              "} ]\n",
              "},\n",
              "\"informacionLegal\" : {\n",
              "\"type\" : \"link-bar\",\n",
              "\"links\" : [ {\n",
              "\"text\" : \"Privacidad y Cookies\",\n",
              "\"href\" : \"/cookies\",\n",
              "\"target\" : \"_self\",\n",
              "\"altHref\" : \"PolÃ­tica de cookies\"\n",
              "}, {\n",
              "\"text\" : \"Seguridad\",\n",
              "\"href\" : \"/sobre-ing/seguridad-internet\",\n",
              "\"target\" : \"_self\",\n",
              "\"altHref\" : \"Seguridad\"\n",
              "}, {\n",
              "\"text\" : \"Info Legal, Anexos y Reclamaciones\",\n",
              "\"href\" : \"/sobre-ing/informacion-legal\",\n",
              "\"target\" : \"_self\",\n",
              "\"altHref\" : \"Info Legal, Anexos y Reclamaciones\"\n",
              "}, {\n",
              "\"text\" : \"Aviso Legal\",\n",
              "\"href\" : \"/sobre-ing/aviso-legal\",\n",
              "\"target\" : \"_self\",\n",
              "\"altHref\" : \"Aviso Legal\"\n",
              "}, {\n",
              "\"text\" : \"Mapa\",\n",
              "\"href\" : \"/sobre-ing/mapa-sitio\",\n",
              "\"target\" : \"_self\",\n",
              "\"altHref\" : \"Mapa\"\n",
              "}, {\n",
              "\"text\" : \"Gobierno corporativo y polÃ­tica de remuneraciones\",\n",
              "\"href\" : \"https://www.ing.com/About-us/Corporate-Governance/Legal-structure-and-Regulators.htm\",\n",
              "\"target\" : \"_blank\",\n",
              "\"altHref\" : \"Gobierno corporativo y polÃ­tica de remuneraciones, abre en nueva ventana\"\n",
              "} ]\n",
              "},\n",
              "\"accesibilidad\" : {\n",
              "\"href\" : \"http://certiaccesibilidad.technosite.es/Recursos/Certificado.aspx?codigo=smgbreirsvmbxpyhgxyh751933045SMGBREIRSVMBXPYHGXYHG\",\n",
              "\"icon\" : \"icon-accesibilidad\",\n",
              "\"target\" : \"_blank\",\n",
              "\"altIcon\" : \"Accesibilidad\",\n",
              "\"altHref\" : \"Ilunion TecnologÃ­a y Accesibilidad, CertificaciÃ³n WCAG - WAI AA, abre en nueva ventana\"\n",
              "}\n",
              "}'></ing-uic-cms-footer>\n",
              "                </div>\n",
              "    </div>\n",
              "\n",
              "</div>\n",
              "</div>\n",
              "<div slot=\"footer\">\n",
              "    <div>\n",
              "    </div>\n",
              "\n",
              "</div>\n",
              "</ing-uic-cms-layout>\n",
              "</div>\n",
              "<script language=\"javascript\" type=\"text/javascript\">\n",
              "(function(a,b,c,d){\n",
              "a='/hippotealium/utag.js';\n",
              "b=document;c='script';d=b.createElement(c);d.src=a;d.type='text/java'+c;d.async=\n",
              "true;\n",
              "a=b.getElementsByTagName(c)[0];a.parentNode.insertBefore(d,a);\n",
              "})();\n",
              "</script>\n",
              "</body>\n",
              "</html>"
            ]
          },
          "metadata": {
            "tags": []
          },
          "execution_count": 31
        }
      ]
    },
    {
      "cell_type": "code",
      "metadata": {
        "id": "excellent-comparison",
        "outputId": "e3d4bef9-7533-400d-8c25-7449fd93b27d"
      },
      "source": [
        "// Getting a URL and parsing the JSON response\n",
        "\n",
        "def baseUrl = 'https://www.ing.es/'\n",
        "def jsonSlurper = new groovy.json.JsonSlurper()\n",
        "def result = jsonSlurper.parseText(baseUrl.toURL().text)"
      ],
      "id": "excellent-comparison",
      "execution_count": null,
      "outputs": [
        {
          "output_type": "error",
          "ename": "groovy.json.JsonException",
          "evalue": " Unable to determine the current character, it is not a string, number, array, or object",
          "traceback": [
            "\u001b[1;31mgroovy.json.JsonException: Unable to determine the current character, it is not a string, number, array, or object\u001b[0;0m",
            "\u001b[1;31m\u001b[0;0m",
            "\u001b[1;31mThe current character read is '<' with an int value of 60\u001b[0;0m",
            "\u001b[1;31mUnable to determine the current character, it is not a string, number, array, or object\u001b[0;0m",
            "\u001b[1;31mline number 1\u001b[0;0m",
            "\u001b[1;31mindex number 0\u001b[0;0m",
            "\u001b[1;31m<!doctype html>\u001b[0;0m",
            "\u001b[1;31m^\u001b[0;0m",
            "\u001b[1;31m\tat org.apache.groovy.json.internal.JsonParserCharArray.decodeValueInternal(JsonParserCharArray.java:202)\u001b[0;0m",
            "\u001b[1;31m\tat org.apache.groovy.json.internal.JsonParserCharArray.decodeValue(JsonParserCharArray.java:153)\u001b[0;0m",
            "\u001b[1;31m\tat org.apache.groovy.json.internal.JsonParserCharArray.decodeFromChars(JsonParserCharArray.java:42)\u001b[0;0m",
            "\u001b[1;31m\tat org.apache.groovy.json.internal.JsonParserCharArray.parse(JsonParserCharArray.java:380)\u001b[0;0m",
            "\u001b[1;31m\tat org.apache.groovy.json.internal.BaseJsonParser.parse(BaseJsonParser.java:110)\u001b[0;0m",
            "\u001b[1;31m\tat this cell line 5\u001b[0;0m",
            "\u001b[0;31m\tat com.twosigma.beakerx.groovy.evaluator.GroovyCodeRunner.runScript(GroovyCodeRunner.java:94)\u001b[0;0m",
            "\u001b[0;31m\tat com.twosigma.beakerx.groovy.evaluator.GroovyCodeRunner.call(GroovyCodeRunner.java:59)\u001b[0;0m",
            "\u001b[0;31m\tat com.twosigma.beakerx.groovy.evaluator.GroovyCodeRunner.call(GroovyCodeRunner.java:32)\u001b[0;0m"
          ]
        }
      ]
    },
    {
      "cell_type": "code",
      "metadata": {
        "id": "dietary-lafayette",
        "outputId": "6e7a9ae1-ae23-409e-a98d-351d0f6ee391"
      },
      "source": [
        "def baseUrl = 'https://www.ing.es/'\n",
        "def result = new groovy.json.JsonSlurper().parseText(baseUrl.toURL().text)"
      ],
      "id": "dietary-lafayette",
      "execution_count": null,
      "outputs": [
        {
          "output_type": "error",
          "ename": "groovy.json.JsonException",
          "evalue": " Unable to determine the current character, it is not a string, number, array, or object",
          "traceback": [
            "\u001b[1;31mgroovy.json.JsonException: Unable to determine the current character, it is not a string, number, array, or object\u001b[0;0m",
            "\u001b[1;31m\u001b[0;0m",
            "\u001b[1;31mThe current character read is '<' with an int value of 60\u001b[0;0m",
            "\u001b[1;31mUnable to determine the current character, it is not a string, number, array, or object\u001b[0;0m",
            "\u001b[1;31mline number 1\u001b[0;0m",
            "\u001b[1;31mindex number 0\u001b[0;0m",
            "\u001b[1;31m<!doctype html>\u001b[0;0m",
            "\u001b[1;31m^\u001b[0;0m",
            "\u001b[1;31m\tat org.apache.groovy.json.internal.JsonParserCharArray.decodeValueInternal(JsonParserCharArray.java:202)\u001b[0;0m",
            "\u001b[1;31m\tat org.apache.groovy.json.internal.JsonParserCharArray.decodeValue(JsonParserCharArray.java:153)\u001b[0;0m",
            "\u001b[1;31m\tat org.apache.groovy.json.internal.JsonParserCharArray.decodeFromChars(JsonParserCharArray.java:42)\u001b[0;0m",
            "\u001b[1;31m\tat org.apache.groovy.json.internal.JsonParserCharArray.parse(JsonParserCharArray.java:380)\u001b[0;0m",
            "\u001b[1;31m\tat org.apache.groovy.json.internal.BaseJsonParser.parse(BaseJsonParser.java:110)\u001b[0;0m",
            "\u001b[1;31m\tat this cell line 2\u001b[0;0m",
            "\u001b[0;31m\tat com.twosigma.beakerx.groovy.evaluator.GroovyCodeRunner.runScript(GroovyCodeRunner.java:94)\u001b[0;0m",
            "\u001b[0;31m\tat com.twosigma.beakerx.groovy.evaluator.GroovyCodeRunner.call(GroovyCodeRunner.java:59)\u001b[0;0m",
            "\u001b[0;31m\tat com.twosigma.beakerx.groovy.evaluator.GroovyCodeRunner.call(GroovyCodeRunner.java:32)\u001b[0;0m"
          ]
        }
      ]
    },
    {
      "cell_type": "code",
      "metadata": {
        "id": "understanding-functionality",
        "outputId": "f98d6e07-961e-4256-a2b2-6dc0a277cdf9"
      },
      "source": [
        "// Setting a time out on requests\n",
        "\n",
        "def baseUrl = 'https://some/url/'\n",
        "def result = new groovy.json.JsonSlurper().parseText(baseUrl.toURL().getText([connectTimeout: 2000, readTimeout: 2000]))"
      ],
      "id": "understanding-functionality",
      "execution_count": null,
      "outputs": [
        {
          "output_type": "error",
          "ename": "java.net.UnknownHostException",
          "evalue": " some",
          "traceback": [
            "\u001b[1;31mjava.net.UnknownHostException: some\u001b[0;0m",
            "\u001b[1;31m\tat this cell line 4\u001b[0;0m",
            "\u001b[0;31m\tat com.twosigma.beakerx.groovy.evaluator.GroovyCodeRunner.runScript(GroovyCodeRunner.java:94)\u001b[0;0m",
            "\u001b[0;31m\tat com.twosigma.beakerx.groovy.evaluator.GroovyCodeRunner.call(GroovyCodeRunner.java:59)\u001b[0;0m",
            "\u001b[0;31m\tat com.twosigma.beakerx.groovy.evaluator.GroovyCodeRunner.call(GroovyCodeRunner.java:32)\u001b[0;0m"
          ]
        }
      ]
    },
    {
      "cell_type": "code",
      "metadata": {
        "id": "quarterly-oakland",
        "outputId": "16a3a4fd-e0e7-4571-b21a-509710625e8e"
      },
      "source": [
        "\"\"\"\n",
        "If it takes a long time for Teneo to respond and you see an error like this in Try-out: Script action execution failed: \n",
        "Maximum execution time exceeded, but forced script termination failed, the cause is often a call to an online api that is slow or doesn't respond.\n",
        "Setting a timeout will prevent this error. Howver, you will still need to make sure that your script or flow gracefully handles the fact that it did not \n",
        "receive a repsonse in time.\n",
        "\"\"\""
      ],
      "id": "quarterly-oakland",
      "execution_count": null,
      "outputs": [
        {
          "output_type": "execute_result",
          "data": {
            "text/plain": [
              "\n",
              "If it takes a long time for Teneo to respond and you see an error like this in Try-out: Script action execution failed:\n",
              "Maximum execution time exceeded, but forced script termination failed, the cause is often a call to an online api that is slow or doesn't respond.\n",
              "Setting a timeout will prevent this error. Howver, you will still need to make sure that your script or flow gracefully handles the fact that it did not\n",
              "receive a repsonse in time.\n"
            ]
          },
          "metadata": {
            "tags": []
          },
          "execution_count": 35
        }
      ]
    },
    {
      "cell_type": "code",
      "metadata": {
        "id": "israeli-internet"
      },
      "source": [
        ""
      ],
      "id": "israeli-internet",
      "execution_count": null,
      "outputs": []
    },
    {
      "cell_type": "code",
      "metadata": {
        "id": "forty-engineer",
        "outputId": "12b4e6dd-cc25-49f5-a3c3-c878aa73487f"
      },
      "source": [
        "// Groovy Tutorial for Java Developers – Part 1: The Basics\n",
        "// https://www.timroes.de/groovy-tutorial-for-java-developers"
      ],
      "id": "forty-engineer",
      "execution_count": null,
      "outputs": [
        {
          "output_type": "execute_result",
          "data": {
            "text/plain": [
              "null"
            ]
          },
          "metadata": {
            "tags": []
          },
          "execution_count": 36
        }
      ]
    },
    {
      "cell_type": "code",
      "metadata": {
        "id": "photographic-belize",
        "outputId": "a84b5024-f136-4b0a-b66b-915be707a6cc"
      },
      "source": [
        "\"\"\"\n",
        "Hello World\n",
        "Groovy nearly is a superset of Java, which means most of the Java code is also valid Groovy code. It just adds a lot of syntactic sugar on top of Java.\n",
        "We will illustrate this with a short example.\n",
        "\"\"\""
      ],
      "id": "photographic-belize",
      "execution_count": null,
      "outputs": [
        {
          "output_type": "execute_result",
          "data": {
            "text/plain": [
              "\n",
              "Hello World\n",
              "Groovy nearly is a superset of Java, which means most of the Java code is also valid Groovy code. It just adds a lot of syntactic sugar on top of Java.\n",
              "We will illustrate this with a short example.\n"
            ]
          },
          "metadata": {
            "tags": []
          },
          "execution_count": 37
        }
      ]
    },
    {
      "cell_type": "code",
      "metadata": {
        "id": "descending-baghdad",
        "outputId": "4bb41562-c351-47b5-b982-4a7857f56ee3"
      },
      "source": [
        "\"\"\"\n",
        "This would be valid Java and valid Groovy. Except that you would need at least a class with a main method around it in Java to run. \n",
        "In Groovy you can just place this inside a file, execute it via the console and it will work. But in Groovy we can shorten this line to:\n",
        "\"\"\"\n",
        "\n",
        "System.out.println(\"Hello World\");\n",
        "println \"Hello World\""
      ],
      "id": "descending-baghdad",
      "execution_count": null,
      "outputs": [
        {
          "output_type": "stream",
          "text": [
            "Hello World\n",
            "Hello World\n"
          ],
          "name": "stdout"
        },
        {
          "output_type": "execute_result",
          "data": {
            "text/plain": [
              "null"
            ]
          },
          "metadata": {
            "tags": []
          },
          "execution_count": 39
        }
      ]
    },
    {
      "cell_type": "code",
      "metadata": {
        "id": "parliamentary-patch",
        "outputId": "12745aa1-316f-4d98-b2f8-7997dd04f332"
      },
      "source": [
        "// Variables\n",
        "def x = 42\n",
        "println x.getClass()\n",
        "x = \"Hello World\"\n",
        "println x.getClass()"
      ],
      "id": "parliamentary-patch",
      "execution_count": null,
      "outputs": [
        {
          "output_type": "stream",
          "text": [
            "class java.lang.Integer\n",
            "class java.lang.String\n"
          ],
          "name": "stdout"
        },
        {
          "output_type": "execute_result",
          "data": {
            "text/plain": [
              "null"
            ]
          },
          "metadata": {
            "tags": []
          },
          "execution_count": 40
        }
      ]
    },
    {
      "cell_type": "code",
      "metadata": {
        "id": "expired-movie",
        "outputId": "46e54b8a-ae97-42de-d42d-6f65d79f8c3d"
      },
      "source": [
        "// Strings\n",
        "def x = \"World\"\n",
        "println \"Hello, $x\""
      ],
      "id": "expired-movie",
      "execution_count": null,
      "outputs": [
        {
          "output_type": "stream",
          "text": [
            "Hello, World\n"
          ],
          "name": "stdout"
        },
        {
          "output_type": "execute_result",
          "data": {
            "text/plain": [
              "null"
            ]
          },
          "metadata": {
            "tags": []
          },
          "execution_count": 41
        }
      ]
    },
    {
      "cell_type": "code",
      "metadata": {
        "id": "banned-pierce",
        "outputId": "ced5b11d-600b-427f-848f-321e84a29c31"
      },
      "source": [
        "\"\"\"\n",
        "This would produce the output Hello, World. The content of variable x is inserted into the string. \n",
        "If you want to use more complex statements in the string you need to add curly braces after the dollar sign, e.g.:\n",
        "\"\"\"\n",
        "\n",
        "def firstName = \"Douglas\"\n",
        "def name = \"Adams\"\n",
        "println \"Hello, ${firstName[0]}. $name\""
      ],
      "id": "banned-pierce",
      "execution_count": null,
      "outputs": [
        {
          "output_type": "stream",
          "text": [
            "Hello, D. Adams\n"
          ],
          "name": "stdout"
        },
        {
          "output_type": "execute_result",
          "data": {
            "text/plain": [
              "null"
            ]
          },
          "metadata": {
            "tags": []
          },
          "execution_count": 42
        }
      ]
    },
    {
      "cell_type": "code",
      "metadata": {
        "id": "driving-electric",
        "outputId": "a94bb007-2474-4a95-cec7-e7d4eab003e4"
      },
      "source": [
        "\"\"\"\n",
        "single quotes will always create a plain Java string without any interpolation features whereas double quotes will create a GString if necessary \n",
        "so that interpolation works. Therefor you will need to escape the dollar sign in a double quotes string, if you want to print out the dollar sign itself.\n",
        "Groovy also has support for multiline strings. Just use three double or single quotes (with the same meaning explained above) to create a multiline string:\n",
        "\"\"\"\n",
        "\n",
        "def s = \"\"\"This is\n",
        "a multiline\n",
        "string\"\"\""
      ],
      "id": "driving-electric",
      "execution_count": null,
      "outputs": [
        {
          "output_type": "execute_result",
          "data": {
            "text/plain": [
              "This is\n",
              "a multiline\n",
              "string"
            ]
          },
          "metadata": {
            "tags": []
          },
          "execution_count": 43
        }
      ]
    },
    {
      "cell_type": "code",
      "metadata": {
        "id": "registered-metropolitan",
        "outputId": "8f9cd3eb-ea29-4b32-a93c-1c831356883f"
      },
      "source": [
        "// Regular Expressions\n",
        "\n",
        "\"\"\"\n",
        "The main difference (in contrast to \"\"\" \"\"\") is, that you don’t need to escape a backslash character, which you often need in regular expression patterns.\n",
        "Therefor you need to escape the slash character.\n",
        "\"\"\""
      ],
      "id": "registered-metropolitan",
      "execution_count": null,
      "outputs": [
        {
          "output_type": "error",
          "ename": "groovy.lang.MissingMethodException",
          "evalue": " No signature of method",
          "traceback": [
            "\u001b[1;31mgroovy.lang.MissingMethodException: No signature of method: script1617207873964.\u001b[0;0m",
            "\u001b[1;31mThe main difference (in contrast to () is applicable for argument types: (String) values: [) is, that you don’t need to escape a backslash character, which you often need in regular expression patterns.\u001b[0;0m",
            "\u001b[1;31mTherefor you need to escape the slash character.\u001b[0;0m",
            "\u001b[1;31m]\u001b[0;0m",
            "\u001b[1;31m\tat this cell line 3\u001b[0;0m",
            "\u001b[0;31m\tat com.twosigma.beakerx.groovy.evaluator.GroovyCodeRunner.runScript(GroovyCodeRunner.java:94)\u001b[0;0m",
            "\u001b[0;31m\tat com.twosigma.beakerx.groovy.evaluator.GroovyCodeRunner.call(GroovyCodeRunner.java:59)\u001b[0;0m",
            "\u001b[0;31m\tat com.twosigma.beakerx.groovy.evaluator.GroovyCodeRunner.call(GroovyCodeRunner.java:32)\u001b[0;0m"
          ]
        }
      ]
    },
    {
      "cell_type": "code",
      "metadata": {
        "id": "rental-poison",
        "outputId": "2ef613b3-5dbb-41f7-b178-85d90caa9786"
      },
      "source": [
        "def pattern = ~/a slash must be escaped \\/ but backslash, like in a digit match \\d does not/\n",
        "println pattern.getClass()\n",
        "println \" \"\n",
        "println pattern"
      ],
      "id": "rental-poison",
      "execution_count": null,
      "outputs": [
        {
          "output_type": "stream",
          "text": [
            "class java.util.regex.Pattern\n",
            " \n",
            "a slash must be escaped / but backslash, like in a digit match \\d does not\n"
          ],
          "name": "stdout"
        },
        {
          "output_type": "execute_result",
          "data": {
            "text/plain": [
              "null"
            ]
          },
          "metadata": {
            "tags": []
          },
          "execution_count": 49
        }
      ]
    },
    {
      "cell_type": "code",
      "metadata": {
        "id": "likely-alfred",
        "outputId": "1e8e1ad7-bfc9-406f-8e39-fb769ad87746"
      },
      "source": [
        "\"\"\"\n",
        "This script will show you, that pattern is of type java.util.regex.Pattern.\n",
        "\n",
        "If you want to compare a string against a regular expression (and get the Matcher to read out the groups) you can use the find operator =~.\n",
        "\n",
        "It takes a string on the left side and a string containing a regular expression on the right side and returns a Java Matcher, \n",
        "which gives access to the result. Since a Matcher instance evaluates to true, when it found at least one result, you can easily use this in an if statement:\n",
        "\"\"\"\n",
        "\n",
        "def matcher = \"The Hitchhiker's Guide to the Galaxy\" =~ /Galaxy/\n",
        "if (matcher) {\n",
        "  println \"Found the word 'Galaxy'\"\n",
        "}"
      ],
      "id": "likely-alfred",
      "execution_count": null,
      "outputs": [
        {
          "output_type": "stream",
          "text": [
            "Found the word 'Galaxy'\n"
          ],
          "name": "stdout"
        },
        {
          "output_type": "execute_result",
          "data": {
            "text/plain": [
              "null"
            ]
          },
          "metadata": {
            "tags": []
          },
          "execution_count": 50
        }
      ]
    },
    {
      "cell_type": "code",
      "metadata": {
        "id": "binding-standing",
        "outputId": "ef6d7b9a-4df0-4f36-a04e-22763f20edd2"
      },
      "source": [
        "// Often you want to access the result of the matcher. You can use the array index for that:\n",
        "\n",
        "def m = \"Groovy is groovy\" =~ /(G|g)roovy/\n",
        "println m[0][0] // The first whole match (i.e. the first word Groovy)\n",
        "println m[0][1] // The first group in the first match (i.e. G)\n",
        "println m[1][0] // The second whole match (i.e. the word groovy)\n",
        "println m[1][1] // The first group in the second match (i.e. g)"
      ],
      "id": "binding-standing",
      "execution_count": null,
      "outputs": [
        {
          "output_type": "stream",
          "text": [
            "Groovy\n",
            "G\n",
            "groovy\n",
            "g\n"
          ],
          "name": "stdout"
        },
        {
          "output_type": "execute_result",
          "data": {
            "text/plain": [
              "null"
            ]
          },
          "metadata": {
            "tags": []
          },
          "execution_count": 51
        }
      ]
    },
    {
      "cell_type": "code",
      "metadata": {
        "id": "removable-princeton"
      },
      "source": [
        "\"\"\"\n",
        "Safe Navigation Operator\n",
        "\n",
        "If you want to access a property of an object “nested inside” you have to check all the parent objects for null or your code will throw a\n",
        "NullPointerException. Let’s look at the following code snippet:\n",
        "\"\"\"\n",
        "\n",
        "if(company.getContact() != null\n",
        "    && company.getContact().getAddress() != null\n",
        "    && company.getContact.getAddress().getCountry() == Country.NEW_ZEALAND) { ... }"
      ],
      "id": "removable-princeton",
      "execution_count": null,
      "outputs": []
    },
    {
      "cell_type": "code",
      "metadata": {
        "id": "progressive-calculator"
      },
      "source": [
        "\"\"\"\n",
        "If null is a valid data for a contact and an address, you have to check if they are not null before accessing their properties. \n",
        "This is code noise, that Groovy prevents with the safe navigation operator `?. \n",
        "Using this operator instead of the dot no NullPointerException will be thrown if any part is null. Instead the whole result of the navigation will be null:\n",
        "\"\"\"\n",
        "\n",
        "if(company.getContact()?.getAddress()?.getCountry() == Country.NEW_ZEALAND) { ... }"
      ],
      "id": "progressive-calculator",
      "execution_count": null,
      "outputs": []
    },
    {
      "cell_type": "code",
      "metadata": {
        "id": "fitting-slovak"
      },
      "source": [
        "\"\"\"\n",
        "Elvis Operator\n",
        "\n",
        "The ternary operator in Java is often use to assign default values if an actual value is not present, like in the following example:\n",
        "\"\"\"\n",
        "\n",
        "def name = client.getName() != null ? client.getName() : \"\""
      ],
      "id": "fitting-slovak",
      "execution_count": null,
      "outputs": []
    },
    {
      "cell_type": "code",
      "metadata": {
        "id": "gross-papua"
      },
      "source": [
        "\"\"\"\n",
        "If you want to assign a value or if its not “present” (i.e. if it evaluates to false) a default value, you can use the elvis operator ?:\n",
        "\n",
        "That way Groovy will assign client.getName() if it isn’t false (in case of a string that means not null and not empty) or the empty string otherwise.\n",
        "\"\"\"\n",
        "\n",
        "def name = client.getName() ?: \"\""
      ],
      "id": "gross-papua",
      "execution_count": null,
      "outputs": []
    },
    {
      "cell_type": "code",
      "metadata": {
        "id": "mature-george"
      },
      "source": [
        ""
      ],
      "id": "mature-george",
      "execution_count": null,
      "outputs": []
    },
    {
      "cell_type": "code",
      "metadata": {
        "id": "fatty-forestry",
        "outputId": "7f26e9cc-6e77-4dec-d037-e4b664c739f4"
      },
      "source": [
        "// Groovy Tutorial for Java Developers – Part 2: Closures\n",
        "// https://www.timroes.de/groovy-tutorial-for-java-developers-part2-closures\n",
        "\n",
        "\"\"\"\n",
        "Groovy has support for closures, which work much like Java 8 lambdas.\n",
        "A closure is an anonymous block of executable code (let’s say a function) which can be passed to variables and has access to data in the context where it was\n",
        "defined. \n",
        "\n",
        "Let’s look at this in a bit more detail. To define a closure and assign it to a variable you can write as follows:\n",
        "\"\"\"\n",
        "\n",
        "def helloWorld = {\n",
        "  println \"Hello World\"\n",
        "}\n",
        "\n",
        "// The variable helloWorld now holds a reference to the closure and you can execute it by “calling the variable”:\n",
        "helloWorld()"
      ],
      "id": "fatty-forestry",
      "execution_count": null,
      "outputs": [
        {
          "output_type": "stream",
          "text": [
            "Hello World\n"
          ],
          "name": "stdout"
        },
        {
          "output_type": "execute_result",
          "data": {
            "text/plain": [
              "null"
            ]
          },
          "metadata": {
            "tags": []
          },
          "execution_count": 55
        }
      ]
    },
    {
      "cell_type": "code",
      "metadata": {
        "id": "developed-picnic",
        "outputId": "00297b42-9cca-43dc-eae5-eb96cc40a3d7"
      },
      "source": [
        "helloWorld = {\n",
        "  println \"Hello World\"\n",
        "}"
      ],
      "id": "developed-picnic",
      "execution_count": null,
      "outputs": [
        {
          "output_type": "execute_result",
          "data": {
            "text/plain": [
              "script1617209171545$_run_closure1@7af0a3cb"
            ]
          },
          "metadata": {
            "tags": []
          },
          "execution_count": 56
        }
      ]
    },
    {
      "cell_type": "code",
      "metadata": {
        "id": "systematic-movement",
        "outputId": "7105327d-9cea-438e-bcf2-de28fe5308ff"
      },
      "source": [
        "helloWorld()"
      ],
      "id": "systematic-movement",
      "execution_count": null,
      "outputs": [
        {
          "output_type": "stream",
          "text": [
            "Hello World\n"
          ],
          "name": "stdout"
        },
        {
          "output_type": "execute_result",
          "data": {
            "text/plain": [
              "null"
            ]
          },
          "metadata": {
            "tags": []
          },
          "execution_count": 57
        }
      ]
    },
    {
      "cell_type": "code",
      "metadata": {
        "id": "equipped-negotiation",
        "outputId": "81e609dc-e432-4dd9-c6db-e01abd936cfc"
      },
      "source": [
        "\"\"\"\n",
        "Parameters\n",
        "\n",
        "You can also expect parameters in closures and pass them when calling:\n",
        "\"\"\"\n",
        "\n",
        "def power = { int x, int y ->\n",
        "  return Math.pow(x, y)\n",
        "}\n",
        "println power(2, 3) // Will print 8.0"
      ],
      "id": "equipped-negotiation",
      "execution_count": null,
      "outputs": [
        {
          "output_type": "stream",
          "text": [
            "8.0\n"
          ],
          "name": "stdout"
        },
        {
          "output_type": "execute_result",
          "data": {
            "text/plain": [
              "null"
            ]
          },
          "metadata": {
            "tags": []
          },
          "execution_count": 58
        }
      ]
    },
    {
      "cell_type": "code",
      "metadata": {
        "id": "satisfied-gibraltar",
        "outputId": "8393476a-6bc1-4cb4-e3f9-b0690f5b418c"
      },
      "source": [
        "\"\"\"\n",
        "Type definition of parameters is the same like variables. If you define a type you can only use this type, but you can also skip the type of parameters and\n",
        "pass in anything you want:\n",
        "\"\"\"\n",
        "\n",
        "def say = { what ->\n",
        "  println what\n",
        "}\n",
        "say \"Hello World\""
      ],
      "id": "satisfied-gibraltar",
      "execution_count": null,
      "outputs": [
        {
          "output_type": "stream",
          "text": [
            "Hello World\n"
          ],
          "name": "stdout"
        },
        {
          "output_type": "execute_result",
          "data": {
            "text/plain": [
              "null"
            ]
          },
          "metadata": {
            "tags": []
          },
          "execution_count": 59
        }
      ]
    },
    {
      "cell_type": "code",
      "metadata": {
        "id": "pacific-robertson",
        "outputId": "82a988c0-bf55-4af5-ad44-3b30c196f375"
      },
      "source": [
        "\"\"\"\n",
        "If you don’t specify any parameters (and no arrow) the closure can accept one parameter which is available by the name it inside of the closure.\n",
        "That way you can make often used one parameter closures even shorter, e.g. you can shorten the above to the following (which will produce exactly the same\n",
        "result):\n",
        "\"\"\"\n",
        "\n",
        "def say = { println it }\n",
        "say \"Hello World\""
      ],
      "id": "pacific-robertson",
      "execution_count": null,
      "outputs": [
        {
          "output_type": "stream",
          "text": [
            "Hello World\n"
          ],
          "name": "stdout"
        },
        {
          "output_type": "execute_result",
          "data": {
            "text/plain": [
              "null"
            ]
          },
          "metadata": {
            "tags": []
          },
          "execution_count": 60
        }
      ]
    },
    {
      "cell_type": "code",
      "metadata": {
        "id": "bigger-slovakia",
        "outputId": "43005c89-9691-44d5-db80-6482c5c00f4e"
      },
      "source": [
        "\"\"\"\n",
        "If you don’t pass the parameter, it will just be null. \n",
        "If you really want to create a closure that won’t be able to take an argument, you have to write the following:\n",
        "\"\"\"\n",
        "\n",
        "def clos = { ->\n",
        "  println \"This closure does not take any arguments.\"\n",
        "}\n",
        "\n",
        "clos()"
      ],
      "id": "bigger-slovakia",
      "execution_count": null,
      "outputs": [
        {
          "output_type": "stream",
          "text": [
            "This closure does not take any arguments.\n"
          ],
          "name": "stdout"
        },
        {
          "output_type": "execute_result",
          "data": {
            "text/plain": [
              "null"
            ]
          },
          "metadata": {
            "tags": []
          },
          "execution_count": 63
        }
      ]
    },
    {
      "cell_type": "code",
      "metadata": {
        "id": "regular-account",
        "outputId": "a1829d4b-e876-4768-f6b0-32b31beb39f5"
      },
      "source": [
        "\"\"\"\n",
        "Optional Return\n",
        "In Groovy the last statement of a method block (or closure) is returned implicitly without you needing to write the return statement. \n",
        "This can be useful to reduce boilerplate code to a minimum. A closure that calculates the square of a number, can be shortened as follows.\n",
        "This closure makes usage of the implicit parameter it and the optional return statement.\n",
        "\"\"\"\n",
        "\n",
        "def square = { it * it }\n",
        "println square(4) // Will print out 16"
      ],
      "id": "regular-account",
      "execution_count": null,
      "outputs": [
        {
          "output_type": "stream",
          "text": [
            "16\n"
          ],
          "name": "stdout"
        },
        {
          "output_type": "execute_result",
          "data": {
            "text/plain": [
              "null"
            ]
          },
          "metadata": {
            "tags": []
          },
          "execution_count": 65
        }
      ]
    },
    {
      "cell_type": "code",
      "metadata": {
        "id": "covered-occasions",
        "outputId": "fd4e7ac2-d12b-45e9-b6de-17a7e9ef3407"
      },
      "source": [
        "\"\"\"\n",
        "Passing Closures around\n",
        "The power of being able to assign closures to variable is that you can also pass them around to methods.\n",
        "Let’s write a closure (you could of course do the same to class methods) which will expect a closure as a parameter and a string:\n",
        "\"\"\"\n",
        "\n",
        "def transform = { str, transformation ->\n",
        "  transformation(str)\n",
        "}\n",
        "\n",
        "\n",
        "\"\"\"\n",
        "Your transform function now can be called with a string and a closure. \n",
        "The transform function will just call the passed closure with the passed string (what makes it a pretty useless example)\n",
        "\"\"\"\n",
        "\n",
        "\"\"\"\n",
        "This will print out HELLO WORLD, since it will call the closure with Hello World as a parameter. \n",
        "The closure itself just transforms it one parameter it to upper case and implicitly return it.\n",
        "\"\"\"\n",
        "\n",
        "println transform(\"Hello World\", { it.toUpperCase() })\n",
        "\n",
        "\"\"\"\n",
        "Because Groovy brims with syntactic sugar, it is allowed to close the method parentheses and place the closure behind it:\n",
        "\"\"\"\n",
        "\n",
        "\"\"\"\n",
        "This syntax should increase readability (especially when the closure does not simply fit into one line. \n",
        "This optimization also works when the closure is the only parameter to the method. You can still place the closure behind the parantheses \n",
        "(or just skip the parantheses, since they are anyway optional in the most cases).\n",
        "\"\"\"\n",
        "\n",
        "println transform(\"Hello World\") { it.toUpperCase() }"
      ],
      "id": "covered-occasions",
      "execution_count": null,
      "outputs": [
        {
          "output_type": "stream",
          "text": [
            "HELLO WORLD\n",
            "HELLO WORLD\n"
          ],
          "name": "stdout"
        },
        {
          "output_type": "execute_result",
          "data": {
            "text/plain": [
              "null"
            ]
          },
          "metadata": {
            "tags": []
          },
          "execution_count": 70
        }
      ]
    },
    {
      "cell_type": "code",
      "metadata": {
        "id": "billion-fetish",
        "outputId": "95444945-576b-46ae-a4c7-57acbb8e5566"
      },
      "source": [
        "\"\"\"\n",
        "Closing of variables\n",
        "\n",
        "Everything we’ve seen so far is specific to anonymous first-class functions (often called lambda functions), but what is the specific about closures?\n",
        "\n",
        "Closures have access to the variables in the context they were defined. Let this demonstrate with an easy sample:\n",
        "\"\"\"\n",
        "\n",
        "def createGreeter = { name ->\n",
        "  return {\n",
        "    def day = new Date().getDay()\n",
        "    // day = 0\n",
        "    if (day == 0 || day == 6) {\n",
        "      println \"Nice Weekend, $name\"\n",
        "    } else {\n",
        "      println \"Hello, $name\"\n",
        "    }\n",
        "  }\n",
        "}\n",
        "def greetWorld = createGreeter(\"World\")\n",
        "greetWorld()"
      ],
      "id": "billion-fetish",
      "execution_count": null,
      "outputs": [
        {
          "output_type": "stream",
          "text": [
            "Nice Weekend, World\n"
          ],
          "name": "stdout"
        },
        {
          "output_type": "execute_result",
          "data": {
            "text/plain": [
              "null"
            ]
          },
          "metadata": {
            "tags": []
          },
          "execution_count": 74
        }
      ]
    },
    {
      "cell_type": "code",
      "metadata": {
        "id": "ultimate-dependence",
        "outputId": "f372d8f1-02b4-4be3-f04f-b161cef2b276"
      },
      "source": [
        "\"\"\"\n",
        "We call the createGreeter closure and pass the name World to it. \n",
        "This closure will basically return a new closure, which we store in the variable greetWorld. \n",
        "Whenever we call greetWorld now we will get a nice message depending on whether it’s weekend or not.\n",
        "\n",
        "We never passed the content of the name variable to the inner closure, that we return and store in greetWorld.\n",
        "We still can access it from inside the closure, because that is what being a closure means.\n",
        "It has access to the variables of the context it was defined in. In this case it was defined somewhere where a variable name exists.\n",
        "\n",
        "The closure can use this variable even once it got returned and called somewhere completely different.\n",
        "\"\"\""
      ],
      "id": "ultimate-dependence",
      "execution_count": null,
      "outputs": [
        {
          "output_type": "execute_result",
          "data": {
            "text/plain": [
              "\n",
              "We call the createGreeter closure and pass the name World to it.\n",
              "This closure will basically return a new closure, which we store in the variable greetWorld.\n",
              "Whenever we call greetWorld now we will get a nice message depending on whether it’s weekend or not.\n",
              "\n",
              "We never passed the content of the name variable to the inner closure, that we return and store in greetWorld.\n",
              "We still can access it from inside the closure, because that is what being a closure means.\n",
              "It has access to the variables of the context it was defined in. In this case it was defined somewhere where a variable name exists.\n",
              "\n",
              "The closure can use this variable even once it got returned and called somewhere completely different.\n"
            ]
          },
          "metadata": {
            "tags": []
          },
          "execution_count": 75
        }
      ]
    },
    {
      "cell_type": "code",
      "metadata": {
        "id": "international-drive",
        "outputId": "cb87c1cb-248a-49a9-be3f-de9f202c1c6c"
      },
      "source": [
        "// Groovy Tutorial for Java Developers – Part 3: Collections\n",
        "// https://www.timroes.de/groovy-tutorial-for-java-developers-part3-collections"
      ],
      "id": "international-drive",
      "execution_count": null,
      "outputs": [
        {
          "output_type": "execute_result",
          "data": {
            "text/plain": [
              "null"
            ]
          },
          "metadata": {
            "tags": []
          },
          "execution_count": 76
        }
      ]
    },
    {
      "cell_type": "code",
      "metadata": {
        "id": "transsexual-george",
        "outputId": "13ee71b4-db19-4143-c939-7d11b4bdc1b2"
      },
      "source": [
        "\"\"\"\n",
        "This part of the Groovy tutorial series focus on the usage of lists and maps in Groovy.\n",
        "It will require an understanding of Groovy closures. If you are not familiar with closures in Groovy,\n",
        "you can head to the second part of this tutorial to learn about them.\n",
        "\"\"\""
      ],
      "id": "transsexual-george",
      "execution_count": null,
      "outputs": [
        {
          "output_type": "execute_result",
          "data": {
            "text/plain": [
              "\n",
              "This part of the Groovy tutorial series focus on the usage of lists and maps in Groovy.\n",
              "It will require an understanding of Groovy closures. If you are not familiar with closures in Groovy,\n",
              "you can head to the second part of this tutorial to learn about them.\n"
            ]
          },
          "metadata": {
            "tags": []
          },
          "execution_count": 77
        }
      ]
    },
    {
      "cell_type": "code",
      "metadata": {
        "id": "bearing-laser",
        "outputId": "ac3639f2-e2ee-4fca-ba88-771fe480cea7"
      },
      "source": [
        "\"\"\"\n",
        "Lists\n",
        "Groovy offers a shortcut method to create a new list:\n",
        "\"\"\""
      ],
      "id": "bearing-laser",
      "execution_count": null,
      "outputs": [
        {
          "output_type": "execute_result",
          "data": {
            "text/plain": [
              "\n",
              "Lists\n",
              "Groovy offers a shortcut method to create a new list:\n"
            ]
          },
          "metadata": {
            "tags": []
          },
          "execution_count": 78
        }
      ]
    },
    {
      "cell_type": "code",
      "metadata": {
        "id": "harmful-advice",
        "outputId": "9bb2f9a8-efbc-401e-ca93-6b92cfa9a6e0"
      },
      "source": [
        "def list = [1,1,2,3,5]"
      ],
      "id": "harmful-advice",
      "execution_count": null,
      "outputs": [
        {
          "output_type": "execute_result",
          "data": {
            "text/plain": [
              "[1, 1, 2, 3, 5]"
            ]
          },
          "metadata": {
            "tags": []
          },
          "execution_count": 79
        }
      ]
    },
    {
      "cell_type": "code",
      "metadata": {
        "id": "sorted-drove",
        "outputId": "c4de9f7a-7f02-4bce-b713-c691dc80664c"
      },
      "source": [
        "\"\"\"\n",
        "This will create an ArrayList with the given numbers in it. \n",
        "To access a list element you can use the overloaded array index accessor:\n",
        "\"\"\"\n",
        "\n",
        "println list[0] // will print 1\n",
        "println list[-1] // negative indexes for access from the end of the list, will print out 5"
      ],
      "id": "sorted-drove",
      "execution_count": null,
      "outputs": [
        {
          "output_type": "stream",
          "text": [
            "1\n",
            "6\n"
          ],
          "name": "stdout"
        },
        {
          "output_type": "execute_result",
          "data": {
            "text/plain": [
              "null"
            ]
          },
          "metadata": {
            "tags": []
          },
          "execution_count": 80
        }
      ]
    },
    {
      "cell_type": "code",
      "metadata": {
        "id": "prepared-margin",
        "outputId": "78944d4b-4840-44fd-a961-7ce46c17e775"
      },
      "source": [
        "\"\"\"\n",
        "Finding Elements\n",
        "To check whether a specific element is contained inside a list you can use the in operator:\n",
        "\"\"\"\n",
        "def list = [1,1,2,3,5]\n",
        "\n",
        "if (3 in list) { println \"el 3 esta en la lista anterior\" }"
      ],
      "id": "prepared-margin",
      "execution_count": null,
      "outputs": [
        {
          "output_type": "stream",
          "text": [
            "el 3 esta en la lista anterior\n"
          ],
          "name": "stdout"
        },
        {
          "output_type": "execute_result",
          "data": {
            "text/plain": [
              "null"
            ]
          },
          "metadata": {
            "tags": []
          },
          "execution_count": 81
        }
      ]
    },
    {
      "cell_type": "code",
      "metadata": {
        "id": "occupational-mailing",
        "outputId": "b58f61ab-be58-42b2-fdeb-313633d22d43"
      },
      "source": [
        "def list = [1,1,2,3,5]\n",
        "\n",
        "if (4 in list) { println \"el 4 esta en la lista anterior\" }"
      ],
      "id": "occupational-mailing",
      "execution_count": null,
      "outputs": [
        {
          "output_type": "execute_result",
          "data": {
            "text/plain": [
              "null"
            ]
          },
          "metadata": {
            "tags": []
          },
          "execution_count": 82
        }
      ]
    },
    {
      "cell_type": "code",
      "metadata": {
        "id": "beautiful-palestine",
        "outputId": "c2f5e1c6-1437-47e7-979e-65e4f1f23a3d"
      },
      "source": [
        "\"\"\"\n",
        "Transformation and Filtering\n",
        "Due to the existance of closures (as explained in the previous tutorial part) there are easy ways to iterate, filter and transform lists. \n",
        "To iterate over a list you can use the each method on a list:\n",
        "\"\"\"\n",
        "\n",
        "def list = [1,1,2,3,5]\n",
        "\n",
        "list.each {\n",
        "  println it\n",
        "}"
      ],
      "id": "beautiful-palestine",
      "execution_count": null,
      "outputs": [
        {
          "output_type": "stream",
          "text": [
            "1\n",
            "1\n",
            "2\n",
            "3\n",
            "5\n"
          ],
          "name": "stdout"
        },
        {
          "output_type": "execute_result",
          "data": {
            "text/plain": [
              "[1, 1, 2, 3, 5]"
            ]
          },
          "metadata": {
            "tags": []
          },
          "execution_count": 83
        }
      ]
    },
    {
      "cell_type": "code",
      "metadata": {
        "id": "reasonable-addition",
        "outputId": "e8215e3b-432d-4702-daf0-bfd580607fac"
      },
      "source": [
        "\"\"\"\n",
        "As you see we made our code more groovyish by omitting the method call parantheses and just pass the closure. \n",
        "The passed closure will be executed once for each element in the list and the list element will be passed as a parameter (here implicitly it) to the closure.\n",
        "\n",
        "Note that all of these methods work on any Java Collection.\n",
        "No matter if you created it the short way as shown above or if comes from a Java part of your program and has been created the “traditional” way.\n",
        "\n",
        "To filter a list you can use the method findAll:\n",
        "\"\"\"\n",
        "\n",
        "def even = list.findAll { it % 2 == 0 }\n",
        "print even\n",
        "println()\n",
        "println()\n",
        "println even"
      ],
      "id": "reasonable-addition",
      "execution_count": null,
      "outputs": [
        {
          "output_type": "stream",
          "text": [
            "[2, 2, 4, 6]\n",
            "\n",
            "[2, 2, 4, 6]\n"
          ],
          "name": "stdout"
        },
        {
          "output_type": "execute_result",
          "data": {
            "text/plain": [
              "null"
            ]
          },
          "metadata": {
            "tags": []
          },
          "execution_count": 90
        }
      ]
    },
    {
      "cell_type": "code",
      "metadata": {
        "id": "coupled-guess",
        "outputId": "274fdb28-ab40-4516-9351-afa47c9c8d25"
      },
      "source": [
        "\"\"\"\n",
        "The findAll method creates a new list, by calling the passed closure for every element in the list and adding it to the new list\n",
        "if the closure returns a value that evaluates to true (see first tutorial part for Groovy truthy).\n",
        "\n",
        "If you are just interested in the first element of the list that matches a given criteria, you can use the find method instead. \n",
        "It also takes a closure and will return the first element for which the closure evaluates to true.\n",
        "\n",
        "If you need to transform each element of a list you can use the collect method:\n",
        "\"\"\"\n",
        "\n",
        "def list = [1,1,2,3,5]\n",
        "\n",
        "def squaredList = list.collect { it * it }\n",
        "\n",
        "println squaredList"
      ],
      "id": "coupled-guess",
      "execution_count": null,
      "outputs": [
        {
          "output_type": "stream",
          "text": [
            "[1, 1, 4, 9, 25]\n"
          ],
          "name": "stdout"
        },
        {
          "output_type": "execute_result",
          "data": {
            "text/plain": [
              "null"
            ]
          },
          "metadata": {
            "tags": []
          },
          "execution_count": 92
        }
      ]
    },
    {
      "cell_type": "code",
      "metadata": {
        "id": "tired-sheffield",
        "outputId": "ed63a29e-792f-4a77-d386-cda26415924e"
      },
      "source": [
        "\"\"\"\n",
        "This will create a new list by transforming each element in list by the given closure.\n",
        "\n",
        "If the only transformation you want to do in the collect closure is calling a method on each element, like in the following:\n",
        "\"\"\"\n",
        "\n",
        "def upper = [\"Hello\", \"World\"].collect { it.toUpperCase() }\n",
        "\n",
        "println upper"
      ],
      "id": "tired-sheffield",
      "execution_count": null,
      "outputs": [
        {
          "output_type": "stream",
          "text": [
            "[HELLO, WORLD]\n"
          ],
          "name": "stdout"
        },
        {
          "output_type": "execute_result",
          "data": {
            "text/plain": [
              "null"
            ]
          },
          "metadata": {
            "tags": []
          },
          "execution_count": 93
        }
      ]
    },
    {
      "cell_type": "code",
      "metadata": {
        "id": "major-russia",
        "outputId": "be0ff2e2-66aa-4b3d-e077-34fed095afcf"
      },
      "source": [
        "\"\"\"\n",
        "Beside the mentioned methods the Collection (and Iterable) interfaces provide some more methods, like any or every to check whether any element or every\n",
        "element inside the list fullfills a specific condition (expressed by a closure).\n",
        "To see all further methods you can check the Collection documentation in the Groovy docs.\n",
        "\"\"\""
      ],
      "id": "major-russia",
      "execution_count": null,
      "outputs": [
        {
          "output_type": "execute_result",
          "data": {
            "text/plain": [
              "\n",
              "Beside the mentioned methods the Collection (and Iterable) interfaces provide some more methods, like any or every to check whether any element or every\n",
              "element inside the list fullfills a specific condition (expressed by a closure).\n",
              "To see all further methods you can check the Collection documentation in the Groovy docs.\n"
            ]
          },
          "metadata": {
            "tags": []
          },
          "execution_count": 94
        }
      ]
    },
    {
      "cell_type": "code",
      "metadata": {
        "id": "spiritual-turkish",
        "outputId": "fa15dcc3-9911-4e18-bde9-5290c53c05c4",
        "colab": {
          "referenced_widgets": [
            "7c5b08d6-5a68-4f1d-910d-45997b25f6f5"
          ]
        }
      },
      "source": [
        "\"\"\"\n",
        "MAPS\n",
        "Similar to lists Groovy also has some more convenient method to instantiate maps.\n",
        "\"\"\"\n",
        "\n",
        "def key = 'Key3'\n",
        "\n",
        "def aMap = [\n",
        "  'Key1': 'Value 1', // Put key1 -> Value 1 to the map\n",
        "  Key2: 'Value 2', // You can also skip the quotes, the key will automatically be a String\n",
        "  (key): 'Another value' // If you want the key to be the value of a variable, you need to put it in parantheses\n",
        "]"
      ],
      "id": "spiritual-turkish",
      "execution_count": null,
      "outputs": [
        {
          "output_type": "display_data",
          "data": {
            "application/vnd.jupyter.widget-view+json": {
              "model_id": "7c5b08d6-5a68-4f1d-910d-45997b25f6f5",
              "version_major": 2,
              "version_minor": 0
            }
          },
          "metadata": {
            "tags": []
          }
        }
      ]
    },
    {
      "cell_type": "code",
      "metadata": {
        "id": "alike-childhood",
        "outputId": "ede3d13e-49ca-4365-98ef-1d795bb45a21",
        "colab": {
          "referenced_widgets": [
            "9c08e973-8f55-4e8b-a71a-37461824a22c"
          ]
        }
      },
      "source": [
        "\"\"\"\n",
        "After this initialization you will get a new LinkedHashMap with the entries: Key1 -> Value1, Key2 -> Value 2, Key3 -> Another Value. \n",
        "If you want to create an empty map with this syntax you can write: def map = [:]\n",
        "\"\"\"\n",
        "def empty_map = [:]"
      ],
      "id": "alike-childhood",
      "execution_count": null,
      "outputs": [
        {
          "output_type": "display_data",
          "data": {
            "application/vnd.jupyter.widget-view+json": {
              "model_id": "9c08e973-8f55-4e8b-a71a-37461824a22c",
              "version_major": 2,
              "version_minor": 0
            }
          },
          "metadata": {
            "tags": []
          }
        }
      ]
    },
    {
      "cell_type": "code",
      "metadata": {
        "id": "organized-lender",
        "outputId": "a047139f-f0e4-499d-dccb-fc7ce5fbb346"
      },
      "source": [
        "\"\"\"\n",
        "To access entries in the map you can again use square brackets:\n",
        "\"\"\"\n",
        "def key = 'Key3'\n",
        "def aMap = [\n",
        "  'Key1': 'Value 1', // Put key1 -> Value 1 to the map\n",
        "  Key2: 'Value 2', // You can also skip the quotes, the key will automatically be a String\n",
        "  (key): 'Another value' // If you want the key to be the value of a variable, you need to put it in parantheses\n",
        "]\n",
        "\n",
        "println aMap['Key1'] // Access the key Key1\n",
        "println aMap[key] // Access the entry with the value of key variable"
      ],
      "id": "organized-lender",
      "execution_count": null,
      "outputs": [
        {
          "output_type": "stream",
          "text": [
            "Value 1\n",
            "Another value\n"
          ],
          "name": "stdout"
        },
        {
          "output_type": "execute_result",
          "data": {
            "text/plain": [
              "null"
            ]
          },
          "metadata": {
            "tags": []
          },
          "execution_count": 99
        }
      ]
    },
    {
      "cell_type": "code",
      "metadata": {
        "id": "insured-grammar",
        "outputId": "c9dee324-7679-40d0-c755-840290c6c624"
      },
      "source": [
        "\"\"\"\n",
        "Beside using brackets you can also use dot notation to access entries:\n",
        "\"\"\"\n",
        "def key = 'Key3'\n",
        "def aMap = [\n",
        "  'Key1': 'Value 1', // Put key1 -> Value 1 to the map\n",
        "  Key2: 'Value 2', // You can also skip the quotes, the key will automatically be a String\n",
        "  (key): 'Another value' // If you want the key to be the value of a variable, you need to put it in parantheses\n",
        "]\n",
        "\n",
        "println aMap.Key1 // Access Key1 entry"
      ],
      "id": "insured-grammar",
      "execution_count": null,
      "outputs": [
        {
          "output_type": "stream",
          "text": [
            "Value 1\n"
          ],
          "name": "stdout"
        },
        {
          "output_type": "execute_result",
          "data": {
            "text/plain": [
              "null"
            ]
          },
          "metadata": {
            "tags": []
          },
          "execution_count": 110
        }
      ]
    },
    {
      "cell_type": "code",
      "metadata": {
        "id": "monthly-mentor",
        "outputId": "72bdf78e-f63a-4fa6-9e5f-2d51cf447500"
      },
      "source": [
        "\"\"\"\n",
        "If the key has characters in it, that can’t be parsed as an identifier (e.g. a space) you can still use the dot syntax with quotes around it:\n",
        "aMap.'Key With Spaces'. \n",
        "Since in my opinion this looks kind of strange I don’t give it its own box.\n",
        "You can even use interpolated Strings with this syntax, like: aMap.\"$key\", which is the same as aMap[key].\n",
        "\"\"\""
      ],
      "id": "monthly-mentor",
      "execution_count": null,
      "outputs": [
        {
          "output_type": "error",
          "ename": "groovy.lang.MissingPropertyException",
          "evalue": " No such property",
          "traceback": [
            "\u001b[1;31mgroovy.lang.MissingPropertyException: No such property: key for class: script1617222868282\u001b[0;0m",
            "\u001b[1;31m\tat this cell line 1\u001b[0;0m",
            "\u001b[0;31m\tat com.twosigma.beakerx.groovy.evaluator.GroovyCodeRunner.runScript(GroovyCodeRunner.java:94)\u001b[0;0m",
            "\u001b[0;31m\tat com.twosigma.beakerx.groovy.evaluator.GroovyCodeRunner.call(GroovyCodeRunner.java:59)\u001b[0;0m",
            "\u001b[0;31m\tat com.twosigma.beakerx.groovy.evaluator.GroovyCodeRunner.call(GroovyCodeRunner.java:32)\u001b[0;0m"
          ]
        }
      ]
    },
    {
      "cell_type": "code",
      "metadata": {
        "id": "funky-simon",
        "outputId": "a94e97e9-715f-4512-d843-c8257dee0c94"
      },
      "source": [
        "def key = 'Key3'\n",
        "def key4 = 'Key4 with spaces'\n",
        "def aMap = [\n",
        "    'Key1': 'Value 1', // Put key1 -> Value 1 to the map\n",
        "    Key2: 'Value 2', // You can also skip the quotes, the key will automatically be a String\n",
        "    (key): 'Another value', // If you want the key to be the value of a variable, you need to put it in parantheses\n",
        "    (key4): 'the fourth value',\n",
        "    'key5 with spaces': 'the fifth value'\n",
        "]\n",
        "\n",
        "println aMap.'Key1'\n",
        "println aMap.\"$key\" \n",
        "println aMap.\"$key4\" \n",
        "println aMap.'Key4 with spaces' \n",
        "println aMap.'key5 with spaces'"
      ],
      "id": "funky-simon",
      "execution_count": null,
      "outputs": [
        {
          "output_type": "stream",
          "text": [
            "Value 1\n",
            "Another value\n",
            "the fourth value\n",
            "the fourth value\n",
            "the fifth value\n"
          ],
          "name": "stdout"
        },
        {
          "output_type": "execute_result",
          "data": {
            "text/plain": [
              "null"
            ]
          },
          "metadata": {
            "tags": []
          },
          "execution_count": 160
        }
      ]
    },
    {
      "cell_type": "code",
      "metadata": {
        "id": "limiting-identifier",
        "outputId": "24c5b8ca-ddbf-4ef5-9d84-a2f685b57d56"
      },
      "source": [
        "def key = 'Key3'\n",
        "def key4 = 'Key4 with spaces'\n",
        "def aMap = [\n",
        "    'Key1': 'Value 1', // Put key1 -> Value 1 to the map\n",
        "    Key2: 'Value 2', // You can also skip the quotes, the key will automatically be a String\n",
        "    (key): 'Another value', // If you want the key to be the value of a variable, you need to put it in parantheses\n",
        "    (key4): 'the fourth value',\n",
        "    'key5 with spaces': 'the fifth value'\n",
        "]\n",
        "\n",
        "\"\"\"\n",
        "After this initialization you will get a new LinkedHashMap with the entries: Key1 -> Value1, Key2 -> Value 2, Key3 -> Another Value.\n",
        "If you want to create an empty map with this syntax you can write: def map = [:]\n",
        "\n",
        "To access entries in the map you can again use square brackets:\n",
        "\"\"\"\n",
        "\n",
        "println aMap['Key1'] // Access the key Key1\n",
        "println aMap[key] // Access the entry with the value of key variable"
      ],
      "id": "limiting-identifier",
      "execution_count": null,
      "outputs": [
        {
          "output_type": "stream",
          "text": [
            "Value 1\n",
            "Another value\n"
          ],
          "name": "stdout"
        },
        {
          "output_type": "execute_result",
          "data": {
            "text/plain": [
              "null"
            ]
          },
          "metadata": {
            "tags": []
          },
          "execution_count": 162
        }
      ]
    },
    {
      "cell_type": "code",
      "metadata": {
        "id": "rational-cartoon",
        "outputId": "192307f5-28cf-4677-9531-a24d24386a20"
      },
      "source": [
        "def key = 'Key3'\n",
        "def key4 = 'Key4 with spaces'\n",
        "def aMap = [\n",
        "    'Key1': 'Value 1', // Put key1 -> Value 1 to the map\n",
        "    Key2: 'Value 2', // You can also skip the quotes, the key will automatically be a String\n",
        "    (key): 'Another value', // If you want the key to be the value of a variable, you need to put it in parantheses\n",
        "    (key4): 'the fourth value',\n",
        "    'key5 with spaces': 'the fifth value'\n",
        "]\n",
        "\n",
        "\"\"\"\n",
        "Beside using brackets you can also use dot notation to access entries:\n",
        "\"\"\"\n",
        "println aMap.Key1 // Access Key1 entry"
      ],
      "id": "rational-cartoon",
      "execution_count": null,
      "outputs": [
        {
          "output_type": "stream",
          "text": [
            "Value 1\n"
          ],
          "name": "stdout"
        },
        {
          "output_type": "execute_result",
          "data": {
            "text/plain": [
              "null"
            ]
          },
          "metadata": {
            "tags": []
          },
          "execution_count": 164
        }
      ]
    },
    {
      "cell_type": "code",
      "metadata": {
        "id": "eleven-office",
        "outputId": "82618d32-c489-471b-ff70-9030928c5755"
      },
      "source": [
        "\"\"\"\n",
        "f the key has characters in it, that can’t be parsed as an identifier (e.g. a space) \n",
        "you can still use the dot syntax with quotes around it: aMap.'Key With Spaces'. \n",
        "Since in my opinion this looks kind of strange I don’t give it its own box. \n",
        "You can even use interpolated Strings with this syntax, like: aMap.\"$key\", which is the same as aMap[key].\n",
        "\"\"\""
      ],
      "id": "eleven-office",
      "execution_count": null,
      "outputs": [
        {
          "output_type": "error",
          "ename": "groovy.lang.MissingPropertyException",
          "evalue": " No such property",
          "traceback": [
            "\u001b[1;31mgroovy.lang.MissingPropertyException: No such property: key for class: script1617224551140\u001b[0;0m",
            "\u001b[1;31m\tat this cell line 1\u001b[0;0m",
            "\u001b[0;31m\tat com.twosigma.beakerx.groovy.evaluator.GroovyCodeRunner.runScript(GroovyCodeRunner.java:94)\u001b[0;0m",
            "\u001b[0;31m\tat com.twosigma.beakerx.groovy.evaluator.GroovyCodeRunner.call(GroovyCodeRunner.java:59)\u001b[0;0m",
            "\u001b[0;31m\tat com.twosigma.beakerx.groovy.evaluator.GroovyCodeRunner.call(GroovyCodeRunner.java:32)\u001b[0;0m"
          ]
        }
      ]
    },
    {
      "cell_type": "code",
      "metadata": {
        "id": "moderate-teddy",
        "outputId": "ebcdfadd-9a08-4d01-9707-67f8b4ad8b98"
      },
      "source": [
        "def key = 'Key3'\n",
        "def key4 = 'Key4 with spaces'\n",
        "def aMap = [\n",
        "    'Key1': 'Value 1', // Put key1 -> Value 1 to the map\n",
        "    Key2: 'Value 2', // You can also skip the quotes, the key will automatically be a String\n",
        "    (key): 'Another value', // If you want the key to be the value of a variable, you need to put it in parantheses\n",
        "    (key4): 'the fourth value',\n",
        "    'key5 with spaces': 'the fifth value'\n",
        "]\n",
        "\n",
        "println aMap.'key5 with spaces'\n",
        "println aMap.\"$key\"\n",
        "println aMap[key]"
      ],
      "id": "moderate-teddy",
      "execution_count": null,
      "outputs": [
        {
          "output_type": "stream",
          "text": [
            "the fifth value\n",
            "Another value\n",
            "Another value\n"
          ],
          "name": "stdout"
        },
        {
          "output_type": "execute_result",
          "data": {
            "text/plain": [
              "null"
            ]
          },
          "metadata": {
            "tags": []
          },
          "execution_count": 170
        }
      ]
    },
    {
      "cell_type": "code",
      "metadata": {
        "id": "extraordinary-backup",
        "outputId": "335e30b7-a2b7-4a72-b0a8-a6a984403eb3",
        "colab": {
          "referenced_widgets": [
            "157d15fc-03bc-4682-98a9-7d56cf16c903"
          ]
        }
      },
      "source": [
        "\"\"\"\n",
        "TRANSFORMING AND FILTERING\n",
        "For filtering and transforming tasks you have the same methods than for lists with a slightly different syntax:\n",
        "\"\"\"\n",
        "\n",
        "def key = 'Key3'\n",
        "def key4 = 'Key4 with spaces'\n",
        "def aMap = [\n",
        "    'Key1': 'Value 1', // Put key1 -> Value 1 to the map\n",
        "    Key2: 'Value 2', // You can also skip the quotes, the key will automatically be a String\n",
        "    (key): 'Another value', // If you want the key to be the value of a variable, you need to put it in parantheses\n",
        "    (key4): 'the fourth value',\n",
        "    'key5 with spaces': 'the fifth value'\n",
        "]\n",
        "\n",
        "aMap.each {\n",
        "  println it.key\n",
        "  println it.value\n",
        "}"
      ],
      "id": "extraordinary-backup",
      "execution_count": null,
      "outputs": [
        {
          "output_type": "stream",
          "text": [
            "Key1\n",
            "Value 1\n",
            "Key2\n",
            "Value 2\n",
            "Key3\n",
            "Another value\n",
            "Key4 with spaces\n",
            "the fourth value\n",
            "key5 with spaces\n",
            "the fifth value\n"
          ],
          "name": "stdout"
        },
        {
          "output_type": "display_data",
          "data": {
            "application/vnd.jupyter.widget-view+json": {
              "model_id": "157d15fc-03bc-4682-98a9-7d56cf16c903",
              "version_major": 2,
              "version_minor": 0
            }
          },
          "metadata": {
            "tags": []
          }
        }
      ]
    },
    {
      "cell_type": "code",
      "metadata": {
        "id": "simple-promise",
        "outputId": "78023c39-9f8d-4112-93fd-017e78bdf05d",
        "colab": {
          "referenced_widgets": [
            "ae423c5d-d97b-4c75-be82-df3791eb2a07"
          ]
        }
      },
      "source": [
        "\"\"\"\n",
        "Instead of the value you will get the entry of the map on which you can access the key and value as shown above.\n",
        "\n",
        "The each method can also take a closure with two parameters in which case it will put key and value into these parameters.\n",
        "So you could express the above also as:\n",
        "\"\"\"\n",
        "\n",
        "def key_test = 'Key3'\n",
        "def key4 = 'Key4 with spaces'\n",
        "def aMap = [\n",
        "    'Key1': 'Value 1', // Put key1 -> Value 1 to the map\n",
        "    Key2: 'Value 2', // You can also skip the quotes, the key will automatically be a String\n",
        "    (key_test): 'Another value', // If you want the key to be the value of a variable, you need to put it in parantheses\n",
        "    (key4): 'the fourth value',\n",
        "    'key5 with spaces': 'the fifth value'\n",
        "]\n",
        "\n",
        "aMap.each { key, value ->\n",
        "  println key\n",
        "  println value\n",
        "}"
      ],
      "id": "simple-promise",
      "execution_count": null,
      "outputs": [
        {
          "output_type": "stream",
          "text": [
            "Key1\n",
            "Value 1\n",
            "Key2\n",
            "Value 2\n",
            "Key3\n",
            "Another value\n",
            "Key4 with spaces\n",
            "the fourth value\n",
            "key5 with spaces\n",
            "the fifth value\n"
          ],
          "name": "stdout"
        },
        {
          "output_type": "display_data",
          "data": {
            "application/vnd.jupyter.widget-view+json": {
              "model_id": "ae423c5d-d97b-4c75-be82-df3791eb2a07",
              "version_major": 2,
              "version_minor": 0
            }
          },
          "metadata": {
            "tags": []
          }
        }
      ]
    },
    {
      "cell_type": "code",
      "metadata": {
        "id": "wireless-spring",
        "outputId": "148133d7-2b62-4372-9099-3940e06fb636"
      },
      "source": [
        "\"\"\"\n",
        "The same rule applies for the find, findAll, any and every. You can either accept one argument in the closure in which case you will get the entry \n",
        "or you can directly accept the key and value separated. \n",
        "Any and every return again a boolean value, findAll will create a new map ony containing the entries, for which the closure evaluated to true, \n",
        "and the find method will return the first entry (and not just the value) for which the closure evaluated to true.\n",
        "\n",
        "The only method that behaves quite different is the collect method. \n",
        "The collect method will (also on maps) create a list as an output.\n",
        "It will iterate over all entries in the map and pass them (as a single or as two parameters) to the closure.\n",
        "The objects you return from the closure will be added all to a list (and not a map). That way the following does not work as someone might expect:\n",
        "\"\"\"\n",
        "\n",
        "def key_test = 'Key3'\n",
        "def key4 = 'Key4 with spaces'\n",
        "def aMap = [\n",
        "    'Key1': 'Value 1', // Put key1 -> Value 1 to the map\n",
        "    Key2: 'Value 2', // You can also skip the quotes, the key will automatically be a String\n",
        "    (key_test): 'Another value', // If you want the key to be the value of a variable, you need to put it in parantheses\n",
        "    (key4): 'the fourth value',\n",
        "    'key5 with spaces': 'the fifth value'\n",
        "]\n",
        "\n",
        "list_aMap = aMap.collect { return it }"
      ],
      "id": "wireless-spring",
      "execution_count": null,
      "outputs": [
        {
          "output_type": "execute_result",
          "data": {
            "text/plain": [
              "[Key1=Value 1, Key2=Value 2, Key3=Another value, Key4 with spaces=the fourth value, key5 with spaces=the fifth value]"
            ]
          },
          "metadata": {
            "tags": []
          },
          "execution_count": 176
        }
      ]
    },
    {
      "cell_type": "code",
      "metadata": {
        "id": "supreme-speaker",
        "outputId": "9022ae39-0d84-47b1-9ca0-e0b021878125"
      },
      "source": [
        "println list_aMap.getClass()"
      ],
      "id": "supreme-speaker",
      "execution_count": null,
      "outputs": [
        {
          "output_type": "stream",
          "text": [
            "class java.util.ArrayList\n"
          ],
          "name": "stdout"
        },
        {
          "output_type": "execute_result",
          "data": {
            "text/plain": [
              "null"
            ]
          },
          "metadata": {
            "tags": []
          },
          "execution_count": 178
        }
      ]
    },
    {
      "cell_type": "code",
      "metadata": {
        "id": "accepting-locator",
        "outputId": "e2094e27-5f26-48c5-8ea3-361123d98686"
      },
      "source": [
        "println list_aMap[2].getClass()"
      ],
      "id": "accepting-locator",
      "execution_count": null,
      "outputs": [
        {
          "output_type": "stream",
          "text": [
            "class java.util.LinkedHashMap$Entry\n"
          ],
          "name": "stdout"
        },
        {
          "output_type": "execute_result",
          "data": {
            "text/plain": [
              "null"
            ]
          },
          "metadata": {
            "tags": []
          },
          "execution_count": 180
        }
      ]
    },
    {
      "cell_type": "code",
      "metadata": {
        "id": "approximate-rough",
        "outputId": "c807b2ad-ed33-4c19-aa07-d33545b321d8"
      },
      "source": [
        "println (list_aMap instanceof java.util.ArrayList)\n",
        "println (list_aMap instanceof List)\n",
        "println (list_aMap[2] instanceof java.util.LinkedHashMap)\n",
        "println (list_aMap[2] instanceof Map$Entry)"
      ],
      "id": "approximate-rough",
      "execution_count": null,
      "outputs": [
        {
          "output_type": "stream",
          "text": [
            "true\n",
            "true\n",
            "false\n",
            "true\n"
          ],
          "name": "stdout"
        },
        {
          "output_type": "execute_result",
          "data": {
            "text/plain": [
              "null"
            ]
          },
          "metadata": {
            "tags": []
          },
          "execution_count": 193
        }
      ]
    },
    {
      "cell_type": "code",
      "metadata": {
        "id": "wooden-powder",
        "outputId": "9b77ccf8-0808-45f2-a205-0abb0b0c6e24"
      },
      "source": [
        "// para borrar la variable 'list_aMap'\n",
        "\n",
        "binding.variables.remove 'list_aMap'"
      ],
      "id": "wooden-powder",
      "execution_count": null,
      "outputs": [
        {
          "output_type": "execute_result",
          "data": {
            "text/plain": [
              "[Key1=Value 1, Key2=Value 2, Key3=Another value, Key4 with spaces=the fourth value, key5 with spaces=the fifth value]"
            ]
          },
          "metadata": {
            "tags": []
          },
          "execution_count": 196
        }
      ]
    },
    {
      "cell_type": "code",
      "metadata": {
        "id": "weekly-donor",
        "outputId": "3db15411-5caf-4908-9ccd-53cf369f1035"
      },
      "source": [
        "println (list_aMap instanceof java.util.ArrayList)"
      ],
      "id": "weekly-donor",
      "execution_count": null,
      "outputs": [
        {
          "output_type": "error",
          "ename": "groovy.lang.MissingPropertyException",
          "evalue": " No such property",
          "traceback": [
            "\u001b[1;31mgroovy.lang.MissingPropertyException: No such property: list_aMap for class: script1617272964635\u001b[0;0m",
            "\u001b[1;31m\tat this cell line 1\u001b[0;0m",
            "\u001b[0;31m\tat com.twosigma.beakerx.groovy.evaluator.GroovyCodeRunner.runScript(GroovyCodeRunner.java:94)\u001b[0;0m",
            "\u001b[0;31m\tat com.twosigma.beakerx.groovy.evaluator.GroovyCodeRunner.call(GroovyCodeRunner.java:59)\u001b[0;0m",
            "\u001b[0;31m\tat com.twosigma.beakerx.groovy.evaluator.GroovyCodeRunner.call(GroovyCodeRunner.java:32)\u001b[0;0m"
          ]
        }
      ]
    },
    {
      "cell_type": "code",
      "metadata": {
        "id": "least-excitement",
        "outputId": "24dfe197-bb48-4d6c-8066-b7abaa0919f6",
        "colab": {
          "referenced_widgets": [
            "2b0f123f-b606-49e1-bca6-b75da1bacaa0"
          ]
        }
      },
      "source": [
        "\"\"\"\n",
        "This will result in you having an ArrayList of Map entries, which most likely is not what you want.\n",
        "You can use the collect method if you somehow want to collect a map to a list of values.\n",
        "If you want to transform a map into another map you have to use the collectEntries method:\n",
        "\"\"\"\n",
        "\n",
        "def key_test = 'Key3'\n",
        "def key4 = 'Key4 with spaces'\n",
        "def aMap = [\n",
        "    'Key1': 'Value 1', // Put key1 -> Value 1 to the map\n",
        "    Key2: 'Value 2', // You can also skip the quotes, the key will automatically be a String\n",
        "    (key_test): 'Another value', // If you want the key to be the value of a variable, you need to put it in parantheses\n",
        "    (key4): 'the fourth value',\n",
        "    'key5 with spaces': 'the fifth value'\n",
        "]\n",
        "\n",
        "aMap2 = aMap.collectEntries {\n",
        "    return it \n",
        "}"
      ],
      "id": "least-excitement",
      "execution_count": null,
      "outputs": [
        {
          "output_type": "display_data",
          "data": {
            "application/vnd.jupyter.widget-view+json": {
              "model_id": "2b0f123f-b606-49e1-bca6-b75da1bacaa0",
              "version_major": 2,
              "version_minor": 0
            }
          },
          "metadata": {
            "tags": []
          }
        }
      ]
    },
    {
      "cell_type": "code",
      "metadata": {
        "id": "compound-durham",
        "outputId": "ac4de432-50cf-4810-f795-477930d66503",
        "colab": {
          "referenced_widgets": [
            "cdf03de5-1a3e-474e-bfb2-19098169a82d"
          ]
        }
      },
      "source": [
        "println aMap2.getClass()\n",
        "aMap2"
      ],
      "id": "compound-durham",
      "execution_count": null,
      "outputs": [
        {
          "output_type": "stream",
          "text": [
            "class java.util.LinkedHashMap\n"
          ],
          "name": "stdout"
        },
        {
          "output_type": "display_data",
          "data": {
            "application/vnd.jupyter.widget-view+json": {
              "model_id": "cdf03de5-1a3e-474e-bfb2-19098169a82d",
              "version_major": 2,
              "version_minor": 0
            }
          },
          "metadata": {
            "tags": []
          }
        }
      ]
    },
    {
      "cell_type": "code",
      "metadata": {
        "id": "modular-convertible",
        "outputId": "14cffa18-097b-48e8-b4fb-66aace43c659",
        "colab": {
          "referenced_widgets": [
            "01c48de6-670b-4e5a-876c-54c30a5dcb83"
          ]
        }
      },
      "source": [
        "binding.variables.remove 'aMap2'"
      ],
      "id": "modular-convertible",
      "execution_count": null,
      "outputs": [
        {
          "output_type": "display_data",
          "data": {
            "application/vnd.jupyter.widget-view+json": {
              "model_id": "01c48de6-670b-4e5a-876c-54c30a5dcb83",
              "version_major": 2,
              "version_minor": 0
            }
          },
          "metadata": {
            "tags": []
          }
        }
      ]
    },
    {
      "cell_type": "code",
      "metadata": {
        "id": "bound-dutch",
        "outputId": "e99bddf8-d02a-493b-d4ac-083d18b67fc0",
        "colab": {
          "referenced_widgets": [
            "3197889c-8125-42cb-8516-23bef40d0069"
          ]
        }
      },
      "source": [
        "\"\"\"\n",
        "You can return a map entry from the closure, which will be put to the new map (so the example above will just create the very same map again). \n",
        "\n",
        "If you want to create new entries you can return a map (most often with just one entry) from the closure:\n",
        "\"\"\"\n",
        "\n",
        "def key_test = 'Key3'\n",
        "def key4 = 'Key4 with spaces'\n",
        "def aMap = [\n",
        "    'Key1': 'Value 1', // Put key1 -> Value 1 to the map\n",
        "    Key2: 'Value 2', // You can also skip the quotes, the key will automatically be a String\n",
        "    (key_test): 'Another value', // If you want the key to be the value of a variable, you need to put it in parantheses\n",
        "    (key4): 'the fourth value',\n",
        "    'key5 with spaces': 'the fifth value'\n",
        "]\n",
        "\n",
        "aMap2 = aMap.collectEntries { key, value ->\n",
        "  return [(key_test): value]\n",
        "}"
      ],
      "id": "bound-dutch",
      "execution_count": null,
      "outputs": [
        {
          "output_type": "display_data",
          "data": {
            "application/vnd.jupyter.widget-view+json": {
              "model_id": "3197889c-8125-42cb-8516-23bef40d0069",
              "version_major": 2,
              "version_minor": 0
            }
          },
          "metadata": {
            "tags": []
          }
        }
      ]
    },
    {
      "cell_type": "code",
      "metadata": {
        "id": "mobile-prime",
        "outputId": "69afe0a2-d22a-4423-e06c-c4e327ff80ea",
        "colab": {
          "referenced_widgets": [
            "b5b59af6-70d8-4859-9c2c-92d0c4e79e29"
          ]
        }
      },
      "source": [
        "def key_test = 'Key3'\n",
        "def key4 = 'Key4 with spaces'\n",
        "def aMap = [\n",
        "    'Key1': 'Value 1', // Put key1 -> Value 1 to the map\n",
        "    Key2: 'Value 2', // You can also skip the quotes, the key will automatically be a String\n",
        "    (key_test): 'Another value', // If you want the key to be the value of a variable, you need to put it in parantheses\n",
        "    (key4): 'the fourth value',\n",
        "    'key5 with spaces': 'the fifth value'\n",
        "]\n",
        "\n",
        "aMap2 = aMap.collectEntries { key, value ->\n",
        "  return [(key): value]\n",
        "}"
      ],
      "id": "mobile-prime",
      "execution_count": null,
      "outputs": [
        {
          "output_type": "display_data",
          "data": {
            "application/vnd.jupyter.widget-view+json": {
              "model_id": "b5b59af6-70d8-4859-9c2c-92d0c4e79e29",
              "version_major": 2,
              "version_minor": 0
            }
          },
          "metadata": {
            "tags": []
          }
        }
      ]
    },
    {
      "cell_type": "code",
      "metadata": {
        "id": "attached-synthetic",
        "outputId": "bf75c792-80ec-4ab1-82d3-58b096d7f336",
        "colab": {
          "referenced_widgets": [
            "9fa9adb2-4f14-438d-87c5-37e87c82733a"
          ]
        }
      },
      "source": [
        "\"\"\"\n",
        "This snippet does the same as the one above.\n",
        "It will just add every entry again to the new map.\n",
        "You can even return a map with more then one entry. \n",
        "In this case all entries in the map will be put to the new map:\n",
        "\"\"\"\n",
        "\n",
        "def key_test = 'Key3'\n",
        "def key4 = 'Key4 with spaces'\n",
        "def aMap = [\n",
        "    'Key1': 'Value 1', // Put key1 -> Value 1 to the map\n",
        "    Key2: 'Value 2', // You can also skip the quotes, the key will automatically be a String\n",
        "    (key_test): 'Another value', // If you want the key to be the value of a variable, you need to put it in parantheses\n",
        "    (key4): 'the fourth value',\n",
        "    'key5 with spaces': 'the fifth value'\n",
        "]\n",
        "\n",
        "aMap2 = aMap.collectEntries { key, value ->\n",
        "  def newKey = key + \"^2\"\n",
        "  return [(key): value, (newKey): value + \" * \" + value]\n",
        "}"
      ],
      "id": "attached-synthetic",
      "execution_count": null,
      "outputs": [
        {
          "output_type": "display_data",
          "data": {
            "application/vnd.jupyter.widget-view+json": {
              "model_id": "9fa9adb2-4f14-438d-87c5-37e87c82733a",
              "version_major": 2,
              "version_minor": 0
            }
          },
          "metadata": {
            "tags": []
          }
        }
      ]
    },
    {
      "cell_type": "code",
      "metadata": {
        "id": "amended-nylon",
        "outputId": "106acc21-c34f-47f0-eb8f-a3219ad4fe8f"
      },
      "source": [
        "\"\"\"\n",
        "This snippet will add each entry and a new one with the original key suffixed by ^2 and the value squared to a new map.\n",
        "\n",
        "What’s next?\n",
        "This was the last part of this short tutorial series on Groovy for Java developers.\n",
        "Groovy offers a lot more complex mechanisms than explained here. \n",
        "Especially intersting might be techniques like operator overloading and meta classes (which allow to add or overwrite methods on any existing class).\n",
        "If you want to learn more you can head to the official Groovy documentation.\n",
        "\"\"\""
      ],
      "id": "amended-nylon",
      "execution_count": null,
      "outputs": [
        {
          "output_type": "execute_result",
          "data": {
            "text/plain": [
              "\n",
              "This snippet will add each entry and a new one with the original key suffixed by ^2 and the value squared to a new map.\n",
              "\n",
              "What’s next?\n",
              "This was the last part of this short tutorial series on Groovy for Java developers.\n",
              "Groovy offers a lot more complex mechanisms than explained here.\n",
              "Especially intersting might be techniques like operator overloading and meta classes (which allow to add or overwrite methods on any existing class).\n",
              "If you want to learn more you can head to the official Groovy documentation.\n"
            ]
          },
          "metadata": {
            "tags": []
          },
          "execution_count": 213
        }
      ]
    },
    {
      "cell_type": "code",
      "metadata": {
        "id": "functional-classroom",
        "outputId": "2f6379c4-2326-4e7e-bdcc-cdaf3e6399f3",
        "colab": {
          "referenced_widgets": [
            "3a08b6eb-a942-4104-ba1b-169dfe9c3637"
          ]
        }
      },
      "source": [
        "binding.variables.remove 'aMap2'"
      ],
      "id": "functional-classroom",
      "execution_count": null,
      "outputs": [
        {
          "output_type": "display_data",
          "data": {
            "application/vnd.jupyter.widget-view+json": {
              "model_id": "3a08b6eb-a942-4104-ba1b-169dfe9c3637",
              "version_major": 2,
              "version_minor": 0
            }
          },
          "metadata": {
            "tags": []
          }
        }
      ]
    },
    {
      "cell_type": "code",
      "metadata": {
        "id": "interior-backing"
      },
      "source": [
        ""
      ],
      "id": "interior-backing",
      "execution_count": null,
      "outputs": []
    }
  ]
}