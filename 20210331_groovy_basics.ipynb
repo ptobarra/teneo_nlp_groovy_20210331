{
  "nbformat": 4,
  "nbformat_minor": 5,
  "metadata": {
    "kernelspec": {
      "display_name": "Groovy",
      "language": "groovy",
      "name": "groovy"
    },
    "language_info": {
      "codemirror_mode": "groovy",
      "file_extension": ".groovy",
      "mimetype": "",
      "name": "Groovy",
      "nbconverter_exporter": "",
      "version": "2.5.6"
    },
    "toc": {
      "base_numbering": 1,
      "nav_menu": {},
      "number_sections": false,
      "sideBar": false,
      "skip_h1_title": false,
      "title_cell": "Table of Contents",
      "title_sidebar": "Contents",
      "toc_cell": false,
      "toc_position": {},
      "toc_section_display": false,
      "toc_window_display": false
    },
    "colab": {
      "name": "20210331_groovy_basics.ipynb",
      "provenance": [],
      "include_colab_link": true
    }
  },
  "cells": [
    {
      "cell_type": "markdown",
      "metadata": {
        "id": "view-in-github",
        "colab_type": "text"
      },
      "source": [
        "<a href=\"https://colab.research.google.com/github/ptobarra/teneo_nlp_groovy_20210331/blob/main/20210331_groovy_basics.ipynb\" target=\"_parent\"><img src=\"https://colab.research.google.com/assets/colab-badge.svg\" alt=\"Open In Colab\"/></a>"
      ]
    },
    {
      "cell_type": "code",
      "metadata": {
        "id": "curious-company",
        "outputId": "751d180f-c963-409c-842e-3fd21ade560d"
      },
      "source": [
        "\"\"\"\n",
        "Groovy basics\n",
        "\n",
        "Scripts in Teneo are written in Groovy or Java code. Apache Groovy is similar to Java but with an easier to learn syntax. \n",
        "More details on Groovy can be found here: http://groovy-lang.org. An overview of the differences between Groovy and Java can be found here: \n",
        "Differences with Java.\n",
        "\n",
        "https://developers.artificial-solutions.com/studio/scripting/concepts/groovy\n",
        "\"\"\""
      ],
      "id": "curious-company",
      "execution_count": null,
      "outputs": [
        {
          "output_type": "execute_result",
          "data": {
            "text/plain": [
              "\n",
              "Groovy basics\n",
              "\n",
              "Scripts in Teneo are written in Groovy or Java code. Apache Groovy is similar to Java but with an easier to learn syntax.\n",
              "More details on Groovy can be found here: http://groovy-lang.org. An overview of the differences between Groovy and Java can be found here:\n",
              "Differences with Java.\n",
              "\n",
              "https://developers.artificial-solutions.com/studio/scripting/concepts/groovy\n"
            ]
          },
          "metadata": {
            "tags": []
          },
          "execution_count": 1
        }
      ]
    },
    {
      "cell_type": "code",
      "metadata": {
        "id": "professional-reynolds",
        "outputId": "2a90f4d8-d8a7-437e-9f12-e242f342f678"
      },
      "source": [
        "// To print something to the Engine Ouput panel in tryout (and the console.log) use:\n",
        "// As you can see you don't need semi-colons to end statements in Groovy.\n",
        "\n",
        "println \"Hello world!\""
      ],
      "id": "professional-reynolds",
      "execution_count": null,
      "outputs": [
        {
          "output_type": "stream",
          "text": [
            "Hello world!\n"
          ],
          "name": "stdout"
        },
        {
          "output_type": "execute_result",
          "data": {
            "text/plain": [
              "null"
            ]
          },
          "metadata": {
            "tags": []
          },
          "execution_count": 2
        }
      ]
    },
    {
      "cell_type": "code",
      "metadata": {
        "id": "regular-beijing",
        "outputId": "78c2a176-94ed-4ee4-b647-426c6abadda7"
      },
      "source": [
        "// Variables: In Groovy you can use dynamic typing. You use the keyword def to define a variable.\n",
        "\n",
        "def x = true\n",
        "println x.getClass()\n",
        "\n",
        "x = 42\n",
        "println x.getClass()\n",
        "\n",
        "x = \"Hello World\"\n",
        "println x.getClass()"
      ],
      "id": "regular-beijing",
      "execution_count": null,
      "outputs": [
        {
          "output_type": "stream",
          "text": [
            "class java.lang.Boolean\n",
            "class java.lang.Integer\n",
            "class java.lang.String\n"
          ],
          "name": "stdout"
        },
        {
          "output_type": "execute_result",
          "data": {
            "text/plain": [
              "null"
            ]
          },
          "metadata": {
            "tags": []
          },
          "execution_count": 3
        }
      ]
    },
    {
      "cell_type": "code",
      "metadata": {
        "id": "otherwise-france",
        "outputId": "37bb914c-40e1-41fc-b423-a3002c9c55ca"
      },
      "source": [
        "//Strings: When using single quotes, you will use a standard Java String:\n",
        "\n",
        "def name = 'Dave'\n",
        "println 'Hello, ' + name + '. You\\'re looking well today.'"
      ],
      "id": "otherwise-france",
      "execution_count": null,
      "outputs": [
        {
          "output_type": "stream",
          "text": [
            "Hello, Dave. You're looking well today.\n"
          ],
          "name": "stdout"
        },
        {
          "output_type": "execute_result",
          "data": {
            "text/plain": [
              "null"
            ]
          },
          "metadata": {
            "tags": []
          },
          "execution_count": 4
        }
      ]
    },
    {
      "cell_type": "code",
      "metadata": {
        "id": "weird-passage",
        "outputId": "b04c6e71-41e8-47d5-8fce-e7be34195abb"
      },
      "source": [
        "// Substrings\n",
        "\n",
        "def text = \"Hunky dory!\"\n",
        "def name = text[0..4]\n",
        "println name"
      ],
      "id": "weird-passage",
      "execution_count": null,
      "outputs": [
        {
          "output_type": "stream",
          "text": [
            "Hunky\n"
          ],
          "name": "stdout"
        },
        {
          "output_type": "execute_result",
          "data": {
            "text/plain": [
              "null"
            ]
          },
          "metadata": {
            "tags": []
          },
          "execution_count": 5
        }
      ]
    },
    {
      "cell_type": "code",
      "metadata": {
        "id": "multiple-favor",
        "outputId": "cea19016-ad46-48a7-e116-ebff20224418"
      },
      "source": [
        "// Other example:\n",
        "\n",
        "def text = \"Hunky dory!\"\n",
        "def name = text[-5..-2]\n",
        "println name"
      ],
      "id": "multiple-favor",
      "execution_count": null,
      "outputs": [
        {
          "output_type": "stream",
          "text": [
            "dory\n"
          ],
          "name": "stdout"
        },
        {
          "output_type": "execute_result",
          "data": {
            "text/plain": [
              "null"
            ]
          },
          "metadata": {
            "tags": []
          },
          "execution_count": 6
        }
      ]
    },
    {
      "cell_type": "code",
      "metadata": {
        "id": "general-express",
        "outputId": "fa202fa9-aa68-4555-ed25-84c8832e23a3"
      },
      "source": [
        "\"\"\"\n",
        "The Groovy Truth\n",
        "Groovy evaluates every object to a boolean value if required (also know as the Implicit Truth):\n",
        "\n",
        "if (\"hunky dory\") ...\n",
        "if (42) ...\n",
        "if (someObject) ...\n",
        "\n",
        "- Strings: If empty false, otherwise true\n",
        "- Collections and Maps: true if they are not empty\n",
        "- Numbers: true if non-zero\n",
        "- Object references: true if they aren't null\n",
        "\n",
        "For more details: Groovy Truth\n",
        "\"\"\""
      ],
      "id": "general-express",
      "execution_count": null,
      "outputs": [
        {
          "output_type": "execute_result",
          "data": {
            "text/plain": [
              "\n",
              "The Groovy Truth\n",
              "Groovy evaluates every object to a boolean value if required (also know as the Implicit Truth):\n",
              "\n",
              "if (\"hunky dory\") ...\n",
              "if (42) ...\n",
              "if (someObject) ...\n",
              "\n",
              "- Strings: If empty false, otherwise true\n",
              "- Collections and Maps: true if they are not empty\n",
              "- Numbers: true if non-zero\n",
              "- Object references: true if they aren't null\n",
              "\n",
              "For more details: Groovy Truth\n"
            ]
          },
          "metadata": {
            "tags": []
          },
          "execution_count": 7
        }
      ]
    },
    {
      "cell_type": "code",
      "metadata": {
        "id": "excessive-oregon",
        "outputId": "adc92683-cb50-463b-f6b5-e7c2284cd338"
      },
      "source": [
        "\"\"\"\n",
        "Operators\n",
        "Safe Navigation Operator\n",
        "The Safe Navigation operator is used to avoid a NullPointerException. Typically when you have a reference to an object you might need to verify that it\n",
        "is not null before accessing methods or properties of the object. In Java it would look something like this:\n",
        "\n",
        "if (order.getContact() != null && order.getContact().getAddress() != null) { \n",
        "    System.out.println(order.getContact().getAddress());\n",
        "}\n",
        "\n",
        "In Groovy:\n",
        "\"\"\"\n",
        "\n",
        "println  order?.getContact()?.getAddress()"
      ],
      "id": "excessive-oregon",
      "execution_count": null,
      "outputs": [
        {
          "output_type": "error",
          "ename": "groovy.lang.MissingPropertyException",
          "evalue": " No such property",
          "traceback": [
            "\u001b[1;31mgroovy.lang.MissingPropertyException: No such property: order for class: script1617205159795\u001b[0;0m",
            "\u001b[1;31m\tat this cell line 14\u001b[0;0m",
            "\u001b[0;31m\tat com.twosigma.beakerx.groovy.evaluator.GroovyCodeRunner.runScript(GroovyCodeRunner.java:94)\u001b[0;0m",
            "\u001b[0;31m\tat com.twosigma.beakerx.groovy.evaluator.GroovyCodeRunner.call(GroovyCodeRunner.java:59)\u001b[0;0m",
            "\u001b[0;31m\tat com.twosigma.beakerx.groovy.evaluator.GroovyCodeRunner.call(GroovyCodeRunner.java:32)\u001b[0;0m"
          ]
        }
      ]
    },
    {
      "cell_type": "code",
      "metadata": {
        "id": "integral-desert",
        "outputId": "4b5ba038-77fe-4206-a22e-e512f407ca9c"
      },
      "source": [
        "\"\"\"\n",
        "Elvis Operator\n",
        "The \"Elvis operator\" is a shortening of the ternary operator, often used to assign default values. In Java you would use them like this:\n",
        "\n",
        "displayName = user.name ? user.name : 'Anonymous' \n",
        "\n",
        "Using the Elvis operator in Groovy:\n",
        "\"\"\"\n",
        "\n",
        "displayName = user.name ?: 'Anonymous'"
      ],
      "id": "integral-desert",
      "execution_count": null,
      "outputs": [
        {
          "output_type": "error",
          "ename": "groovy.lang.MissingPropertyException",
          "evalue": " No such property",
          "traceback": [
            "\u001b[1;31mgroovy.lang.MissingPropertyException: No such property: user for class: script1617205160330\u001b[0;0m",
            "\u001b[1;31m\tat this cell line 10\u001b[0;0m",
            "\u001b[0;31m\tat com.twosigma.beakerx.groovy.evaluator.GroovyCodeRunner.runScript(GroovyCodeRunner.java:94)\u001b[0;0m",
            "\u001b[0;31m\tat com.twosigma.beakerx.groovy.evaluator.GroovyCodeRunner.call(GroovyCodeRunner.java:59)\u001b[0;0m",
            "\u001b[0;31m\tat com.twosigma.beakerx.groovy.evaluator.GroovyCodeRunner.call(GroovyCodeRunner.java:32)\u001b[0;0m"
          ]
        }
      ]
    },
    {
      "cell_type": "code",
      "metadata": {
        "id": "heated-spectacular",
        "outputId": "075f4881-eee8-4907-8879-1c78a0343f4a"
      },
      "source": [
        "\"\"\"\n",
        "Collections\n",
        "\n",
        "Lists\n",
        "\n",
        "Creating a list:\n",
        "\"\"\"\n",
        "\n",
        "def list = [1,2,2,4,5]"
      ],
      "id": "heated-spectacular",
      "execution_count": null,
      "outputs": [
        {
          "output_type": "execute_result",
          "data": {
            "text/plain": [
              "[1, 2, 2, 4, 5]"
            ]
          },
          "metadata": {
            "tags": []
          },
          "execution_count": 10
        }
      ]
    },
    {
      "cell_type": "code",
      "metadata": {
        "id": "pretty-currency",
        "outputId": "36270bd2-18f2-4b2e-f611-c9fd2746bfc4"
      },
      "source": [
        "// Accessing elements in the list:\n",
        "list = [1,2,2,4,5]\n",
        "println list[0] // will print out 1 \n",
        "println list[-1] // use negative indexes for access from the end of the list, will print 5"
      ],
      "id": "pretty-currency",
      "execution_count": null,
      "outputs": [
        {
          "output_type": "stream",
          "text": [
            "1\n",
            "5\n"
          ],
          "name": "stdout"
        },
        {
          "output_type": "execute_result",
          "data": {
            "text/plain": [
              "null"
            ]
          },
          "metadata": {
            "tags": []
          },
          "execution_count": 11
        }
      ]
    },
    {
      "cell_type": "code",
      "metadata": {
        "id": "premier-maker",
        "outputId": "7696e43a-9b24-4173-9ed0-a342d8824e6d"
      },
      "source": [
        "// Iterating lists:\n",
        "\n",
        "list.each {\n",
        "    println it\n",
        "}"
      ],
      "id": "premier-maker",
      "execution_count": null,
      "outputs": [
        {
          "output_type": "stream",
          "text": [
            "1\n",
            "2\n",
            "2\n",
            "4\n",
            "5\n"
          ],
          "name": "stdout"
        },
        {
          "output_type": "execute_result",
          "data": {
            "text/plain": [
              "[1, 2, 2, 4, 5]"
            ]
          },
          "metadata": {
            "tags": []
          },
          "execution_count": 12
        }
      ]
    },
    {
      "cell_type": "code",
      "metadata": {
        "id": "allied-aerospace",
        "outputId": "de8cdcbe-f9dc-4939-cfa1-f229d27fd6b8"
      },
      "source": [
        "// or\n",
        "\n",
        "list.each { myNumber ->\n",
        "    println myNumber\n",
        "}"
      ],
      "id": "allied-aerospace",
      "execution_count": null,
      "outputs": [
        {
          "output_type": "stream",
          "text": [
            "1\n",
            "2\n",
            "2\n",
            "4\n",
            "5\n"
          ],
          "name": "stdout"
        },
        {
          "output_type": "execute_result",
          "data": {
            "text/plain": [
              "[1, 2, 2, 4, 5]"
            ]
          },
          "metadata": {
            "tags": []
          },
          "execution_count": 13
        }
      ]
    },
    {
      "cell_type": "code",
      "metadata": {
        "id": "neither-sculpture",
        "outputId": "3a472abb-bd2b-4236-fb7b-abc4ba098a4d"
      },
      "source": [
        "// With index:\n",
        "list.eachWithIndex { myNumber,  index ->\n",
        "    println \"$index, $myNumber\"\n",
        "}"
      ],
      "id": "neither-sculpture",
      "execution_count": null,
      "outputs": [
        {
          "output_type": "stream",
          "text": [
            "0, 1\n",
            "1, 2\n",
            "2, 2\n",
            "3, 4\n",
            "4, 5\n"
          ],
          "name": "stdout"
        },
        {
          "output_type": "execute_result",
          "data": {
            "text/plain": [
              "[1, 2, 2, 4, 5]"
            ]
          },
          "metadata": {
            "tags": []
          },
          "execution_count": 14
        }
      ]
    },
    {
      "cell_type": "code",
      "metadata": {
        "id": "adequate-football",
        "outputId": "f2e6c030-a840-4d53-fb40-f7d44a33ed60"
      },
      "source": [
        "// Quick way of adding something to a list:\n",
        "\n",
        "list << 6 // list will become [1,2,2,4,5,6]\n",
        "\n",
        "println list"
      ],
      "id": "adequate-football",
      "execution_count": null,
      "outputs": [
        {
          "output_type": "stream",
          "text": [
            "[1, 2, 2, 4, 5, 6]\n"
          ],
          "name": "stdout"
        },
        {
          "output_type": "execute_result",
          "data": {
            "text/plain": [
              "null"
            ]
          },
          "metadata": {
            "tags": []
          },
          "execution_count": 15
        }
      ]
    },
    {
      "cell_type": "code",
      "metadata": {
        "id": "together-stations",
        "outputId": "05e4146e-f5a1-4e9a-81ef-8809de58d27f",
        "colab": {
          "referenced_widgets": [
            "6ca65848-bdbb-48ab-8be4-f77358e62a41"
          ]
        }
      },
      "source": [
        "\"\"\"\n",
        "Maps\n",
        "\n",
        "Creating a map:\n",
        "\"\"\"\n",
        "\n",
        "def map = ['key1':'value 1', 'key2':'value 2', 'key3':'value 3']"
      ],
      "id": "together-stations",
      "execution_count": null,
      "outputs": [
        {
          "output_type": "display_data",
          "data": {
            "application/vnd.jupyter.widget-view+json": {
              "model_id": "6ca65848-bdbb-48ab-8be4-f77358e62a41",
              "version_major": 2,
              "version_minor": 0
            }
          },
          "metadata": {
            "tags": []
          }
        }
      ]
    },
    {
      "cell_type": "code",
      "metadata": {
        "id": "boring-cleaners",
        "outputId": "2d622c67-bac0-4dd0-fbc5-519fdf92a2c1",
        "colab": {
          "referenced_widgets": [
            "3f3cb05c-d71c-4171-a640-c5d74aa4abd5"
          ]
        }
      },
      "source": [
        "// Other options:\n",
        "\n",
        "def key = 'key3'\n",
        "def map = [\n",
        "  'key1': 'value 1',\n",
        "  key2: 'value 2', // skip the quotes, the key will automatically be a String\n",
        "  (key): 'value 3' // put the key in parentheses if you want to use the value of a variable\n",
        "]"
      ],
      "id": "boring-cleaners",
      "execution_count": null,
      "outputs": [
        {
          "output_type": "display_data",
          "data": {
            "application/vnd.jupyter.widget-view+json": {
              "model_id": "3f3cb05c-d71c-4171-a640-c5d74aa4abd5",
              "version_major": 2,
              "version_minor": 0
            }
          },
          "metadata": {
            "tags": []
          }
        }
      ]
    },
    {
      "cell_type": "code",
      "metadata": {
        "id": "operational-latitude",
        "outputId": "428b2ea1-9476-4fdf-ac71-3b02e02ce083"
      },
      "source": [
        "def map = ['key1':'value 1', 'key2':'value 2', 'key3':'value 3']\n",
        "def key = 'key3'\n",
        "\n",
        "// Accessing the map:\n",
        "\n",
        "println map['key1']\n",
        "println map.key1\n",
        "println map[key] // access the entry with the value of key variable\n",
        "println map.get(key) // using the get method with a key variable"
      ],
      "id": "operational-latitude",
      "execution_count": null,
      "outputs": [
        {
          "output_type": "stream",
          "text": [
            "value 1\n",
            "value 1\n",
            "value 3\n",
            "value 3\n"
          ],
          "name": "stdout"
        },
        {
          "output_type": "execute_result",
          "data": {
            "text/plain": [
              "null"
            ]
          },
          "metadata": {
            "tags": []
          },
          "execution_count": 18
        }
      ]
    },
    {
      "cell_type": "code",
      "metadata": {
        "id": "combined-dependence",
        "outputId": "1a01c1ef-bef8-4868-b916-5cd3b0a05717",
        "colab": {
          "referenced_widgets": [
            "2d8f4ccb-1d42-48e5-99b2-e8ecf8bebf58"
          ]
        }
      },
      "source": [
        "def map = ['key1':'value 1', 'key2':'value 2', 'key3':'value 3']\n",
        "\n",
        "// Iterating maps:\n",
        "\n",
        "map.each {\n",
        "  println it.key\n",
        "  println it.value\n",
        "}"
      ],
      "id": "combined-dependence",
      "execution_count": null,
      "outputs": [
        {
          "output_type": "stream",
          "text": [
            "key1\n",
            "value 1\n",
            "key2\n",
            "value 2\n",
            "key3\n",
            "value 3\n"
          ],
          "name": "stdout"
        },
        {
          "output_type": "display_data",
          "data": {
            "application/vnd.jupyter.widget-view+json": {
              "model_id": "2d8f4ccb-1d42-48e5-99b2-e8ecf8bebf58",
              "version_major": 2,
              "version_minor": 0
            }
          },
          "metadata": {
            "tags": []
          }
        }
      ]
    },
    {
      "cell_type": "code",
      "metadata": {
        "id": "formal-lemon",
        "outputId": "325db383-5ae2-4004-fa75-8d41ac38c9fb",
        "colab": {
          "referenced_widgets": [
            "28217950-4044-4bd9-b783-f7794f4ef9ab"
          ]
        }
      },
      "source": [
        "def map = ['key1':'value 1', 'key2':'value 2', 'key3':'value 3']\n",
        "\n",
        "// Iterating maps:\n",
        "\n",
        "map.each {\n",
        "  println it.key + \", \" + it.value\n",
        "}"
      ],
      "id": "formal-lemon",
      "execution_count": null,
      "outputs": [
        {
          "output_type": "stream",
          "text": [
            "key1, value 1\n",
            "key2, value 2\n",
            "key3, value 3\n"
          ],
          "name": "stdout"
        },
        {
          "output_type": "display_data",
          "data": {
            "application/vnd.jupyter.widget-view+json": {
              "model_id": "28217950-4044-4bd9-b783-f7794f4ef9ab",
              "version_major": 2,
              "version_minor": 0
            }
          },
          "metadata": {
            "tags": []
          }
        }
      ]
    },
    {
      "cell_type": "code",
      "metadata": {
        "id": "acknowledged-inspection",
        "outputId": "2b948329-d142-45a3-a3b9-da33966507c5",
        "colab": {
          "referenced_widgets": [
            "b45b8953-7b10-4aa8-9784-a1e5327b1fe6"
          ]
        }
      },
      "source": [
        "def map = ['key1':'value 1', 'key2':'value 2', 'key3':'value 3']\n",
        "\n",
        "// or:\n",
        "\n",
        "map.each { key, value ->\n",
        "  println key\n",
        "  println value\n",
        "}"
      ],
      "id": "acknowledged-inspection",
      "execution_count": null,
      "outputs": [
        {
          "output_type": "stream",
          "text": [
            "key1\n",
            "value 1\n",
            "key2\n",
            "value 2\n",
            "key3\n",
            "value 3\n"
          ],
          "name": "stdout"
        },
        {
          "output_type": "display_data",
          "data": {
            "application/vnd.jupyter.widget-view+json": {
              "model_id": "b45b8953-7b10-4aa8-9784-a1e5327b1fe6",
              "version_major": 2,
              "version_minor": 0
            }
          },
          "metadata": {
            "tags": []
          }
        }
      ]
    },
    {
      "cell_type": "code",
      "metadata": {
        "id": "innovative-wrestling",
        "outputId": "993b2bae-fa9d-4908-822e-6611d47a432e",
        "colab": {
          "referenced_widgets": [
            "d1ad306b-9146-47bf-98f7-716f1189feec"
          ]
        }
      },
      "source": [
        "def map = ['key1':'value 1', 'key2':'value 2', 'key3':'value 3']\n",
        "\n",
        "// Adding something to a map:\n",
        "\n",
        "map << ['key4':'value 4']\n",
        "\n",
        "map.each { key, value ->\n",
        "  println key + \", \" + value\n",
        "}"
      ],
      "id": "innovative-wrestling",
      "execution_count": null,
      "outputs": [
        {
          "output_type": "stream",
          "text": [
            "key1, value 1\n",
            "key2, value 2\n",
            "key3, value 3\n",
            "key4, value 4\n"
          ],
          "name": "stdout"
        },
        {
          "output_type": "display_data",
          "data": {
            "application/vnd.jupyter.widget-view+json": {
              "model_id": "d1ad306b-9146-47bf-98f7-716f1189feec",
              "version_major": 2,
              "version_minor": 0
            }
          },
          "metadata": {
            "tags": []
          }
        }
      ]
    },
    {
      "cell_type": "code",
      "metadata": {
        "id": "organizational-slovenia",
        "outputId": "6e6114e9-a14d-41fd-a7b0-268ee4eb20ff"
      },
      "source": [
        "// For more information on lists and maps in Groovy: Working with collections"
      ],
      "id": "organizational-slovenia",
      "execution_count": null,
      "outputs": [
        {
          "output_type": "execute_result",
          "data": {
            "text/plain": [
              "null"
            ]
          },
          "metadata": {
            "tags": []
          },
          "execution_count": 23
        }
      ]
    },
    {
      "cell_type": "code",
      "metadata": {
        "id": "adopted-turner",
        "outputId": "a8067829-eaa3-4dd8-f6fe-852400a1cfff"
      },
      "source": [
        "\"\"\"\n",
        "JSON\n",
        "Groovy's handling of JSON is very powerful.\n",
        "\n",
        "Parsing JSON\n",
        "\"\"\"\n",
        "\n",
        "def jsonSlurper = new groovy.json.JsonSlurper()\n",
        "\n",
        "def object = jsonSlurper.parseText('{\"name\": \"Dave Bowman\",  \"age\": 32 }')\n",
        "\n",
        "println object.name + \", \" + object.age"
      ],
      "id": "adopted-turner",
      "execution_count": null,
      "outputs": [
        {
          "output_type": "stream",
          "text": [
            "Dave Bowman, 32\n"
          ],
          "name": "stdout"
        },
        {
          "output_type": "execute_result",
          "data": {
            "text/plain": [
              "null"
            ]
          },
          "metadata": {
            "tags": []
          },
          "execution_count": 24
        }
      ]
    },
    {
      "cell_type": "code",
      "metadata": {
        "id": "experimental-wayne",
        "outputId": "6dbb2547-7492-440e-df84-86f245bae6b2"
      },
      "source": [
        "\"\"\"\n",
        "Producing JSON\n",
        "\n",
        "Using JsonOuput:\n",
        "\"\"\"\n",
        "\n",
        "def json = new groovy.json.JsonOutput().toJson([name: 'Dave Bowman', age: 32])"
      ],
      "id": "experimental-wayne",
      "execution_count": null,
      "outputs": [
        {
          "output_type": "execute_result",
          "data": {
            "text/plain": [
              "{\"name\":\"Dave Bowman\",\"age\":32}"
            ]
          },
          "metadata": {
            "tags": []
          },
          "execution_count": 25
        }
      ]
    },
    {
      "cell_type": "code",
      "metadata": {
        "id": "expired-transsexual",
        "outputId": "d20f74b5-9708-4e66-b824-4c8fdde8db3e"
      },
      "source": [
        "def json = new groovy.json.JsonOutput().toJson([name: 'Dave Bowman', age: 32])\n",
        "\n",
        "def pretty = new groovy.json.JsonOutput()"
      ],
      "id": "expired-transsexual",
      "execution_count": null,
      "outputs": [
        {
          "output_type": "execute_result",
          "data": {
            "text/plain": [
              "groovy.json.JsonOutput@3a5ca7e8"
            ]
          },
          "metadata": {
            "tags": []
          },
          "execution_count": 26
        }
      ]
    },
    {
      "cell_type": "code",
      "metadata": {
        "id": "rough-texture",
        "outputId": "09ff2231-349b-485d-8a25-1e8d2b6e2d7d"
      },
      "source": [
        "def json = new groovy.json.JsonOutput().toJson([name: 'Dave Bowman', age: 32])\n",
        "\n",
        "// indent nicely\n",
        "def pretty = new groovy.json.JsonOutput().prettyPrint(json)"
      ],
      "id": "rough-texture",
      "execution_count": null,
      "outputs": [
        {
          "output_type": "execute_result",
          "data": {
            "text/plain": [
              "{\n",
              "    \"name\": \"Dave Bowman\",\n",
              "    \"age\": 32\n",
              "}"
            ]
          },
          "metadata": {
            "tags": []
          },
          "execution_count": 27
        }
      ]
    },
    {
      "cell_type": "code",
      "metadata": {
        "id": "empirical-command",
        "outputId": "1145e94e-d20d-4581-f749-855aa5df66c8"
      },
      "source": [
        "// Using JsonBuilder:\n",
        "\n",
        "def actionBuilder = new groovy.json.JsonBuilder()\n",
        "\n",
        "actionBuilder {\n",
        "    name \"displayCard\"\n",
        "    parameters {\n",
        "        type 'basic'\n",
        "        title 'Cappuccino'\n",
        "        image 'https://some.url/for/image/cappuccino.png'\n",
        "        description 'Try our cappuchino! We love it for its remarkable body of fruit and mocha and its subtle sweet finish.'\n",
        "    }\n",
        "}\n",
        "\n",
        "def json = actionBuilder.toString()\n",
        "\n",
        "// indent nicely\n",
        "def pretty = groovy.json.JsonOutput.prettyPrint(json)\n",
        "\n",
        "// println pretty"
      ],
      "id": "empirical-command",
      "execution_count": null,
      "outputs": [
        {
          "output_type": "execute_result",
          "data": {
            "text/plain": [
              "{\n",
              "    \"name\": \"displayCard\",\n",
              "    \"parameters\": {\n",
              "        \"type\": \"basic\",\n",
              "        \"title\": \"Cappuccino\",\n",
              "        \"image\": \"https://some.url/for/image/cappuccino.png\",\n",
              "        \"description\": \"Try our cappuchino! We love it for its remarkable body of fruit and mocha and its subtle sweet finish.\"\n",
              "    }\n",
              "}"
            ]
          },
          "metadata": {
            "tags": []
          },
          "execution_count": 28
        }
      ]
    },
    {
      "cell_type": "code",
      "metadata": {
        "id": "abandoned-landscape",
        "outputId": "5b3e30c0-a801-450d-ad18-2b091ff02248"
      },
      "source": [
        "// Using JsonBuilder:\n",
        "\n",
        "def actionBuilder = new groovy.json.JsonBuilder()\n",
        "\n",
        "actionBuilder {\n",
        "    name \"displayCard\"\n",
        "    parameters {\n",
        "        type 'basic'\n",
        "        title 'Cappuccino'\n",
        "        image 'https://some.url/for/image/cappuccino.png'\n",
        "        description 'Try our cappuchino! We love it for its remarkable body of fruit and mocha and its subtle sweet finish.'\n",
        "    }\n",
        "}\n",
        "\n",
        "def json = actionBuilder.toString()\n",
        "\n",
        "// indent nicely\n",
        "def pretty = groovy.json.JsonOutput.prettyPrint(json)\n",
        "\n",
        "println pretty"
      ],
      "id": "abandoned-landscape",
      "execution_count": null,
      "outputs": [
        {
          "output_type": "stream",
          "text": [
            "{\n",
            "    \"name\": \"displayCard\",\n",
            "    \"parameters\": {\n",
            "        \"type\": \"basic\",\n",
            "        \"title\": \"Cappuccino\",\n",
            "        \"image\": \"https://some.url/for/image/cappuccino.png\",\n",
            "        \"description\": \"Try our cappuchino! We love it for its remarkable body of fruit and mocha and its subtle sweet finish.\"\n",
            "    }\n",
            "}\n"
          ],
          "name": "stdout"
        },
        {
          "output_type": "execute_result",
          "data": {
            "text/plain": [
              "null"
            ]
          },
          "metadata": {
            "tags": []
          },
          "execution_count": 29
        }
      ]
    },
    {
      "cell_type": "code",
      "metadata": {
        "id": "favorite-species",
        "outputId": "ff7e2971-231a-4fb5-d5bf-e5d16e7a4430"
      },
      "source": [
        "// More on Groovy's way of handling JSON here: Parsing and producing JSON"
      ],
      "id": "favorite-species",
      "execution_count": null,
      "outputs": [
        {
          "output_type": "execute_result",
          "data": {
            "text/plain": [
              "null"
            ]
          },
          "metadata": {
            "tags": []
          },
          "execution_count": 30
        }
      ]
    },
    {
      "cell_type": "code",
      "metadata": {
        "id": "weird-australian",
        "outputId": "2136ec84-0620-4d35-f342-58bd9e45d762"
      },
      "source": [
        "\"\"\"\n",
        "Reading URL content\n",
        "\n",
        "Getting a URL\n",
        "\"\"\"\n",
        "\n",
        "def baseUrl = 'https://www.ing.es/'\n",
        "def text = baseUrl.toURL().text"
      ],
      "id": "weird-australian",
      "execution_count": null,
      "outputs": [
        {
          "output_type": "execute_result",
          "data": {
            "text/plain": [
              "<!doctype html>\n",
              "\n",
              "<html lang=\"es\">\n",
              "<head>\n",
              "<meta charset=\"utf-8\" />\n",
              "<meta content=\"IE=edge,chrome=1\" http-equiv=\"X-UA-Compatible\">\n",
              "<meta content=\"IE=7; IE=8\" http-equiv=\"X-UA-Compatible\">\n",
              "<meta name=\"viewport\" content=\"width=device-width, minimum-scale=1, initial-scale=1, user-scalable=yes\">\n",
              "<link rel=\"stylesheet\" href=\"/webfiles/1611833897141/css/flex.css\" type=\"text/css\" media=\"screen\"/>\n",
              "<link rel=\"shortcut icon\" href=\"/site/binaries/content/gallery/hipposp/favicon.png\"/>\n",
              "<link rel=\"stylesheet\" href=\"/webfiles/1611833897141/css/base-model-layout.css\" type=\"text/css\" media=\"screen\"/>\n",
              "<script src=\"/webfiles/1611833897141/js/mdetect.js\" type=\"text/javascript\" async></script>\n",
              "<script src=\"/webfiles/1611833897141/js/browsers.js\" type=\"text/javascript\" async></script>\n",
              "<script src=\"/webfiles/1611833897141/js/node_modules/%40webcomponents/webcomponentsjs/webcomponents-loader.js\" async></script>\n",
              "<script nomodule src=\"/webfiles/1611833897141/js/bower_components/ing-util-platform-lib/polyfills/es2015-polyfill.min.js\" async></script>\n",
              "<script src=\"/webfiles/1611833897141/js/node_modules/polymer-cli/polymer-polyfills.js\" async></script>\n",
              "<script src=\"/webfiles/1611833897141/js/customElements-define-dedupe.js\" async></script>\n",
              "<script nomodule src=\"/wc/ing-cms-component-library/es5/index-transformed.js\" async></script>\n",
              "<link rel=\"import\" href=\"/wc/es6/bower_components/ing-uic-cms-footer/ing-uic-cms-footer.html\"/>\n",
              "<link rel=\"import\" href=\"/wc/es6/bower_components/ing-uic-cms-breadcrumb/ing-uic-cms-breadcrumb.html\"/>\n",
              "<link rel=\"import\" href=\"/wc/es6/bower_components/ing-uic-cms-content/ing-uic-cms-content.html\"/>\n",
              "<link rel=\"import\" href=\"/wc/es6/bower_components/ing-uic-cms-cards-carousel/ing-uic-cms-cards-carousel.html\"/>\n",
              "<link rel=\"import\" href=\"/wc/es6/bower_components/ing-uic-cms-content-narrow/ing-uic-cms-content-narrow.html\"/>\n",
              "<link rel=\"import\" href=\"/wc/es6/bower_components/ing-uic-cms-products-grid/ing-uic-cms-products-grid.html\"/>\n",
              "<link rel=\"stylesheet\" href=\"\" type=\"text/css\"/>\n",
              "<title>ING | Banco online | do your thing</title>\n",
              "<meta name=\"description\" content=\"Un banco online sin comisiones para tu dÃ­a a dÃ­a con la Cuenta NÃ“MINA.\"/>\n",
              "<meta name=\"keywords\" content=\"ING , banco, online, sin comisiones, people in progress, fresh banking, fondos, hipotecas, cuentas, sin gastos\"/>\n",
              "<link rel=\"canonical\" href=\"https://www.ing.es/\"/>\n",
              "<script language=\"javascript\" type=\"text/javascript\">\n",
              "//<![CDATA[\n",
              "var utag_data = {\n",
              "pageName : \"Home\"\n",
              "}\n",
              "//]]>\n",
              "</script>\n",
              "<link rel=\"import\" href=\"/wc/es6/bower_components/ing-uic-cms-layout/ing-uic-cms-layout.html\"/>\n",
              "<link rel=\"import\" href=\"/wc/es6/bower_components/ing-uic-cms-header/ing-uic-cms-header.html\"/>\n",
              "<script src=\"/hippotealium/utag.sync.js\"></script>\n",
              "<script src=\"/webfiles/1611833897141/js/jquery/jquery-1.12.0.min.js\" type=\"text/javascript\"></script>\n",
              "<script src=\"/webfiles/1611833897141/js/hippoCommon.js\" type=\"text/javascript\" async></script>\n",
              "<script src=\"/webfiles/1611833897141/js/scrollSpy.js\" type=\"text/javascript\" async></script>\n",
              "<script src=\"/webfiles/1611833897141/js/tealium_v1.1.0.js\" type=\"module\" defer></script>\n",
              "<link rel=\"apple-touch-icon\" href=\"/webfiles/1611833897141/css/apple-touch-icon.png\" />\n",
              "</head>\n",
              "<body>\n",
              "<div style=\"width:100%\">\n",
              "<ing-uic-cms-layout path=\"/site/api-manual/ApiSearch/json/\">\n",
              "<div slot=\"header\">\n",
              "<div class=\"has-edit-button\">\n",
              "<ing-uic-cms-header data='{\n",
              "\"section\" : [ {\n",
              "\"type\" : \"logo\",\n",
              "\"title\" : \"ING, logotipo. Ir a pÃ¡gina de inicio\",\n",
              "\"href\" : \"/\",\n",
              "\"target\" : \"_self\",\n",
              "\"icon\" : \"/binaries/content/gallery/hipposp/ContentBlockImageSet/comunes/ing_leon-01.svg\",\n",
              "\"alt\" : \"ING logotipo. Ir a pÃ¡gina de inicio\"\n",
              "}, {\n",
              "\"type\" : \"menu-bar\",\n",
              "\"title\" : \"Particulares\",\n",
              "\"href\" : \"/\",\n",
              "\"target\" : \"_self\",\n",
              "\"options\" : [ {\n",
              "\"type\" : \"menu-bar\",\n",
              "\"title\" : \"NÃ³mina y tarjetas\",\n",
              "\"target\" : \"_self\",\n",
              "\"options\" : [ {\n",
              "\"type\" : \"list-link\",\n",
              "\"title\" : \"Productos\",\n",
              "\"column\" : \"1\",\n",
              "\"target\" : \"_self\",\n",
              "\"options\" : [ {\n",
              "\"type\" : \"link\",\n",
              "\"title\" : \"Cuenta NÃ“MINA\",\n",
              "\"subtitle\" : \"La cuenta sin comisiones para tu dÃ­a a dÃ­a\",\n",
              "\"href\" : \"/cuenta-nomina-ing\",\n",
              "\"target\" : \"_self\",\n",
              "\"icon\" : \"ico-heart\"\n",
              "}, {\n",
              "\"type\" : \"link\",\n",
              "\"title\" : \"Tarjetas ING\",\n",
              "\"subtitle\" : \"Con cero comisiones y con cero preocupaciones\",\n",
              "\"href\" : \"/tarjetas-ing\",\n",
              "\"target\" : \"_self\",\n",
              "\"icon\" : \"ico-creditcards\"\n",
              "} ]\n",
              "}, {\n",
              "\"type\" : \"list-link\",\n",
              "\"title\" : \"Servicios\",\n",
              "\"column\" : \"2\",\n",
              "\"target\" : \"_self\",\n",
              "\"options\" : [ {\n",
              "\"title\" : \"Cambio de moneda\",\n",
              "\"href\" : \"/cuenta-nomina-ing/cambio-moneda\",\n",
              "\"target\" : \"_self\"\n",
              "}, {\n",
              "\"type\" : \"link\",\n",
              "\"title\" : \"Shopping NARANJA\",\n",
              "\"href\" : \"/shopping-naranja\",\n",
              "\"target\" : \"_self\"\n",
              "} ]\n",
              "} ],\n",
              "\"alt\" : \"Cerrar NÃ³mina y tarjetas\"\n",
              "}, {\n",
              "\"type\" : \"menu-bar\",\n",
              "\"title\" : \"InversiÃ³n y ahorro\",\n",
              "\"subtitle\" : \"Fondos, Planes y Broker\",\n",
              "\"target\" : \"_self\",\n",
              "\"options\" : [ {\n",
              "\"type\" : \"list-link\",\n",
              "\"title\" : \"InversiÃ³n\",\n",
              "\"column\" : \"1\",\n",
              "\"target\" : \"_self\",\n",
              "\"options\" : [ {\n",
              "\"title\" : \"Ver todo inversiÃ³n y ahorro\",\n",
              "\"href\" : \"/inversion\",\n",
              "\"target\" : \"_self\"\n",
              "} ]\n",
              "}, {\n",
              "\"type\" : \"list-link\",\n",
              "\"title\" : \"Productos\",\n",
              "\"column\" : \"1\",\n",
              "\"target\" : \"_self\",\n",
              "\"options\" : [ {\n",
              "\"type\" : \"link\",\n",
              "\"title\" : \"Fondos de inversiÃ³n\",\n",
              "\"subtitle\" : \"Busca rentabilidad con un fondo que se adapta a tus necesidades\",\n",
              "\"href\" : \"/fondos-inversion\",\n",
              "\"target\" : \"_self\",\n",
              "\"icon\" : \"ico-investments-arrowup-chart\"\n",
              "}, {\n",
              "\"type\" : \"link\",\n",
              "\"title\" : \"Planes de pensiones\",\n",
              "\"subtitle\" : \"Ahorra para tu futuro con menos comisiones para que ganes mÃ¡s\",\n",
              "\"href\" : \"/planes-pensiones\",\n",
              "\"target\" : \"_self\",\n",
              "\"icon\" : \"ico-holiday-beach\"\n",
              "}, {\n",
              "\"title\" : \"Bolsa y mercados\",\n",
              "\"subtitle\" : \"Invierte con Broker NARANJA y disfruta de la mejor combinaciÃ³n de tarifas\",\n",
              "\"href\" : \"/broker\",\n",
              "\"target\" : \"_self\",\n",
              "\"icon\" : \"ico-broker-b\"\n",
              "}, {\n",
              "\"type\" : \"link\",\n",
              "\"title\" : \"Cuenta NARANJA\",\n",
              "\"subtitle\" : \"La cuenta de ahorro ideal si ya tienes una Cuenta NÃ“MINA\",\n",
              "\"href\" : \"/cuenta-naranja\",\n",
              "\"target\" : \"_self\",\n",
              "\"icon\" : \"ico-savingsgeneral-piggybank\"\n",
              "} ]\n",
              "}, {\n",
              "\"type\" : \"list-link\",\n",
              "\"title\" : \"Servicios\",\n",
              "\"column\" : \"2\",\n",
              "\"target\" : \"_self\",\n",
              "\"options\" : [ {\n",
              "\"type\" : \"link\",\n",
              "\"title\" : \"Saber mÃ¡s de inversiÃ³n\",\n",
              "\"href\" : \"/fondos-inversion/ayuda\",\n",
              "\"target\" : \"_self\"\n",
              "} ]\n",
              "} ]\n",
              "}, {\n",
              "\"type\" : \"menu-bar\",\n",
              "\"title\" : \"Hipotecas y prÃ©stamos\",\n",
              "\"subtitle\" : \"Hipotecas y PrÃ©stamos\",\n",
              "\"target\" : \"_self\",\n",
              "\"icon\" : \"ico-home-house\",\n",
              "\"options\" : [ {\n",
              "\"type\" : \"list-link\",\n",
              "\"title\" : \"Productos\",\n",
              "\"column\" : \"1\",\n",
              "\"target\" : \"_self\",\n",
              "\"options\" : [ {\n",
              "\"title\" : \"Hipotecas NARANJA\",\n",
              "\"subtitle\" : \"100 % online hasta la firma y con un gestor personal que te acompaÃ±a\",\n",
              "\"href\" : \"/hipotecas\",\n",
              "\"target\" : \"_self\",\n",
              "\"icon\" : \"ico-home-house\"\n",
              "}, {\n",
              "\"title\" : \"PrÃ©stamo NARANJA\",\n",
              "\"subtitle\" : \"Sin comisiones y sin domiciliar tu nÃ³mina\",\n",
              "\"href\" : \"/prestamos-personales\",\n",
              "\"target\" : \"_self\",\n",
              "\"icon\" : \"ico-payment-request-hand-coin\"\n",
              "} ]\n",
              "} ]\n",
              "}, {\n",
              "\"type\" : \"menu-bar\",\n",
              "\"title\" : \"Seguros\",\n",
              "\"subtitle\" : \"Seguros de Vida\",\n",
              "\"href\" : \"/seguros/seguros-vida\",\n",
              "\"target\" : \"_self\"\n",
              "}, {\n",
              "\"type\" : \"menu-bar\",\n",
              "\"title\" : \"Pago con mÃ³vil\",\n",
              "\"subtitle\" : \"Apple Pay\",\n",
              "\"href\" : \"/pago-con-movil/apple-pay\",\n",
              "\"target\" : \"_self\",\n",
              "\"options\" : [ {\n",
              "\"type\" : \"menu-bar\",\n",
              "\"title\" : \"Servicios\",\n",
              "\"target\" : \"_self\",\n",
              "\"options\" : [ {\n",
              "\"type\" : \"link\",\n",
              "\"title\" : \"Bizum\",\n",
              "\"subtitle\" : \"FÃ¡cil, rÃ¡pido y seguro. EnvÃ­a y recibe dinero en tu mÃ³vil\",\n",
              "\"href\" : \"/pago-con-movil/bizum\",\n",
              "\"target\" : \"_self\"\n",
              "}, {\n",
              "\"type\" : \"menu-bar\",\n",
              "\"title\" : \"Twyp\",\n",
              "\"subtitle\" : \"La app para pagar con tu mÃ³vil, enviar dinero a tus amigos y retirar efectivo en comercios\",\n",
              "\"href\" : \"/twyp\",\n",
              "\"target\" : \"_self\"\n",
              "}, {\n",
              "\"title\" : \"Google Pay\",\n",
              "\"subtitle\" : \"Paga con tu tarjeta ING desde tu mÃ³vil Android\",\n",
              "\"href\" : \"/pago-con-movil/google-pay\",\n",
              "\"target\" : \"_self\"\n",
              "}, {\n",
              "\"title\" : \"Apple Pay\",\n",
              "\"subtitle\" : \"Paga con tu tarjeta ING desde tu iPhone\",\n",
              "\"href\" : \"/pago-con-movil/apple-pay\",\n",
              "\"target\" : \"_self\"\n",
              "} ]\n",
              "} ]\n",
              "} ],\n",
              "\"alt\" : \"Particulares, opciÃ³n seleccionada\"\n",
              "}, {\n",
              "\"type\" : \"menu-bar\",\n",
              "\"title\" : \"Negocios\",\n",
              "\"href\" : \"/negocios\",\n",
              "\"target\" : \"_self\",\n",
              "\"alt\" : \"Para Negocios\"\n",
              "}, {\n",
              "\"type\" : \"option-bar\",\n",
              "\"title\" : \"Oficinas y cajeros\",\n",
              "\"href\" : \"/oficinas-cajeros/cajeros\",\n",
              "\"target\" : \"_self\",\n",
              "\"icon\" : \"ico-location-pin\"\n",
              "}, {\n",
              "\"type\" : \"option-bar\",\n",
              "\"title\" : \"ContÃ¡ctanos\",\n",
              "\"href\" : \"/contacto\",\n",
              "\"target\" : \"_self\",\n",
              "\"icon\" : \"ico-chat-speechbubbles-conversation\"\n",
              "}, {\n",
              "\"type\" : \"btn-bar\",\n",
              "\"title\" : \"Hazte cliente\",\n",
              "\"href\" : \"/hazte-cliente\",\n",
              "\"target\" : \"_self\",\n",
              "\"btn\" : \"outline-indigo\",\n",
              "\"eventName\" : \"clickDoCustomer\",\n",
              "\"buttonCustomer\" : \"btn:header:hazte cliente\"\n",
              "}, {\n",
              "\"type\" : \"access-bar\",\n",
              "\"title\" : \"Ã�rea Clientes\",\n",
              "\"href\" : \"/hippogenoma/pfm/#login\",\n",
              "\"target\" : \"_blank\",\n",
              "\"icon\" : \"ico-acceso-clientes-n\",\n",
              "\"btn\" : \"filled-indigo\",\n",
              "\"alt\" : \"Ã�rea Clientes [Nueva ventana]\",\n",
              "\"eventName\" : \"accessCustomer\",\n",
              "\"buttonAccess\" : \"btn:header:area clientes\"\n",
              "} ]\n",
              "}'></ing-uic-cms-header>\n",
              "</div>\n",
              "</div>\n",
              "<div slot=\"main\" id=\"main-content\">\n",
              "<h1 class=\"sr-only\">ING</h1>\n",
              "<div>\n",
              "    <div>\n",
              "                <div>\n",
              "                    \n",
              "\n",
              "                </div>\n",
              "                <div>\n",
              "                    \n",
              "<link rel=\"stylesheet\" href=\"/webfiles/1611833897141/css/flex-two-column.css\" type=\"text/css\"/>\n",
              "<div class=\"flexcolumn\">\n",
              "<div class=\"content\"><div class=\"content\">\r\n",
              "<style>\r\n",
              ".BHHPBajadaPrecioMIXTA2103,.BHHPBajadaPrecioMIXTA2103 *{box-sizing:border-box;padding:0;margin:0;font-family:\"INGMe\";color:#333}\r\n",
              ".BHHPBajadaPrecioMIXTA2103 strong,.BHHPBajadaPrecioMIXTA2103 b{font-family:\"INGMeBold\";color:inherit}\r\n",
              ".BHHPBajadaPrecioMIXTA2103.IOS-Device strong,.BHHPBajadaPrecioMIXTA2103.IOS-Device b{letter-spacing:-1px!important}\r\n",
              ".BHHPBajadaPrecioMIXTA2103{width:100%;min-width:375px;padding:0;background:#fff;position:relative;-webkit-box-shadow:0 4px 10px 0 rgb(0 0 0 / 25%);-moz-box-shadow:0 4px 10px 0 rgb(0 0 0 / 25%);box-shadow:0 4px 10px 0 rgb(0 0 0 / 25%)}\r\n",
              ".BHHPBajadaPrecioMIXTA2103 .BH-cont{width:inherit;min-width:375px;display:flex;flex-direction:column;justify-content:center}\r\n",
              "#BH-PR-2102-DYT-col01 .BH-pastilla{padding:16px 7px 4px;margin-top:-42px}\r\n",
              "#BH-PR-2102-DYT-col02{position:relative}\r\n",
              "#BH-PR-2102-DYT-col02 .BH-pastilla{padding:12px 15px 0}\r\n",
              ".BHHPBajadaPrecioMIXTA2103 h1{font-size:28px;line-height:32px;padding:0}\r\n",
              ".BHHPBajadaPrecioMIXTA2103 h2{font-size:24px;line-height:28px;padding:8px 0}\r\n",
              ".BHHPBajadaPrecioMIXTA2103 p.h3{font-size:19px;line-height:28px;padding:8px 0}\r\n",
              ".BHHPBajadaPrecioMIXTA2103 p.h4{font-size:16px;line-height:24px;padding:8px 0}\r\n",
              ".BHHPBajadaPrecioMIXTA2103 p.h5{font-size:12px;line-height:16px;padding:8px 0}\r\n",
              ".BHHPBajadaPrecioMIXTA2103 .BH-cont .BH-pastilla a.btn{margin:0 auto;background-color:#ab0066;color:#fff;font-size:19px;text-align:center;display:block;padding:10px 12px;border-radius:8px;line-height:28px;font-family:\"INGMeBold\";border:1px solid #ab0066;text-decoration:none!important}\r\n",
              ".BHHPBajadaPrecioMIXTA2103 .BH-cont .BH-pastilla a.btn-inverse{background-color:#fff;color:#ab0066}\r\n",
              ".BHHPBajadaPrecioMIXTA2103 .oculto-mb{display:none}\r\n",
              ".BHHPBajadaPrecioMIXTA2103 .BH-cont .BH-pastilla p.legal{font-size:12px;line-height:16px;margin-top:10px}\r\n",
              ".BHHPBajadaPrecioMIXTA2103 .BH-cont .BH-pastilla p.legal a{text-decoration:none;color:#525199;-webkit-text-fill-color:#525199;border-bottom:1px solid #525199;border-left:1px solid transparent;border-right:1px solid transparent}\r\n",
              ".BHHPBajadaPrecioMIXTA2103 .BH-cont .BH-pastilla ul{padding-left:0;margin:10px 0 20px}\r\n",
              ".BHHPBajadaPrecioMIXTA2103 .BH-cont .BH-pastilla ul li{font-size:16px;line-height:25px;position:relative;padding-left:24px;list-style:none;margin-bottom:8px}\r\n",
              ".BHHPBajadaPrecioMIXTA2103 .BH-cont .BH-pastilla ul li::before{color:rgb(255,98,0);content:\"î�ª\";display:block;float:left;font-family:ing-direct-icons;font-size:12px;font-weight:700;height:18px;line-height:18px;margin-left:-22px;speak:none;width:12px;-webkit-font-smoothing:antialiased;margin-top:3px}\r\n",
              ".BHHPBajadaPrecioMIXTA2103 .BH-cont .BH-pastilla p.legal a:visited{color:#ab0066;-webkit-text-fill-color:#ab0066;background-color:#ab0066;border-color:#ab0066;border-bottom:1px solid #ab0066}\r\n",
              ".BHHPBajadaPrecioMIXTA2103 .BH-cont .BH-pastilla p.legal a:visited:hover{background-color:#fedce9;border-bottom:1px solid #525199;border-left:1px solid transparent;border-right:1px solid transparent}\r\n",
              ".BHHPBajadaPrecioMIXTA2103 .BH-cont .BH-pastilla p.legal a:hover{background-color:#fedce9;border-bottom:1px solid #525199;border-left:1px solid transparent;border-right:1px solid transparent}\r\n",
              ".BHHPBajadaPrecioMIXTA2103 .BH-cont .BH-HP-titleBlock{padding:7px 12px;border-radius:6px;background-color:#ff6200;display:inline-block;margin:0 0 4px;color:#FFFFFF;white-space:nowrap}\r\n",
              ".BHHPBajadaPrecioMIXTA2103 .BH-cont .BH-botonera{margin-top:24px;margin-bottom:24px}\r\n",
              ".BHHPBajadaPrecioMIXTA2103 .BH-bgimg,.BHHPBajadaPrecioMIXTA2103 .BH-bgimg{height:232px;display:block;background-image:url(https://www.ing.es/binaries/content/gallery/hipposp/ContentBlockImageSet/hipotecas/target/21/bajadapreciomixta/bhbajadapreciohipotecamixtamobile.jpg);background-repeat:no-repeat;background-size:cover;border-radius:0 0 20px 20px;background-position:center}\r\n",
              "#BH-PR-2102-DYT-col01{width:100%;position:relative}\r\n",
              "@media screen and (min-width: 59.25em) {\r\n",
              ".BHHPBajadaPrecioMIXTA2103 .BH-cont{flex-direction:row;justify-content:flex-start;height:100%}\r\n",
              "#BH-PR-2102-DYT-col01 .BH-pastilla{padding:16px 0;margin-top:0;margin-right:30px;z-index:15}\r\n",
              "#BH-PR-2102-DYT-col02 .BH-pastilla{padding:16px 0}\r\n",
              ".BHHPBajadaPrecioMIXTA2103 h1{font-size:36px;line-height:40px;text-align:right}\r\n",
              ".BHHPBajadaPrecioMIXTA2103 .BH-cont .BH-HP-titleBlock{padding:8px 16px}\r\n",
              ".BHHPBajadaPrecioMIXTA2103 .BH-cont .BH-botonera{margin-top:0;margin-bottom:0}\r\n",
              ".BHHPBajadaPrecioMIXTA2103 .oculto-mb{display:block}\r\n",
              ".BHHPBajadaPrecioMIXTA2103 .oculto-dk{display:none}\r\n",
              ".BHHPBajadaPrecioMIXTA2103 .BH-cont .BH-HP-titleBlock:nth-of-type(2){margin-right:9px}\r\n",
              ".BHHPBajadaPrecioMIXTA2103 .BH-cont .BH-HP-titleBlock:nth-of-type(3){margin-right:3px}\r\n",
              ".BHHPBajadaPrecioMIXTA2103 .BH-cont .BH-pastilla a.btn{margin:10px 10px 10px 0;width:auto;display:inline-block;font-size:19px;border:1px solid #ab0066;text-decoration:none!important}\r\n",
              ".BHHPBajadaPrecioMIXTA2103 .BH-cont .BH-pastilla a.btn:hover{background-color:#fff;color:#ab0066;border:1px solid #ab0066;text-decoration:none!important}\r\n",
              ".BHHPBajadaPrecioMIXTA2103 .BH-cont .BH-pastilla a.btn-inverse:hover{background-color:#ab0066;color:#fff;border:1px solid #ab0066;text-decoration:none!important}\r\n",
              ".BHHPBajadaPrecioMIXTA2103{height:496px}\r\n",
              ".BHHPBajadaPrecioMIXTA2103 .BH-bgimg{z-index:10;background-image:url(https://www.ing.es/binaries/content/gallery/hipposp/ContentBlockImageSet/hipotecas/target/21/bajadapreciomixta/bhbajadapreciohipotecamixtadesktop.jpg);background-position:top center;background-size:cover;background-repeat:no-repeat;height:100%;border-radius:0 8px 8px 0;width:100%;height:100%;position:absolute;overflow:hidden}\r\n",
              "#BH-PR-2102-DYT-col01{display:flex;align-items:center;justify-content:flex-end;height:100%;flex-grow:1}\r\n",
              "#BH-PR-2102-DYT-col02{flex-basis:calc((50vw - 567px) + 1270px);min-width:375px;flex-grow:0;display:flex;align-items:center;justify-content:flex-start;padding:15px 0 15px 40px}\r\n",
              "}\r\n",
              "@media screen and (min-width: 30em) {\r\n",
              ".BHHPBajadaPrecioMIXTA2103 .oculto-mb{display:block}\r\n",
              ".BHHPBajadaPrecioMIXTA2103 .oculto-dk{display:none}\r\n",
              ".BHHPBajadaPrecioMIXTA2103 .BH-cont .BH-pastilla a.btn{display:inline-block}\r\n",
              "}\r\n",
              ".bajadapreciopastillapointer{width:140px;height:140px;background-image:url(https://www.ing.es/binaries/content/gallery/hipposp/ContentBlockImageSet/hipotecas/target/21/bajadapreciomixta/bajada-precio-hipoteca-mixta-pointer.svg);background-size:contain;background-repeat:no-repeat;background-position:center top;color:#fff!important;font-size:1px;text-align:center;z-index:12;justify-content:center;flex-direction:column;padding:28px 17px 35px 15px;box-sizing:border-box;position:absolute;bottom:30px;left:20px}\r\n",
              ".bajadapreciopastillapointer span.textpromo,.bajadapreciopastillapointer span.textpromo *{font-size:20px;font-stretch:normal;font-style:normal;line-height:28px;letter-spacing:.23px;text-align:center;color:#fff!important}\r\n",
              "@media screen and (min-width: 59.25em) {\r\n",
              ".bajadapreciopastillapointer{bottom:auto;top:180px;left:auto;right:40px}\r\n",
              "}\r\n",
              "</style>\r\n",
              "<div class=\"BHHPBajadaPrecioMIXTA2103\" id=\"BHHPBajadaPrecioMIXTA2103\" role=\"img\" title=\"Rebajas - PrÃ©stamo NARANJA\" aria-label=\"Rebajas - PrÃ©stamo NARANJA\">\r\n",
              "<div class=\"BH-cont\">\r\n",
              "<div id=\"BH-PR-2102-DYT-col01\">\r\n",
              "<div class=\"BH-bgimg\"></div>\r\n",
              "<div class=\"bajadapreciopastillapointer\"> <span class=\"textpromo\"><strong>Bajamos<br>aÃºn mÃ¡s<br>el precio</strong></span></div>\r\n",
              "</div>\r\n",
              "<div id=\"BH-PR-2102-DYT-col02\">\r\n",
              "<div class=\"BH-pastilla\">\r\n",
              "<h2><b>Hipoteca NARANJA Mixta</b></h2>\r\n",
              "<p class=\"h3\">Lo bueno de la fija y las ventajas de la variable <br class=\"oculto-mb\">en una sola hipoteca</p>\r\n",
              "<ul>\r\n",
              "<li>Con la tranquilidad de que tu cuota no cambia durante 10 aÃ±os</li>\r\n",
              "<li>Con un gestor personal de principio a fin</li>\r\n",
              "<li>Y como siempre, sin comisiones</li>\r\n",
              "</ul>\r\n",
              "<div class=\"BH-botonera\">\r\n",
              "<a href=\"https://www.ing.es/hipotecas/hipoteca-mixta\" class=\"btn\" title=\"Hipoteca NARANJA Mixta Baja de Precio\" aria-label=\"Hipoteca NARANJA Mixta Baja de Precio\" onclick=\"utag.link({\\'itHome_click\\':\\'home:banner:posicion_1:hipotecas:mas informacion\\',\\'event_name\\':\\'clickHome\\'})\"><strong>MÃ¡s informaciÃ³n</strong></a>\r\n",
              "</div>\r\n",
              "</div>\r\n",
              "</div>\r\n",
              "</div>\r\n",
              "</div>\r\n",
              "</div></div>\n",
              "</div>\n",
              "                </div>\n",
              "                <div>\n",
              "                    \n",
              "<div style=\"background-color: #FFFFFF;\">\n",
              "<div id=\"home/distribuidora-enero-2019\" name=\"home/distribuidora-enero-2019\" class=\"flexCentro\">\n",
              "<div class=\"title\"></div>\n",
              "<ing-uic-cms-products-grid\n",
              "api='/site/api/documents/21907ad9-5ac9-41c2-8a09-37bb7d504cc8'\n",
              "theme = 'secondary'\n",
              "baseapi = '/hippogenoma/' >\n",
              "</ing-uic-cms-products-grid>\n",
              "</div>\n",
              "</div>\n",
              "                </div>\n",
              "                <div>\n",
              "                    \n",
              "<div style=\"background-color: #FFFFFF;\">\n",
              "<div id=\"home/destacado-do-your-thing\" name=\"home/destacado-do-your-thing\" class=\"flexCentro\">\n",
              "<div class=\"title\"></div>\n",
              "<ing-uic-cms-content\n",
              "api='/site/api/documents/41668ff2-ae47-4336-a67d-4fb5c2f20d38'\n",
              "theme = 'secondary'\n",
              "baseapi = '/hippogenoma/' >\n",
              "</ing-uic-cms-content>\n",
              "</div>\n",
              "</div>\n",
              "                </div>\n",
              "                <div>\n",
              "                    \n",
              "<div style=\"background-color: #FFFFFF;\">\n",
              "<div id=\"home/cero-comisiones-en-miles-de-cajeros\" name=\"home/cero-comisiones-en-miles-de-cajeros\" class=\"flexSmallMargin\">\n",
              "<div class=\"title\"></div>\n",
              "<ing-uic-cms-content-narrow\n",
              "api='/site/api/documents/ef657f8c-5330-4618-bd59-4147da8aa47b'\n",
              "theme = 'secondary'\n",
              "baseapi = '/hippogenoma/' >\n",
              "</ing-uic-cms-content-narrow>\n",
              "</div>\n",
              "</div>\n",
              "                </div>\n",
              "                <div>\n",
              "                    \n",
              "<div style=\"background-color: #FFFFFF;\">\n",
              "<div id=\"home/abre-una-cuenta-nomina\" name=\"home/abre-una-cuenta-nomina\" class=\"flexCentro\">\n",
              "<div class=\"title\"></div>\n",
              "<ing-uic-cms-cards-carousel\n",
              "api='/site/api/documents/d0290a36-65fa-4def-97e2-1dc7ad944744'\n",
              "theme = 'secondary'\n",
              "baseapi = '/hippogenoma/' >\n",
              "</ing-uic-cms-cards-carousel>\n",
              "</div>\n",
              "</div>\n",
              "                </div>\n",
              "                <div>\n",
              "                    \n",
              "<div style=\"background-color: #FFFFFF;\">\n",
              "<div id=\"home/hazte-cliente\" name=\"home/hazte-cliente\" class=\"flexSmallMargin\">\n",
              "<div class=\"title\"></div>\n",
              "<ing-uic-cms-content\n",
              "api='/site/api/documents/d322f6bc-19ce-4481-940c-c494e4cd5eaf'\n",
              "theme = 'secondary'\n",
              "baseapi = '/hippogenoma/' >\n",
              "</ing-uic-cms-content>\n",
              "</div>\n",
              "</div>\n",
              "                </div>\n",
              "                <div>\n",
              "                    \n",
              "\n",
              "<ing-uic-cms-breadcrumb path='[ {\n",
              "\"title\" : \"ING\",\n",
              "\"href\" : \"\",\n",
              "\"alt\" : \"ING\"\n",
              "} ]'></ing-uic-cms-breadcrumb>\n",
              "                </div>\n",
              "                <div>\n",
              "                    \n",
              "\n",
              "<ing-uic-cms-footer data='{\n",
              "\"columnaLinks\" : {\n",
              "\"type\" : \"simple\",\n",
              "\"groups\" : [ {\n",
              "\"title\" : \"Â¿Necesitas ayuda?\",\n",
              "\"links\" : [ {\n",
              "\"text\" : \"Oficinas y cajeros\",\n",
              "\"href\" : \"/oficinas-cajeros/cajeros\",\n",
              "\"target\" : \"_self\",\n",
              "\"altHref\" : \"Oficinas y cajeros\"\n",
              "}, {\n",
              "\"text\" : \"Preguntas Frecuentes\",\n",
              "\"href\" : \"/sobre-ing/preguntas-frecuentes\",\n",
              "\"target\" : \"_self\",\n",
              "\"altHref\" : \"Preguntas frecuentes\"\n",
              "}, {\n",
              "\"text\" : \"ContÃ¡ctanos\",\n",
              "\"href\" : \"/contacto\",\n",
              "\"target\" : \"_self\",\n",
              "\"altHref\" : \"ContÃ¡ctanos\"\n",
              "}, {\n",
              "\"text\" : \"Acceso negocios\",\n",
              "\"href\" : \"/hippogenoma/SME/Transactional/faces/default\",\n",
              "\"target\" : \"_blank\",\n",
              "\"altHref\" : \"Acceso negocios, abre en ventana nueva\"\n",
              "} ],\n",
              "\"boxes\" : [ ]\n",
              "}, {\n",
              "\"title\" : \"Sobre ING\",\n",
              "\"links\" : [ {\n",
              "\"text\" : \"ConÃ³cenos\",\n",
              "\"href\" : \"/sobre-ing\",\n",
              "\"target\" : \"_self\",\n",
              "\"altHref\" : \"ConÃ³cenos\"\n",
              "}, {\n",
              "\"text\" : \"Hazte cliente\",\n",
              "\"href\" : \"/hazte-cliente\",\n",
              "\"target\" : \"_self\",\n",
              "\"altHref\" : \"Hazte cliente\"\n",
              "}, {\n",
              "\"text\" : \"Trabaja con nosotros\",\n",
              "\"href\" : \"/sobre-ing/trabaja-con-nosotros\",\n",
              "\"target\" : \"_self\",\n",
              "\"altHref\" : \"Trabaja con nosotros\"\n",
              "}, {\n",
              "\"text\" : \"Sala de prensa\",\n",
              "\"href\" : \"/sobre-ing/sala-prensa\",\n",
              "\"target\" : \"_self\",\n",
              "\"altHref\" : \"Sala de prensa\"\n",
              "}, {\n",
              "\"text\" : \"Accesibilidad\",\n",
              "\"href\" : \"/accesibilidad\",\n",
              "\"target\" : \"_self\",\n",
              "\"altHref\" : \"Accesibilidad\"\n",
              "}, {\n",
              "\"text\" : \"Banca responsable\",\n",
              "\"href\" : \"/sobre-ing/sostenibilidad\",\n",
              "\"target\" : \"_self\",\n",
              "\"altHref\" : \"Banca responsable\"\n",
              "} ],\n",
              "\"boxes\" : [ ]\n",
              "} ]\n",
              "},\n",
              "\"columnaIconos\" : {\n",
              "\"type\" : \"social\",\n",
              "\"title\" : \"Aplicaciones y redes sociales\",\n",
              "\"stores\" : [ {\n",
              "\"href\" : \"https://itunes.apple.com/es/app/ing-direct-espana.-banca-movil/id774858627?mt=8\",\n",
              "\"icon\" : \"ios\",\n",
              "\"target\" : \"_blank\",\n",
              "\"altIcon\" : \"DescÃ¡rgate la app para iOS\",\n",
              "\"altHref\" : \"DescÃ¡rgate la app para iOs, abre en nueva ventana\"\n",
              "}, {\n",
              "\"href\" : \"https://play.google.com/store/apps/details?id=www.ingdirect.nativeframe\",\n",
              "\"icon\" : \"android\",\n",
              "\"target\" : \"_blank\",\n",
              "\"altIcon\" : \"DescÃ¡rgate la app para Android\",\n",
              "\"altHref\" : \"DescÃ¡rgate la app para Android, abre en nueva ventana\"\n",
              "} ],\n",
              "\"text\" : \"SÃ­guenos en:\",\n",
              "\"social\" : [ {\n",
              "\"href\" : \"https://www.facebook.com/ingespana\",\n",
              "\"icon\" : \"ico-facebook\",\n",
              "\"target\" : \"_blank\",\n",
              "\"altIcon\" : \"Facebook\",\n",
              "\"altHref\" : \"Facebook, abre en nueva ventana\"\n",
              "}, {\n",
              "\"href\" : \"https://twitter.com/ing_es\",\n",
              "\"icon\" : \"ico-twitter\",\n",
              "\"target\" : \"_blank\",\n",
              "\"altIcon\" : \"Twitter\",\n",
              "\"altHref\" : \"Twitter, abre en nueva ventana\"\n",
              "}, {\n",
              "\"href\" : \"https://www.youtube.com/c/ingespana\",\n",
              "\"icon\" : \"ico-youtube\",\n",
              "\"target\" : \"_blank\",\n",
              "\"altIcon\" : \"Youtube\",\n",
              "\"altHref\" : \"Youtube, abre en nueva ventana\"\n",
              "}, {\n",
              "\"href\" : \"https://www.linkedin.com/company/ing-espana-portugal\",\n",
              "\"icon\" : \"ico-linkedin\",\n",
              "\"target\" : \"_blank\",\n",
              "\"altIcon\" : \"Linkedin\",\n",
              "\"altHref\" : \"Linkedin, abre en nueva ventana\"\n",
              "}, {\n",
              "\"href\" : \"http://www.ennaranja.com/\",\n",
              "\"icon\" : \"ico-blog\",\n",
              "\"target\" : \"_blank\",\n",
              "\"altIcon\" : \"Blog Ennaranja\",\n",
              "\"altHref\" : \"Ennaranja, abre en nueva ventana\"\n",
              "}, {\n",
              "\"href\" : \"https://www.instagram.com/ing_espana\",\n",
              "\"icon\" : \"ico-instagram\",\n",
              "\"target\" : \"_blank\",\n",
              "\"altIcon\" : \"Instagram\",\n",
              "\"altHref\" : \"Instagram, abre en nueva ventana\"\n",
              "} ]\n",
              "},\n",
              "\"informacionLegal\" : {\n",
              "\"type\" : \"link-bar\",\n",
              "\"links\" : [ {\n",
              "\"text\" : \"Privacidad y Cookies\",\n",
              "\"href\" : \"/cookies\",\n",
              "\"target\" : \"_self\",\n",
              "\"altHref\" : \"PolÃ­tica de cookies\"\n",
              "}, {\n",
              "\"text\" : \"Seguridad\",\n",
              "\"href\" : \"/sobre-ing/seguridad-internet\",\n",
              "\"target\" : \"_self\",\n",
              "\"altHref\" : \"Seguridad\"\n",
              "}, {\n",
              "\"text\" : \"Info Legal, Anexos y Reclamaciones\",\n",
              "\"href\" : \"/sobre-ing/informacion-legal\",\n",
              "\"target\" : \"_self\",\n",
              "\"altHref\" : \"Info Legal, Anexos y Reclamaciones\"\n",
              "}, {\n",
              "\"text\" : \"Aviso Legal\",\n",
              "\"href\" : \"/sobre-ing/aviso-legal\",\n",
              "\"target\" : \"_self\",\n",
              "\"altHref\" : \"Aviso Legal\"\n",
              "}, {\n",
              "\"text\" : \"Mapa\",\n",
              "\"href\" : \"/sobre-ing/mapa-sitio\",\n",
              "\"target\" : \"_self\",\n",
              "\"altHref\" : \"Mapa\"\n",
              "}, {\n",
              "\"text\" : \"Gobierno corporativo y polÃ­tica de remuneraciones\",\n",
              "\"href\" : \"https://www.ing.com/About-us/Corporate-Governance/Legal-structure-and-Regulators.htm\",\n",
              "\"target\" : \"_blank\",\n",
              "\"altHref\" : \"Gobierno corporativo y polÃ­tica de remuneraciones, abre en nueva ventana\"\n",
              "} ]\n",
              "},\n",
              "\"accesibilidad\" : {\n",
              "\"href\" : \"http://certiaccesibilidad.technosite.es/Recursos/Certificado.aspx?codigo=smgbreirsvmbxpyhgxyh751933045SMGBREIRSVMBXPYHGXYHG\",\n",
              "\"icon\" : \"icon-accesibilidad\",\n",
              "\"target\" : \"_blank\",\n",
              "\"altIcon\" : \"Accesibilidad\",\n",
              "\"altHref\" : \"Ilunion TecnologÃ­a y Accesibilidad, CertificaciÃ³n WCAG - WAI AA, abre en nueva ventana\"\n",
              "}\n",
              "}'></ing-uic-cms-footer>\n",
              "                </div>\n",
              "    </div>\n",
              "\n",
              "</div>\n",
              "</div>\n",
              "<div slot=\"footer\">\n",
              "    <div>\n",
              "    </div>\n",
              "\n",
              "</div>\n",
              "</ing-uic-cms-layout>\n",
              "</div>\n",
              "<script language=\"javascript\" type=\"text/javascript\">\n",
              "(function(a,b,c,d){\n",
              "a='/hippotealium/utag.js';\n",
              "b=document;c='script';d=b.createElement(c);d.src=a;d.type='text/java'+c;d.async=\n",
              "true;\n",
              "a=b.getElementsByTagName(c)[0];a.parentNode.insertBefore(d,a);\n",
              "})();\n",
              "</script>\n",
              "</body>\n",
              "</html>"
            ]
          },
          "metadata": {
            "tags": []
          },
          "execution_count": 31
        }
      ]
    },
    {
      "cell_type": "code",
      "metadata": {
        "id": "parliamentary-breeding",
        "outputId": "f763555c-1361-4a58-b45e-8136a73e5539"
      },
      "source": [
        "// Getting a URL and parsing the JSON response\n",
        "\n",
        "def baseUrl = 'https://www.ing.es/'\n",
        "def jsonSlurper = new groovy.json.JsonSlurper()\n",
        "def result = jsonSlurper.parseText(baseUrl.toURL().text)"
      ],
      "id": "parliamentary-breeding",
      "execution_count": null,
      "outputs": [
        {
          "output_type": "error",
          "ename": "groovy.json.JsonException",
          "evalue": " Unable to determine the current character, it is not a string, number, array, or object",
          "traceback": [
            "\u001b[1;31mgroovy.json.JsonException: Unable to determine the current character, it is not a string, number, array, or object\u001b[0;0m",
            "\u001b[1;31m\u001b[0;0m",
            "\u001b[1;31mThe current character read is '<' with an int value of 60\u001b[0;0m",
            "\u001b[1;31mUnable to determine the current character, it is not a string, number, array, or object\u001b[0;0m",
            "\u001b[1;31mline number 1\u001b[0;0m",
            "\u001b[1;31mindex number 0\u001b[0;0m",
            "\u001b[1;31m<!doctype html>\u001b[0;0m",
            "\u001b[1;31m^\u001b[0;0m",
            "\u001b[1;31m\tat org.apache.groovy.json.internal.JsonParserCharArray.decodeValueInternal(JsonParserCharArray.java:202)\u001b[0;0m",
            "\u001b[1;31m\tat org.apache.groovy.json.internal.JsonParserCharArray.decodeValue(JsonParserCharArray.java:153)\u001b[0;0m",
            "\u001b[1;31m\tat org.apache.groovy.json.internal.JsonParserCharArray.decodeFromChars(JsonParserCharArray.java:42)\u001b[0;0m",
            "\u001b[1;31m\tat org.apache.groovy.json.internal.JsonParserCharArray.parse(JsonParserCharArray.java:380)\u001b[0;0m",
            "\u001b[1;31m\tat org.apache.groovy.json.internal.BaseJsonParser.parse(BaseJsonParser.java:110)\u001b[0;0m",
            "\u001b[1;31m\tat this cell line 5\u001b[0;0m",
            "\u001b[0;31m\tat com.twosigma.beakerx.groovy.evaluator.GroovyCodeRunner.runScript(GroovyCodeRunner.java:94)\u001b[0;0m",
            "\u001b[0;31m\tat com.twosigma.beakerx.groovy.evaluator.GroovyCodeRunner.call(GroovyCodeRunner.java:59)\u001b[0;0m",
            "\u001b[0;31m\tat com.twosigma.beakerx.groovy.evaluator.GroovyCodeRunner.call(GroovyCodeRunner.java:32)\u001b[0;0m"
          ]
        }
      ]
    },
    {
      "cell_type": "code",
      "metadata": {
        "id": "strategic-extension",
        "outputId": "e7f70ed1-290d-41b2-ecb3-91097fdb5b3a"
      },
      "source": [
        "def baseUrl = 'https://www.ing.es/'\n",
        "def result = new groovy.json.JsonSlurper().parseText(baseUrl.toURL().text)"
      ],
      "id": "strategic-extension",
      "execution_count": null,
      "outputs": [
        {
          "output_type": "error",
          "ename": "groovy.json.JsonException",
          "evalue": " Unable to determine the current character, it is not a string, number, array, or object",
          "traceback": [
            "\u001b[1;31mgroovy.json.JsonException: Unable to determine the current character, it is not a string, number, array, or object\u001b[0;0m",
            "\u001b[1;31m\u001b[0;0m",
            "\u001b[1;31mThe current character read is '<' with an int value of 60\u001b[0;0m",
            "\u001b[1;31mUnable to determine the current character, it is not a string, number, array, or object\u001b[0;0m",
            "\u001b[1;31mline number 1\u001b[0;0m",
            "\u001b[1;31mindex number 0\u001b[0;0m",
            "\u001b[1;31m<!doctype html>\u001b[0;0m",
            "\u001b[1;31m^\u001b[0;0m",
            "\u001b[1;31m\tat org.apache.groovy.json.internal.JsonParserCharArray.decodeValueInternal(JsonParserCharArray.java:202)\u001b[0;0m",
            "\u001b[1;31m\tat org.apache.groovy.json.internal.JsonParserCharArray.decodeValue(JsonParserCharArray.java:153)\u001b[0;0m",
            "\u001b[1;31m\tat org.apache.groovy.json.internal.JsonParserCharArray.decodeFromChars(JsonParserCharArray.java:42)\u001b[0;0m",
            "\u001b[1;31m\tat org.apache.groovy.json.internal.JsonParserCharArray.parse(JsonParserCharArray.java:380)\u001b[0;0m",
            "\u001b[1;31m\tat org.apache.groovy.json.internal.BaseJsonParser.parse(BaseJsonParser.java:110)\u001b[0;0m",
            "\u001b[1;31m\tat this cell line 2\u001b[0;0m",
            "\u001b[0;31m\tat com.twosigma.beakerx.groovy.evaluator.GroovyCodeRunner.runScript(GroovyCodeRunner.java:94)\u001b[0;0m",
            "\u001b[0;31m\tat com.twosigma.beakerx.groovy.evaluator.GroovyCodeRunner.call(GroovyCodeRunner.java:59)\u001b[0;0m",
            "\u001b[0;31m\tat com.twosigma.beakerx.groovy.evaluator.GroovyCodeRunner.call(GroovyCodeRunner.java:32)\u001b[0;0m"
          ]
        }
      ]
    },
    {
      "cell_type": "code",
      "metadata": {
        "id": "tired-clock",
        "outputId": "3bb68447-ae05-48a5-cb50-078b8f3d42de"
      },
      "source": [
        "// Setting a time out on requests\n",
        "\n",
        "def baseUrl = 'https://some/url/'\n",
        "def result = new groovy.json.JsonSlurper().parseText(baseUrl.toURL().getText([connectTimeout: 2000, readTimeout: 2000]))"
      ],
      "id": "tired-clock",
      "execution_count": null,
      "outputs": [
        {
          "output_type": "error",
          "ename": "java.net.UnknownHostException",
          "evalue": " some",
          "traceback": [
            "\u001b[1;31mjava.net.UnknownHostException: some\u001b[0;0m",
            "\u001b[1;31m\tat this cell line 4\u001b[0;0m",
            "\u001b[0;31m\tat com.twosigma.beakerx.groovy.evaluator.GroovyCodeRunner.runScript(GroovyCodeRunner.java:94)\u001b[0;0m",
            "\u001b[0;31m\tat com.twosigma.beakerx.groovy.evaluator.GroovyCodeRunner.call(GroovyCodeRunner.java:59)\u001b[0;0m",
            "\u001b[0;31m\tat com.twosigma.beakerx.groovy.evaluator.GroovyCodeRunner.call(GroovyCodeRunner.java:32)\u001b[0;0m"
          ]
        }
      ]
    },
    {
      "cell_type": "code",
      "metadata": {
        "id": "medical-footwear",
        "outputId": "b3dd6080-b67e-483d-f2e9-9d43219a58ad"
      },
      "source": [
        "\"\"\"\n",
        "If it takes a long time for Teneo to respond and you see an error like this in Try-out: Script action execution failed: \n",
        "Maximum execution time exceeded, but forced script termination failed, the cause is often a call to an online api that is slow or doesn't respond.\n",
        "Setting a timeout will prevent this error. Howver, you will still need to make sure that your script or flow gracefully handles the fact that it did not \n",
        "receive a repsonse in time.\n",
        "\"\"\""
      ],
      "id": "medical-footwear",
      "execution_count": null,
      "outputs": [
        {
          "output_type": "execute_result",
          "data": {
            "text/plain": [
              "\n",
              "If it takes a long time for Teneo to respond and you see an error like this in Try-out: Script action execution failed:\n",
              "Maximum execution time exceeded, but forced script termination failed, the cause is often a call to an online api that is slow or doesn't respond.\n",
              "Setting a timeout will prevent this error. Howver, you will still need to make sure that your script or flow gracefully handles the fact that it did not\n",
              "receive a repsonse in time.\n"
            ]
          },
          "metadata": {
            "tags": []
          },
          "execution_count": 35
        }
      ]
    },
    {
      "cell_type": "code",
      "metadata": {
        "id": "exceptional-jason"
      },
      "source": [
        ""
      ],
      "id": "exceptional-jason",
      "execution_count": null,
      "outputs": []
    }
  ]
}